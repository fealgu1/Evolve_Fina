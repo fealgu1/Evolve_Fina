{
 "cells": [
  {
   "cell_type": "code",
   "execution_count": 3,
   "metadata": {},
   "outputs": [
    {
     "name": "stdout",
     "output_type": "stream",
     "text": [
      "[*********************100%***********************]  50 of 50 completed\n"
     ]
    }
   ],
   "source": [
    "import pandas as pd\n",
    "data = pd.read_csv('list.csv', header=None)\n",
    "ticker = data.values.T[0].tolist()\n",
    "\n",
    "from pandas_datareader import data as pdr\n",
    "\n",
    "#ticker = ['FCX']#'STX','J','GD','KTOS','RRD','NBR','PDCE','NBL','OAS','XOG']\n",
    "import yfinance as yf\n",
    "yf.pdr_override() # <== that's all it takes :-)\n",
    "\n",
    "# download dataframe using pandas_datareader\n",
    "dat = pdr.get_data_yahoo(ticker, start=\"2021-10-14\", end=\"2023-02-11\")\n"
   ]
  },
  {
   "cell_type": "code",
   "execution_count": 3,
   "metadata": {},
   "outputs": [
    {
     "data": {
      "text/html": [
       "<div>\n",
       "<style scoped>\n",
       "    .dataframe tbody tr th:only-of-type {\n",
       "        vertical-align: middle;\n",
       "    }\n",
       "\n",
       "    .dataframe tbody tr th {\n",
       "        vertical-align: top;\n",
       "    }\n",
       "\n",
       "    .dataframe thead tr th {\n",
       "        text-align: left;\n",
       "    }\n",
       "\n",
       "    .dataframe thead tr:last-of-type th {\n",
       "        text-align: right;\n",
       "    }\n",
       "</style>\n",
       "<table border=\"1\" class=\"dataframe\">\n",
       "  <thead>\n",
       "    <tr>\n",
       "      <th></th>\n",
       "      <th colspan=\"10\" halign=\"left\">Adj Close</th>\n",
       "      <th>...</th>\n",
       "      <th colspan=\"10\" halign=\"left\">Volume</th>\n",
       "    </tr>\n",
       "    <tr>\n",
       "      <th></th>\n",
       "      <th>ATVI</th>\n",
       "      <th>BA</th>\n",
       "      <th>BAC</th>\n",
       "      <th>BAH</th>\n",
       "      <th>BBY</th>\n",
       "      <th>BCS</th>\n",
       "      <th>BFH</th>\n",
       "      <th>BP</th>\n",
       "      <th>C</th>\n",
       "      <th>CE</th>\n",
       "      <th>...</th>\n",
       "      <th>TGT</th>\n",
       "      <th>THO</th>\n",
       "      <th>TWTR</th>\n",
       "      <th>UAL</th>\n",
       "      <th>WBA</th>\n",
       "      <th>WBD</th>\n",
       "      <th>WGO</th>\n",
       "      <th>WMT</th>\n",
       "      <th>WSM</th>\n",
       "      <th>XBI</th>\n",
       "    </tr>\n",
       "    <tr>\n",
       "      <th>Date</th>\n",
       "      <th></th>\n",
       "      <th></th>\n",
       "      <th></th>\n",
       "      <th></th>\n",
       "      <th></th>\n",
       "      <th></th>\n",
       "      <th></th>\n",
       "      <th></th>\n",
       "      <th></th>\n",
       "      <th></th>\n",
       "      <th></th>\n",
       "      <th></th>\n",
       "      <th></th>\n",
       "      <th></th>\n",
       "      <th></th>\n",
       "      <th></th>\n",
       "      <th></th>\n",
       "      <th></th>\n",
       "      <th></th>\n",
       "      <th></th>\n",
       "      <th></th>\n",
       "    </tr>\n",
       "  </thead>\n",
       "  <tbody>\n",
       "    <tr>\n",
       "      <th>2023-01-20</th>\n",
       "      <td>73.839996</td>\n",
       "      <td>206.759995</td>\n",
       "      <td>33.849998</td>\n",
       "      <td>93.739998</td>\n",
       "      <td>82.669998</td>\n",
       "      <td>8.96</td>\n",
       "      <td>38.880001</td>\n",
       "      <td>35.5</td>\n",
       "      <td>51.09</td>\n",
       "      <td>121.589996</td>\n",
       "      <td>...</td>\n",
       "      <td>3122000</td>\n",
       "      <td>958600</td>\n",
       "      <td>NaN</td>\n",
       "      <td>9428700</td>\n",
       "      <td>5596000</td>\n",
       "      <td>18426400</td>\n",
       "      <td>615200</td>\n",
       "      <td>9841500</td>\n",
       "      <td>763500</td>\n",
       "      <td>9731500</td>\n",
       "    </tr>\n",
       "  </tbody>\n",
       "</table>\n",
       "<p>1 rows × 300 columns</p>\n",
       "</div>"
      ],
      "text/plain": [
       "            Adj Close                                                     \\\n",
       "                 ATVI          BA        BAC        BAH        BBY   BCS   \n",
       "Date                                                                       \n",
       "2023-01-20  73.839996  206.759995  33.849998  93.739998  82.669998  8.96   \n",
       "\n",
       "                                                ...   Volume               \\\n",
       "                  BFH    BP      C          CE  ...      TGT     THO TWTR   \n",
       "Date                                            ...                         \n",
       "2023-01-20  38.880001  35.5  51.09  121.589996  ...  3122000  958600  NaN   \n",
       "\n",
       "                                                                          \n",
       "                UAL      WBA       WBD     WGO      WMT     WSM      XBI  \n",
       "Date                                                                      \n",
       "2023-01-20  9428700  5596000  18426400  615200  9841500  763500  9731500  \n",
       "\n",
       "[1 rows x 300 columns]"
      ]
     },
     "execution_count": 3,
     "metadata": {},
     "output_type": "execute_result"
    }
   ],
   "source": [
    "dat.tail(1)"
   ]
  },
  {
   "cell_type": "code",
   "execution_count": 5,
   "metadata": {},
   "outputs": [],
   "source": [
    "list = dat['Close'].T\n",
    "a = list.T.tail(1)#.to_csv('opt_exss.csv')\n",
    "a.T.to_csv('option_1.csv')"
   ]
  },
  {
   "cell_type": "code",
   "execution_count": 3,
   "metadata": {},
   "outputs": [
    {
     "data": {
      "text/plain": [
       "['M',\n",
       " 'HUN',\n",
       " 'VOYA',\n",
       " 'CVS',\n",
       " 'NUS',\n",
       " 'ATVI',\n",
       " 'IWN',\n",
       " 'GE',\n",
       " 'R',\n",
       " 'BAH',\n",
       " 'CNK',\n",
       " 'PFE',\n",
       " 'PLTR',\n",
       " 'UAL',\n",
       " 'PAGS',\n",
       " 'UAL',\n",
       " 'ADS',\n",
       " 'UAL',\n",
       " 'AMC',\n",
       " 'DAL',\n",
       " 'BABA',\n",
       " 'PLTR',\n",
       " 'PFE',\n",
       " 'CVS',\n",
       " 'CNK',\n",
       " 'BAH',\n",
       " 'HAIN',\n",
       " 'MT',\n",
       " 'BC',\n",
       " 'BHC',\n",
       " 'FDX',\n",
       " 'BG',\n",
       " 'ABBV',\n",
       " 'F',\n",
       " 'BG',\n",
       " 'IBM',\n",
       " 'WRK',\n",
       " 'UBER',\n",
       " 'CRUS',\n",
       " 'WFC',\n",
       " 'WGO',\n",
       " 'BGS',\n",
       " 'SMG',\n",
       " 'UCBI',\n",
       " 'FANG',\n",
       " 'GM',\n",
       " 'VIAC',\n",
       " 'FL',\n",
       " 'WGO',\n",
       " 'TSN',\n",
       " 'DB',\n",
       " 'DKNG',\n",
       " 'GE',\n",
       " 'AAPL',\n",
       " 'CRUS',\n",
       " 'NCR',\n",
       " 'V',\n",
       " 'WYNN',\n",
       " 'VOYA',\n",
       " 'EOG',\n",
       " 'F',\n",
       " 'BIG',\n",
       " 'GT',\n",
       " 'BWA',\n",
       " 'PII',\n",
       " 'PVAC',\n",
       " 'SNY',\n",
       " 'CSCO',\n",
       " 'MCFE',\n",
       " 'STX',\n",
       " 'IVZ',\n",
       " 'DHI',\n",
       " 'WDC',\n",
       " 'AVT',\n",
       " 'SNY',\n",
       " 'T',\n",
       " 'IHRT',\n",
       " 'TWTR',\n",
       " 'HAL',\n",
       " 'XPO',\n",
       " 'URBN',\n",
       " 'MO',\n",
       " 'BMY',\n",
       " 'SHAK',\n",
       " 'AAPL',\n",
       " 'ATVI',\n",
       " 'BBBY',\n",
       " 'AER',\n",
       " 'KSS',\n",
       " 'DIS',\n",
       " 'THO',\n",
       " 'DISCA',\n",
       " 'BMY',\n",
       " 'WDC',\n",
       " 'DOW',\n",
       " 'INTC',\n",
       " 'GPN',\n",
       " 'KEY',\n",
       " 'EQT',\n",
       " 'QCOM',\n",
       " 'FB',\n",
       " 'LKQ',\n",
       " 'T',\n",
       " 'RUN',\n",
       " 'STX',\n",
       " 'SWN',\n",
       " 'KR',\n",
       " 'C']"
      ]
     },
     "execution_count": 3,
     "metadata": {},
     "output_type": "execute_result"
    }
   ],
   "source": [
    "import pandas as pd\n",
    "data = pd.read_csv('list.csv', header=None)\n",
    "ticker = data.values.T[0].tolist()\n",
    "ticker"
   ]
  },
  {
   "cell_type": "code",
   "execution_count": 3,
   "metadata": {},
   "outputs": [
    {
     "data": {
      "text/html": [
       "<div>\n",
       "<style scoped>\n",
       "    .dataframe tbody tr th:only-of-type {\n",
       "        vertical-align: middle;\n",
       "    }\n",
       "\n",
       "    .dataframe tbody tr th {\n",
       "        vertical-align: top;\n",
       "    }\n",
       "\n",
       "    .dataframe thead th {\n",
       "        text-align: right;\n",
       "    }\n",
       "</style>\n",
       "<table border=\"1\" class=\"dataframe\">\n",
       "  <thead>\n",
       "    <tr style=\"text-align: right;\">\n",
       "      <th></th>\n",
       "      <th>ATVI</th>\n",
       "      <th>BA</th>\n",
       "      <th>BAC</th>\n",
       "      <th>BAH</th>\n",
       "      <th>BBY</th>\n",
       "      <th>BCS</th>\n",
       "      <th>BFH</th>\n",
       "      <th>BP</th>\n",
       "      <th>C</th>\n",
       "      <th>CE</th>\n",
       "      <th>...</th>\n",
       "      <th>TGT</th>\n",
       "      <th>THO</th>\n",
       "      <th>TWTR</th>\n",
       "      <th>UAL</th>\n",
       "      <th>WBA</th>\n",
       "      <th>WBD</th>\n",
       "      <th>WGO</th>\n",
       "      <th>WMT</th>\n",
       "      <th>WSM</th>\n",
       "      <th>XBI</th>\n",
       "    </tr>\n",
       "    <tr>\n",
       "      <th>Date</th>\n",
       "      <th></th>\n",
       "      <th></th>\n",
       "      <th></th>\n",
       "      <th></th>\n",
       "      <th></th>\n",
       "      <th></th>\n",
       "      <th></th>\n",
       "      <th></th>\n",
       "      <th></th>\n",
       "      <th></th>\n",
       "      <th></th>\n",
       "      <th></th>\n",
       "      <th></th>\n",
       "      <th></th>\n",
       "      <th></th>\n",
       "      <th></th>\n",
       "      <th></th>\n",
       "      <th></th>\n",
       "      <th></th>\n",
       "      <th></th>\n",
       "      <th></th>\n",
       "    </tr>\n",
       "  </thead>\n",
       "  <tbody>\n",
       "    <tr>\n",
       "      <th>2021-10-13</th>\n",
       "      <td>75.250000</td>\n",
       "      <td>221.779999</td>\n",
       "      <td>43.139999</td>\n",
       "      <td>80.309998</td>\n",
       "      <td>110.779999</td>\n",
       "      <td>10.77</td>\n",
       "      <td>77.007179</td>\n",
       "      <td>29.190001</td>\n",
       "      <td>70.260002</td>\n",
       "      <td>158.669998</td>\n",
       "      <td>...</td>\n",
       "      <td>236.750000</td>\n",
       "      <td>121.510002</td>\n",
       "      <td>62.200001</td>\n",
       "      <td>47.880001</td>\n",
       "      <td>47.259998</td>\n",
       "      <td>25.50</td>\n",
       "      <td>75.750000</td>\n",
       "      <td>138.369995</td>\n",
       "      <td>174.039993</td>\n",
       "      <td>125.010002</td>\n",
       "    </tr>\n",
       "    <tr>\n",
       "      <th>2021-10-14</th>\n",
       "      <td>76.110001</td>\n",
       "      <td>217.440002</td>\n",
       "      <td>45.070000</td>\n",
       "      <td>80.660004</td>\n",
       "      <td>112.660004</td>\n",
       "      <td>10.84</td>\n",
       "      <td>79.002396</td>\n",
       "      <td>29.450001</td>\n",
       "      <td>70.800003</td>\n",
       "      <td>162.740005</td>\n",
       "      <td>...</td>\n",
       "      <td>242.089996</td>\n",
       "      <td>111.220001</td>\n",
       "      <td>63.169998</td>\n",
       "      <td>47.910000</td>\n",
       "      <td>50.770000</td>\n",
       "      <td>25.26</td>\n",
       "      <td>70.730003</td>\n",
       "      <td>139.869995</td>\n",
       "      <td>178.839996</td>\n",
       "      <td>127.099998</td>\n",
       "    </tr>\n",
       "    <tr>\n",
       "      <th>2021-10-15</th>\n",
       "      <td>76.400002</td>\n",
       "      <td>217.039993</td>\n",
       "      <td>46.369999</td>\n",
       "      <td>80.970001</td>\n",
       "      <td>113.639999</td>\n",
       "      <td>11.09</td>\n",
       "      <td>79.736633</td>\n",
       "      <td>29.930000</td>\n",
       "      <td>72.290001</td>\n",
       "      <td>164.750000</td>\n",
       "      <td>...</td>\n",
       "      <td>245.710007</td>\n",
       "      <td>108.050003</td>\n",
       "      <td>62.770000</td>\n",
       "      <td>48.000000</td>\n",
       "      <td>48.919998</td>\n",
       "      <td>24.83</td>\n",
       "      <td>69.989998</td>\n",
       "      <td>140.550003</td>\n",
       "      <td>182.259995</td>\n",
       "      <td>125.080002</td>\n",
       "    </tr>\n",
       "    <tr>\n",
       "      <th>2021-10-18</th>\n",
       "      <td>76.400002</td>\n",
       "      <td>216.979996</td>\n",
       "      <td>46.279999</td>\n",
       "      <td>80.839996</td>\n",
       "      <td>115.610001</td>\n",
       "      <td>11.11</td>\n",
       "      <td>79.880287</td>\n",
       "      <td>29.709999</td>\n",
       "      <td>71.610001</td>\n",
       "      <td>163.979996</td>\n",
       "      <td>...</td>\n",
       "      <td>253.649994</td>\n",
       "      <td>109.370003</td>\n",
       "      <td>64.839996</td>\n",
       "      <td>47.169998</td>\n",
       "      <td>48.400002</td>\n",
       "      <td>24.67</td>\n",
       "      <td>72.370003</td>\n",
       "      <td>141.679993</td>\n",
       "      <td>185.649994</td>\n",
       "      <td>122.470001</td>\n",
       "    </tr>\n",
       "    <tr>\n",
       "      <th>2021-10-19</th>\n",
       "      <td>77.180000</td>\n",
       "      <td>215.970001</td>\n",
       "      <td>46.480000</td>\n",
       "      <td>80.970001</td>\n",
       "      <td>113.940002</td>\n",
       "      <td>11.21</td>\n",
       "      <td>80.550674</td>\n",
       "      <td>29.860001</td>\n",
       "      <td>71.760002</td>\n",
       "      <td>164.610001</td>\n",
       "      <td>...</td>\n",
       "      <td>252.190002</td>\n",
       "      <td>109.500000</td>\n",
       "      <td>66.110001</td>\n",
       "      <td>46.220001</td>\n",
       "      <td>48.009998</td>\n",
       "      <td>24.90</td>\n",
       "      <td>72.239998</td>\n",
       "      <td>144.690002</td>\n",
       "      <td>185.289993</td>\n",
       "      <td>123.680000</td>\n",
       "    </tr>\n",
       "    <tr>\n",
       "      <th>...</th>\n",
       "      <td>...</td>\n",
       "      <td>...</td>\n",
       "      <td>...</td>\n",
       "      <td>...</td>\n",
       "      <td>...</td>\n",
       "      <td>...</td>\n",
       "      <td>...</td>\n",
       "      <td>...</td>\n",
       "      <td>...</td>\n",
       "      <td>...</td>\n",
       "      <td>...</td>\n",
       "      <td>...</td>\n",
       "      <td>...</td>\n",
       "      <td>...</td>\n",
       "      <td>...</td>\n",
       "      <td>...</td>\n",
       "      <td>...</td>\n",
       "      <td>...</td>\n",
       "      <td>...</td>\n",
       "      <td>...</td>\n",
       "      <td>...</td>\n",
       "    </tr>\n",
       "    <tr>\n",
       "      <th>2022-11-07</th>\n",
       "      <td>71.099998</td>\n",
       "      <td>164.910004</td>\n",
       "      <td>37.009998</td>\n",
       "      <td>109.239998</td>\n",
       "      <td>68.660004</td>\n",
       "      <td>7.16</td>\n",
       "      <td>36.840000</td>\n",
       "      <td>34.330002</td>\n",
       "      <td>45.730000</td>\n",
       "      <td>92.400002</td>\n",
       "      <td>...</td>\n",
       "      <td>159.869995</td>\n",
       "      <td>79.870003</td>\n",
       "      <td>NaN</td>\n",
       "      <td>42.779999</td>\n",
       "      <td>38.590000</td>\n",
       "      <td>10.27</td>\n",
       "      <td>59.459999</td>\n",
       "      <td>142.449997</td>\n",
       "      <td>123.470001</td>\n",
       "      <td>79.120003</td>\n",
       "    </tr>\n",
       "    <tr>\n",
       "      <th>2022-11-08</th>\n",
       "      <td>72.000000</td>\n",
       "      <td>169.619995</td>\n",
       "      <td>37.110001</td>\n",
       "      <td>110.349998</td>\n",
       "      <td>68.820000</td>\n",
       "      <td>7.24</td>\n",
       "      <td>37.360001</td>\n",
       "      <td>33.730000</td>\n",
       "      <td>46.119999</td>\n",
       "      <td>93.820000</td>\n",
       "      <td>...</td>\n",
       "      <td>161.619995</td>\n",
       "      <td>80.760002</td>\n",
       "      <td>NaN</td>\n",
       "      <td>42.180000</td>\n",
       "      <td>38.290001</td>\n",
       "      <td>10.06</td>\n",
       "      <td>59.320000</td>\n",
       "      <td>142.789993</td>\n",
       "      <td>118.970001</td>\n",
       "      <td>79.860001</td>\n",
       "    </tr>\n",
       "    <tr>\n",
       "      <th>2022-11-09</th>\n",
       "      <td>71.660004</td>\n",
       "      <td>168.740005</td>\n",
       "      <td>36.520000</td>\n",
       "      <td>NaN</td>\n",
       "      <td>NaN</td>\n",
       "      <td>7.07</td>\n",
       "      <td>NaN</td>\n",
       "      <td>32.330002</td>\n",
       "      <td>45.360001</td>\n",
       "      <td>91.750000</td>\n",
       "      <td>...</td>\n",
       "      <td>152.990005</td>\n",
       "      <td>NaN</td>\n",
       "      <td>NaN</td>\n",
       "      <td>42.369999</td>\n",
       "      <td>36.889999</td>\n",
       "      <td>9.84</td>\n",
       "      <td>58.340000</td>\n",
       "      <td>139.470001</td>\n",
       "      <td>NaN</td>\n",
       "      <td>77.199997</td>\n",
       "    </tr>\n",
       "    <tr>\n",
       "      <th>2022-11-10</th>\n",
       "      <td>73.620003</td>\n",
       "      <td>177.580002</td>\n",
       "      <td>38.130001</td>\n",
       "      <td>111.279999</td>\n",
       "      <td>72.029999</td>\n",
       "      <td>7.50</td>\n",
       "      <td>40.430000</td>\n",
       "      <td>32.950001</td>\n",
       "      <td>48.419998</td>\n",
       "      <td>104.290001</td>\n",
       "      <td>...</td>\n",
       "      <td>164.380005</td>\n",
       "      <td>84.769997</td>\n",
       "      <td>NaN</td>\n",
       "      <td>44.330002</td>\n",
       "      <td>38.490002</td>\n",
       "      <td>10.80</td>\n",
       "      <td>62.180000</td>\n",
       "      <td>142.360001</td>\n",
       "      <td>128.710007</td>\n",
       "      <td>83.120003</td>\n",
       "    </tr>\n",
       "    <tr>\n",
       "      <th>2022-11-11</th>\n",
       "      <td>74.139999</td>\n",
       "      <td>177.490005</td>\n",
       "      <td>38.410000</td>\n",
       "      <td>103.699997</td>\n",
       "      <td>74.550003</td>\n",
       "      <td>7.63</td>\n",
       "      <td>42.980000</td>\n",
       "      <td>33.840000</td>\n",
       "      <td>50.189999</td>\n",
       "      <td>110.559998</td>\n",
       "      <td>...</td>\n",
       "      <td>173.320007</td>\n",
       "      <td>90.519997</td>\n",
       "      <td>NaN</td>\n",
       "      <td>44.709999</td>\n",
       "      <td>41.259998</td>\n",
       "      <td>11.84</td>\n",
       "      <td>63.650002</td>\n",
       "      <td>142.580002</td>\n",
       "      <td>135.330002</td>\n",
       "      <td>84.760002</td>\n",
       "    </tr>\n",
       "  </tbody>\n",
       "</table>\n",
       "<p>274 rows × 50 columns</p>\n",
       "</div>"
      ],
      "text/plain": [
       "                 ATVI          BA        BAC         BAH         BBY    BCS  \\\n",
       "Date                                                                          \n",
       "2021-10-13  75.250000  221.779999  43.139999   80.309998  110.779999  10.77   \n",
       "2021-10-14  76.110001  217.440002  45.070000   80.660004  112.660004  10.84   \n",
       "2021-10-15  76.400002  217.039993  46.369999   80.970001  113.639999  11.09   \n",
       "2021-10-18  76.400002  216.979996  46.279999   80.839996  115.610001  11.11   \n",
       "2021-10-19  77.180000  215.970001  46.480000   80.970001  113.940002  11.21   \n",
       "...               ...         ...        ...         ...         ...    ...   \n",
       "2022-11-07  71.099998  164.910004  37.009998  109.239998   68.660004   7.16   \n",
       "2022-11-08  72.000000  169.619995  37.110001  110.349998   68.820000   7.24   \n",
       "2022-11-09  71.660004  168.740005  36.520000         NaN         NaN   7.07   \n",
       "2022-11-10  73.620003  177.580002  38.130001  111.279999   72.029999   7.50   \n",
       "2022-11-11  74.139999  177.490005  38.410000  103.699997   74.550003   7.63   \n",
       "\n",
       "                  BFH         BP          C          CE  ...         TGT  \\\n",
       "Date                                                     ...               \n",
       "2021-10-13  77.007179  29.190001  70.260002  158.669998  ...  236.750000   \n",
       "2021-10-14  79.002396  29.450001  70.800003  162.740005  ...  242.089996   \n",
       "2021-10-15  79.736633  29.930000  72.290001  164.750000  ...  245.710007   \n",
       "2021-10-18  79.880287  29.709999  71.610001  163.979996  ...  253.649994   \n",
       "2021-10-19  80.550674  29.860001  71.760002  164.610001  ...  252.190002   \n",
       "...               ...        ...        ...         ...  ...         ...   \n",
       "2022-11-07  36.840000  34.330002  45.730000   92.400002  ...  159.869995   \n",
       "2022-11-08  37.360001  33.730000  46.119999   93.820000  ...  161.619995   \n",
       "2022-11-09        NaN  32.330002  45.360001   91.750000  ...  152.990005   \n",
       "2022-11-10  40.430000  32.950001  48.419998  104.290001  ...  164.380005   \n",
       "2022-11-11  42.980000  33.840000  50.189999  110.559998  ...  173.320007   \n",
       "\n",
       "                   THO       TWTR        UAL        WBA    WBD        WGO  \\\n",
       "Date                                                                        \n",
       "2021-10-13  121.510002  62.200001  47.880001  47.259998  25.50  75.750000   \n",
       "2021-10-14  111.220001  63.169998  47.910000  50.770000  25.26  70.730003   \n",
       "2021-10-15  108.050003  62.770000  48.000000  48.919998  24.83  69.989998   \n",
       "2021-10-18  109.370003  64.839996  47.169998  48.400002  24.67  72.370003   \n",
       "2021-10-19  109.500000  66.110001  46.220001  48.009998  24.90  72.239998   \n",
       "...                ...        ...        ...        ...    ...        ...   \n",
       "2022-11-07   79.870003        NaN  42.779999  38.590000  10.27  59.459999   \n",
       "2022-11-08   80.760002        NaN  42.180000  38.290001  10.06  59.320000   \n",
       "2022-11-09         NaN        NaN  42.369999  36.889999   9.84  58.340000   \n",
       "2022-11-10   84.769997        NaN  44.330002  38.490002  10.80  62.180000   \n",
       "2022-11-11   90.519997        NaN  44.709999  41.259998  11.84  63.650002   \n",
       "\n",
       "                   WMT         WSM         XBI  \n",
       "Date                                            \n",
       "2021-10-13  138.369995  174.039993  125.010002  \n",
       "2021-10-14  139.869995  178.839996  127.099998  \n",
       "2021-10-15  140.550003  182.259995  125.080002  \n",
       "2021-10-18  141.679993  185.649994  122.470001  \n",
       "2021-10-19  144.690002  185.289993  123.680000  \n",
       "...                ...         ...         ...  \n",
       "2022-11-07  142.449997  123.470001   79.120003  \n",
       "2022-11-08  142.789993  118.970001   79.860001  \n",
       "2022-11-09  139.470001         NaN   77.199997  \n",
       "2022-11-10  142.360001  128.710007   83.120003  \n",
       "2022-11-11  142.580002  135.330002   84.760002  \n",
       "\n",
       "[274 rows x 50 columns]"
      ]
     },
     "execution_count": 3,
     "metadata": {},
     "output_type": "execute_result"
    }
   ],
   "source": [
    "dat['Close']"
   ]
  },
  {
   "cell_type": "code",
   "execution_count": 12,
   "metadata": {},
   "outputs": [],
   "source": [
    "list = dat['Close'].T"
   ]
  },
  {
   "cell_type": "code",
   "execution_count": 14,
   "metadata": {},
   "outputs": [
    {
     "data": {
      "text/plain": [
       "ACB        8.500000\n",
       "ATVI      69.690002\n",
       "BABA     166.809998\n",
       "BAH       89.849998\n",
       "BIDU     170.570007\n",
       "BP        27.379999\n",
       "COG       20.600000\n",
       "DISCA     27.910000\n",
       "FMC      106.089996\n",
       "GSK       43.360001\n",
       "INTC      50.310001\n",
       "KHC       37.220001\n",
       "KR        42.430000\n",
       "RIDE       5.680000\n",
       "SDC        4.210000\n",
       "SFM       24.120001\n",
       "STX      108.120003\n",
       "THO      114.070000\n",
       "TME        8.850000\n",
       "VIPS      12.910000\n",
       "Name: 2021-11-12 00:00:00, dtype: float64"
      ]
     },
     "execution_count": 14,
     "metadata": {},
     "output_type": "execute_result"
    }
   ],
   "source": [
    "list['2021-11-12']"
   ]
  },
  {
   "cell_type": "code",
   "execution_count": 2,
   "metadata": {},
   "outputs": [
    {
     "data": {
      "text/plain": [
       "'3.8.5 (default, Sep  3 2020, 21:29:08) [MSC v.1916 64 bit (AMD64)]'"
      ]
     },
     "execution_count": 2,
     "metadata": {},
     "output_type": "execute_result"
    }
   ],
   "source": [
    "import sys\n",
    "sys.version"
   ]
  },
  {
   "cell_type": "code",
   "execution_count": null,
   "metadata": {},
   "outputs": [],
   "source": [
    "import pandas as pd\n",
    "import numpy\n",
    "import requests\n",
    "from pandas_datareader import data as pdr\n",
    "#import pandas_datareader.data as web\n",
    "from datetime import datetime\n",
    "import os\n",
    "\n",
    "import yfinance as yf\n",
    "data = pd.read_csv('list.csv', header=None)\n",
    "ticker = data.values.T[0].tolist()\n",
    "START_DATE= '2017-03-27'\n",
    "END_DATE = '2022-01-01'\n",
    "stock_data = pdr.DataReader(ticker, threads=False,'yahoo',START_DATE,END_DATE)\n",
    "stock_data"
   ]
  },
  {
   "cell_type": "code",
   "execution_count": 11,
   "metadata": {},
   "outputs": [],
   "source": [
    "oila=pd.read_clipboard()"
   ]
  },
  {
   "cell_type": "code",
   "execution_count": 14,
   "metadata": {},
   "outputs": [],
   "source": [
    "oil.drop('Unnamed: 26', axis=1, inplace =True)"
   ]
  },
  {
   "cell_type": "code",
   "execution_count": 16,
   "metadata": {},
   "outputs": [
    {
     "data": {
      "text/plain": [
       "Index(['date', 'Average Gasoline Prices by Year*',\n",
       "       'Average Annual CPI for Gasoline**',\n",
       "       'Gas Prices Adjusted for Inflation (In 2022 Dollars)', 'Adj(2022)',\n",
       "       'realprice(for equivalent miles)', 'Intermofmiles',\n",
       "       'perofdifferenc(dollar value)', 'PriceAddedtoDriveEqualMIlesLt',\n",
       "       'PriceAddtoDrivePassanger', 'Added Cost(gpm)', 'LightTruck pay more',\n",
       "       'PassengerCar', 'Passenger car paymore', 'fuelefficiencytrucks',\n",
       "       '%Changefro2022LpassLess', '%Changefro2022LTruck',\n",
       "       'PassengerFuelEfficience', '%Changefrom2022Passanger', 'LogRigCount',\n",
       "       'Production(M logs)', 'AvgBarrelPric', 'log(Barrel price)', 'Rigcount',\n",
       "       'AvgMonthlyProductionPerYr', 'log(gasprice)', 'GDP Growth (%)',\n",
       "       'Annual Change', 'Average of ccmt'],\n",
       "      dtype='object')"
      ]
     },
     "execution_count": 16,
     "metadata": {},
     "output_type": "execute_result"
    }
   ],
   "source": [
    "oil.columns"
   ]
  },
  {
   "cell_type": "code",
   "execution_count": 116,
   "metadata": {},
   "outputs": [],
   "source": [
    "import seaborn as sns\n",
    "import numpy as np\n",
    "import matplotlib.pyplot as plt"
   ]
  },
  {
   "cell_type": "code",
   "execution_count": 43,
   "metadata": {},
   "outputs": [],
   "source": [
    "oil_eda = oil[['date','Average of ccmt','AvgBarrelPric', 'Rigcount','AvgMonthlyProductionPerYr' ]]\n",
    "oil_eda2=oil[['Average of ccmt','AvgBarrelPric', 'Rigcount','AvgMonthlyProductionPerYr' ]]"
   ]
  },
  {
   "cell_type": "code",
   "execution_count": 48,
   "metadata": {},
   "outputs": [],
   "source": [
    "from sklearn import preprocessing\n",
    "min_max = preprocessing.MinMaxScaler()\n",
    "scaled_df = min_max.fit_transform(oil_eda2.values)\n",
    "final_df = pd.DataFrame(scaled_df,columns=oil_eda2.columns)"
   ]
  },
  {
   "cell_type": "code",
   "execution_count": 61,
   "metadata": {},
   "outputs": [
    {
     "data": {
      "text/plain": [
       "<seaborn.axisgrid.PairGrid at 0x15d7b2d8df0>"
      ]
     },
     "execution_count": 61,
     "metadata": {},
     "output_type": "execute_result"
    },
    {
     "data": {
      "image/png": "[encoded data removed]",
      "text/plain": [
       "<Figure size 720x720 with 14 Axes>"
      ]
     },
     "metadata": {
      "needs_background": "light"
     },
     "output_type": "display_data"
    }
   ],
   "source": [
    "sns.pairplot(final_df,diag_kind = 'hist', corner=True)"
   ]
  },
  {
   "cell_type": "code",
   "execution_count": 60,
   "metadata": {},
   "outputs": [
    {
     "data": {
      "image/png": "[encoded data removed]",
      "text/plain": [
       "<Figure size 1080x1080 with 2 Axes>"
      ]
     },
     "metadata": {
      "needs_background": "light"
     },
     "output_type": "display_data"
    }
   ],
   "source": [
    "fig, ax = plt.subplots(figsize=(15, 15))\n",
    "sns.heatmap(final_df.corr(), annot=True, annot_kws={\"size\": 12}, cmap=\"RdBu\", center =0);"
   ]
  },
  {
   "cell_type": "code",
   "execution_count": 15,
   "metadata": {},
   "outputs": [],
   "source": [
    "oila.set_index('Date', inplace = True)\n",
    "usda.set_index('Date', inplace = True)"
   ]
  },
  {
   "cell_type": "code",
   "execution_count": 13,
   "metadata": {},
   "outputs": [],
   "source": [
    "usda = pd.read_clipboard()"
   ]
  },
  {
   "cell_type": "code",
   "execution_count": 17,
   "metadata": {},
   "outputs": [],
   "source": [
    "usda.index = pd.to_datetime(usda.index)\n",
    "oila.index = pd.to_datetime(oila.index)"
   ]
  },
  {
   "cell_type": "code",
   "execution_count": 23,
   "metadata": {},
   "outputs": [
    {
     "data": {
      "text/html": [
       "<div>\n",
       "<style scoped>\n",
       "    .dataframe tbody tr th:only-of-type {\n",
       "        vertical-align: middle;\n",
       "    }\n",
       "\n",
       "    .dataframe tbody tr th {\n",
       "        vertical-align: top;\n",
       "    }\n",
       "\n",
       "    .dataframe thead th {\n",
       "        text-align: right;\n",
       "    }\n",
       "</style>\n",
       "<table border=\"1\" class=\"dataframe\">\n",
       "  <thead>\n",
       "    <tr style=\"text-align: right;\">\n",
       "      <th></th>\n",
       "      <th>Open</th>\n",
       "      <th>High</th>\n",
       "      <th>Low</th>\n",
       "      <th>Close</th>\n",
       "      <th>Adj Close</th>\n",
       "      <th>Volume</th>\n",
       "    </tr>\n",
       "    <tr>\n",
       "      <th>Date</th>\n",
       "      <th></th>\n",
       "      <th></th>\n",
       "      <th></th>\n",
       "      <th></th>\n",
       "      <th></th>\n",
       "      <th></th>\n",
       "    </tr>\n",
       "  </thead>\n",
       "  <tbody>\n",
       "    <tr>\n",
       "      <th>2021-07-09</th>\n",
       "      <td>92.360001</td>\n",
       "      <td>92.540001</td>\n",
       "      <td>92.089996</td>\n",
       "      <td>92.129997</td>\n",
       "      <td>92.129997</td>\n",
       "      <td>0.0</td>\n",
       "    </tr>\n",
       "    <tr>\n",
       "      <th>2021-07-11</th>\n",
       "      <td>NaN</td>\n",
       "      <td>NaN</td>\n",
       "      <td>NaN</td>\n",
       "      <td>NaN</td>\n",
       "      <td>NaN</td>\n",
       "      <td>NaN</td>\n",
       "    </tr>\n",
       "    <tr>\n",
       "      <th>2021-07-12</th>\n",
       "      <td>92.099998</td>\n",
       "      <td>92.419998</td>\n",
       "      <td>92.080002</td>\n",
       "      <td>92.230003</td>\n",
       "      <td>92.230003</td>\n",
       "      <td>0.0</td>\n",
       "    </tr>\n",
       "    <tr>\n",
       "      <th>2021-07-13</th>\n",
       "      <td>92.230003</td>\n",
       "      <td>92.809998</td>\n",
       "      <td>92.139999</td>\n",
       "      <td>92.750000</td>\n",
       "      <td>92.750000</td>\n",
       "      <td>0.0</td>\n",
       "    </tr>\n",
       "    <tr>\n",
       "      <th>2021-07-14</th>\n",
       "      <td>92.800003</td>\n",
       "      <td>92.830002</td>\n",
       "      <td>92.349998</td>\n",
       "      <td>92.410004</td>\n",
       "      <td>92.410004</td>\n",
       "      <td>0.0</td>\n",
       "    </tr>\n",
       "    <tr>\n",
       "      <th>...</th>\n",
       "      <td>...</td>\n",
       "      <td>...</td>\n",
       "      <td>...</td>\n",
       "      <td>...</td>\n",
       "      <td>...</td>\n",
       "      <td>...</td>\n",
       "    </tr>\n",
       "    <tr>\n",
       "      <th>2022-07-04</th>\n",
       "      <td>105.120003</td>\n",
       "      <td>105.250000</td>\n",
       "      <td>104.820000</td>\n",
       "      <td>105.190002</td>\n",
       "      <td>105.190002</td>\n",
       "      <td>0.0</td>\n",
       "    </tr>\n",
       "    <tr>\n",
       "      <th>2022-07-05</th>\n",
       "      <td>105.139999</td>\n",
       "      <td>106.790001</td>\n",
       "      <td>105.050003</td>\n",
       "      <td>106.500000</td>\n",
       "      <td>106.500000</td>\n",
       "      <td>0.0</td>\n",
       "    </tr>\n",
       "    <tr>\n",
       "      <th>2022-07-06</th>\n",
       "      <td>106.489998</td>\n",
       "      <td>107.260002</td>\n",
       "      <td>106.360001</td>\n",
       "      <td>107.099998</td>\n",
       "      <td>107.099998</td>\n",
       "      <td>0.0</td>\n",
       "    </tr>\n",
       "    <tr>\n",
       "      <th>2022-07-07</th>\n",
       "      <td>107.070000</td>\n",
       "      <td>107.239998</td>\n",
       "      <td>106.709999</td>\n",
       "      <td>107.129997</td>\n",
       "      <td>107.129997</td>\n",
       "      <td>0.0</td>\n",
       "    </tr>\n",
       "    <tr>\n",
       "      <th>2022-07-08</th>\n",
       "      <td>107.040001</td>\n",
       "      <td>107.790001</td>\n",
       "      <td>106.809998</td>\n",
       "      <td>107.010002</td>\n",
       "      <td>107.010002</td>\n",
       "      <td>0.0</td>\n",
       "    </tr>\n",
       "  </tbody>\n",
       "</table>\n",
       "<p>308 rows × 6 columns</p>\n",
       "</div>"
      ],
      "text/plain": [
       "                  Open        High         Low       Close   Adj Close  Volume\n",
       "Date                                                                          \n",
       "2021-07-09   92.360001   92.540001   92.089996   92.129997   92.129997     0.0\n",
       "2021-07-11         NaN         NaN         NaN         NaN         NaN     NaN\n",
       "2021-07-12   92.099998   92.419998   92.080002   92.230003   92.230003     0.0\n",
       "2021-07-13   92.230003   92.809998   92.139999   92.750000   92.750000     0.0\n",
       "2021-07-14   92.800003   92.830002   92.349998   92.410004   92.410004     0.0\n",
       "...                ...         ...         ...         ...         ...     ...\n",
       "2022-07-04  105.120003  105.250000  104.820000  105.190002  105.190002     0.0\n",
       "2022-07-05  105.139999  106.790001  105.050003  106.500000  106.500000     0.0\n",
       "2022-07-06  106.489998  107.260002  106.360001  107.099998  107.099998     0.0\n",
       "2022-07-07  107.070000  107.239998  106.709999  107.129997  107.129997     0.0\n",
       "2022-07-08  107.040001  107.790001  106.809998  107.010002  107.010002     0.0\n",
       "\n",
       "[308 rows x 6 columns]"
      ]
     },
     "execution_count": 23,
     "metadata": {},
     "output_type": "execute_result"
    }
   ],
   "source": [
    "usda"
   ]
  },
  {
   "cell_type": "code",
   "execution_count": 27,
   "metadata": {},
   "outputs": [
    {
     "data": {
      "text/html": [
       "<div>\n",
       "<style scoped>\n",
       "    .dataframe tbody tr th:only-of-type {\n",
       "        vertical-align: middle;\n",
       "    }\n",
       "\n",
       "    .dataframe tbody tr th {\n",
       "        vertical-align: top;\n",
       "    }\n",
       "\n",
       "    .dataframe thead th {\n",
       "        text-align: right;\n",
       "    }\n",
       "</style>\n",
       "<table border=\"1\" class=\"dataframe\">\n",
       "  <thead>\n",
       "    <tr style=\"text-align: right;\">\n",
       "      <th></th>\n",
       "      <th>Close*</th>\n",
       "    </tr>\n",
       "    <tr>\n",
       "      <th>Date</th>\n",
       "      <th></th>\n",
       "    </tr>\n",
       "  </thead>\n",
       "  <tbody>\n",
       "    <tr>\n",
       "      <th>2022-07-08</th>\n",
       "      <td>104.79</td>\n",
       "    </tr>\n",
       "    <tr>\n",
       "      <th>2022-07-07</th>\n",
       "      <td>102.73</td>\n",
       "    </tr>\n",
       "    <tr>\n",
       "      <th>2022-07-06</th>\n",
       "      <td>98.53</td>\n",
       "    </tr>\n",
       "    <tr>\n",
       "      <th>2022-07-05</th>\n",
       "      <td>99.5</td>\n",
       "    </tr>\n",
       "    <tr>\n",
       "      <th>2022-07-04</th>\n",
       "      <td>-</td>\n",
       "    </tr>\n",
       "    <tr>\n",
       "      <th>...</th>\n",
       "      <td>...</td>\n",
       "    </tr>\n",
       "    <tr>\n",
       "      <th>2021-07-15</th>\n",
       "      <td>71.65</td>\n",
       "    </tr>\n",
       "    <tr>\n",
       "      <th>2021-07-14</th>\n",
       "      <td>73.13</td>\n",
       "    </tr>\n",
       "    <tr>\n",
       "      <th>2021-07-13</th>\n",
       "      <td>75.25</td>\n",
       "    </tr>\n",
       "    <tr>\n",
       "      <th>2021-07-12</th>\n",
       "      <td>74.1</td>\n",
       "    </tr>\n",
       "    <tr>\n",
       "      <th>2021-07-09</th>\n",
       "      <td>74.56</td>\n",
       "    </tr>\n",
       "  </tbody>\n",
       "</table>\n",
       "<p>256 rows × 1 columns</p>\n",
       "</div>"
      ],
      "text/plain": [
       "            Close*\n",
       "Date              \n",
       "2022-07-08  104.79\n",
       "2022-07-07  102.73\n",
       "2022-07-06   98.53\n",
       "2022-07-05    99.5\n",
       "2022-07-04       -\n",
       "...            ...\n",
       "2021-07-15   71.65\n",
       "2021-07-14   73.13\n",
       "2021-07-13   75.25\n",
       "2021-07-12    74.1\n",
       "2021-07-09   74.56\n",
       "\n",
       "[256 rows x 1 columns]"
      ]
     },
     "execution_count": 27,
     "metadata": {},
     "output_type": "execute_result"
    }
   ],
   "source": [
    "oilus = pd.DataFrame(oila['Close*'])\n",
    "oilus"
   ]
  },
  {
   "cell_type": "code",
   "execution_count": 28,
   "metadata": {},
   "outputs": [],
   "source": [
    "usdx = pd.DataFrame(usda['Close'])"
   ]
  },
  {
   "cell_type": "code",
   "execution_count": 32,
   "metadata": {},
   "outputs": [
    {
     "data": {
      "text/html": [
       "<div>\n",
       "<style scoped>\n",
       "    .dataframe tbody tr th:only-of-type {\n",
       "        vertical-align: middle;\n",
       "    }\n",
       "\n",
       "    .dataframe tbody tr th {\n",
       "        vertical-align: top;\n",
       "    }\n",
       "\n",
       "    .dataframe thead th {\n",
       "        text-align: right;\n",
       "    }\n",
       "</style>\n",
       "<table border=\"1\" class=\"dataframe\">\n",
       "  <thead>\n",
       "    <tr style=\"text-align: right;\">\n",
       "      <th></th>\n",
       "      <th>Close*</th>\n",
       "      <th>Close</th>\n",
       "    </tr>\n",
       "    <tr>\n",
       "      <th>Date</th>\n",
       "      <th></th>\n",
       "      <th></th>\n",
       "    </tr>\n",
       "  </thead>\n",
       "  <tbody>\n",
       "    <tr>\n",
       "      <th>2022-07-08</th>\n",
       "      <td>104.79</td>\n",
       "      <td>107.010002</td>\n",
       "    </tr>\n",
       "    <tr>\n",
       "      <th>2022-07-07</th>\n",
       "      <td>102.73</td>\n",
       "      <td>107.129997</td>\n",
       "    </tr>\n",
       "    <tr>\n",
       "      <th>2022-07-06</th>\n",
       "      <td>98.53</td>\n",
       "      <td>107.099998</td>\n",
       "    </tr>\n",
       "    <tr>\n",
       "      <th>2022-07-05</th>\n",
       "      <td>99.5</td>\n",
       "      <td>106.500000</td>\n",
       "    </tr>\n",
       "    <tr>\n",
       "      <th>2022-07-04</th>\n",
       "      <td>-</td>\n",
       "      <td>105.190002</td>\n",
       "    </tr>\n",
       "    <tr>\n",
       "      <th>...</th>\n",
       "      <td>...</td>\n",
       "      <td>...</td>\n",
       "    </tr>\n",
       "    <tr>\n",
       "      <th>2021-07-15</th>\n",
       "      <td>71.65</td>\n",
       "      <td>92.620003</td>\n",
       "    </tr>\n",
       "    <tr>\n",
       "      <th>2021-07-14</th>\n",
       "      <td>73.13</td>\n",
       "      <td>92.410004</td>\n",
       "    </tr>\n",
       "    <tr>\n",
       "      <th>2021-07-13</th>\n",
       "      <td>75.25</td>\n",
       "      <td>92.750000</td>\n",
       "    </tr>\n",
       "    <tr>\n",
       "      <th>2021-07-12</th>\n",
       "      <td>74.1</td>\n",
       "      <td>92.230003</td>\n",
       "    </tr>\n",
       "    <tr>\n",
       "      <th>2021-07-09</th>\n",
       "      <td>74.56</td>\n",
       "      <td>92.129997</td>\n",
       "    </tr>\n",
       "  </tbody>\n",
       "</table>\n",
       "<p>256 rows × 2 columns</p>\n",
       "</div>"
      ],
      "text/plain": [
       "            Close*       Close\n",
       "Date                          \n",
       "2022-07-08  104.79  107.010002\n",
       "2022-07-07  102.73  107.129997\n",
       "2022-07-06   98.53  107.099998\n",
       "2022-07-05    99.5  106.500000\n",
       "2022-07-04       -  105.190002\n",
       "...            ...         ...\n",
       "2021-07-15   71.65   92.620003\n",
       "2021-07-14   73.13   92.410004\n",
       "2021-07-13   75.25   92.750000\n",
       "2021-07-12    74.1   92.230003\n",
       "2021-07-09   74.56   92.129997\n",
       "\n",
       "[256 rows x 2 columns]"
      ]
     },
     "execution_count": 32,
     "metadata": {},
     "output_type": "execute_result"
    }
   ],
   "source": [
    "both = oilus.join(usdx, how = 'inner')\n",
    "both"
   ]
  },
  {
   "cell_type": "code",
   "execution_count": 59,
   "metadata": {},
   "outputs": [],
   "source": [
    "#df.iloc[7::] = df.iloc[7:].astype(float)\n"
   ]
  },
  {
   "cell_type": "code",
   "execution_count": 53,
   "metadata": {},
   "outputs": [
    {
     "data": {
      "text/html": [
       "<div>\n",
       "<style scoped>\n",
       "    .dataframe tbody tr th:only-of-type {\n",
       "        vertical-align: middle;\n",
       "    }\n",
       "\n",
       "    .dataframe tbody tr th {\n",
       "        vertical-align: top;\n",
       "    }\n",
       "\n",
       "    .dataframe thead th {\n",
       "        text-align: right;\n",
       "    }\n",
       "</style>\n",
       "<table border=\"1\" class=\"dataframe\">\n",
       "  <thead>\n",
       "    <tr style=\"text-align: right;\">\n",
       "      <th></th>\n",
       "      <th>Close*</th>\n",
       "      <th>Close</th>\n",
       "      <th>NewPrice</th>\n",
       "      <th>oil_price</th>\n",
       "      <th>oilPrice</th>\n",
       "    </tr>\n",
       "    <tr>\n",
       "      <th>Date</th>\n",
       "      <th></th>\n",
       "      <th></th>\n",
       "      <th></th>\n",
       "      <th></th>\n",
       "      <th></th>\n",
       "    </tr>\n",
       "  </thead>\n",
       "  <tbody>\n",
       "    <tr>\n",
       "      <th>2022-07-08</th>\n",
       "      <td>104.79</td>\n",
       "      <td>107.010002</td>\n",
       "      <td>107.010002</td>\n",
       "      <td>104.79</td>\n",
       "      <td>104.79</td>\n",
       "    </tr>\n",
       "    <tr>\n",
       "      <th>2022-07-07</th>\n",
       "      <td>102.73</td>\n",
       "      <td>107.129997</td>\n",
       "      <td>107.129997</td>\n",
       "      <td>102.73</td>\n",
       "      <td>102.73</td>\n",
       "    </tr>\n",
       "    <tr>\n",
       "      <th>2022-07-06</th>\n",
       "      <td>98.53</td>\n",
       "      <td>107.099998</td>\n",
       "      <td>107.099998</td>\n",
       "      <td>98.53</td>\n",
       "      <td>98.53</td>\n",
       "    </tr>\n",
       "    <tr>\n",
       "      <th>2022-07-05</th>\n",
       "      <td>99.5</td>\n",
       "      <td>106.500000</td>\n",
       "      <td>106.500000</td>\n",
       "      <td>99.5</td>\n",
       "      <td>99.5</td>\n",
       "    </tr>\n",
       "    <tr>\n",
       "      <th>2022-07-04</th>\n",
       "      <td>-</td>\n",
       "      <td>105.190002</td>\n",
       "      <td>105.190002</td>\n",
       "      <td>-</td>\n",
       "      <td>-</td>\n",
       "    </tr>\n",
       "    <tr>\n",
       "      <th>...</th>\n",
       "      <td>...</td>\n",
       "      <td>...</td>\n",
       "      <td>...</td>\n",
       "      <td>...</td>\n",
       "      <td>...</td>\n",
       "    </tr>\n",
       "    <tr>\n",
       "      <th>2021-07-15</th>\n",
       "      <td>71.65</td>\n",
       "      <td>92.620003</td>\n",
       "      <td>92.620003</td>\n",
       "      <td>71.65</td>\n",
       "      <td>71.65</td>\n",
       "    </tr>\n",
       "    <tr>\n",
       "      <th>2021-07-14</th>\n",
       "      <td>73.13</td>\n",
       "      <td>92.410004</td>\n",
       "      <td>92.410004</td>\n",
       "      <td>73.13</td>\n",
       "      <td>73.13</td>\n",
       "    </tr>\n",
       "    <tr>\n",
       "      <th>2021-07-13</th>\n",
       "      <td>75.25</td>\n",
       "      <td>92.750000</td>\n",
       "      <td>92.750000</td>\n",
       "      <td>75.25</td>\n",
       "      <td>75.25</td>\n",
       "    </tr>\n",
       "    <tr>\n",
       "      <th>2021-07-12</th>\n",
       "      <td>74.1</td>\n",
       "      <td>92.230003</td>\n",
       "      <td>92.230003</td>\n",
       "      <td>74.1</td>\n",
       "      <td>74.1</td>\n",
       "    </tr>\n",
       "    <tr>\n",
       "      <th>2021-07-09</th>\n",
       "      <td>74.56</td>\n",
       "      <td>92.129997</td>\n",
       "      <td>92.129997</td>\n",
       "      <td>74.56</td>\n",
       "      <td>74.56</td>\n",
       "    </tr>\n",
       "  </tbody>\n",
       "</table>\n",
       "<p>256 rows × 5 columns</p>\n",
       "</div>"
      ],
      "text/plain": [
       "            Close*       Close    NewPrice oil_price oilPrice\n",
       "Date                                                         \n",
       "2022-07-08  104.79  107.010002  107.010002    104.79   104.79\n",
       "2022-07-07  102.73  107.129997  107.129997    102.73   102.73\n",
       "2022-07-06   98.53  107.099998  107.099998     98.53    98.53\n",
       "2022-07-05    99.5  106.500000  106.500000      99.5     99.5\n",
       "2022-07-04       -  105.190002  105.190002         -        -\n",
       "...            ...         ...         ...       ...      ...\n",
       "2021-07-15   71.65   92.620003   92.620003     71.65    71.65\n",
       "2021-07-14   73.13   92.410004   92.410004     73.13    73.13\n",
       "2021-07-13   75.25   92.750000   92.750000     75.25    75.25\n",
       "2021-07-12    74.1   92.230003   92.230003      74.1     74.1\n",
       "2021-07-09   74.56   92.129997   92.129997     74.56    74.56\n",
       "\n",
       "[256 rows x 5 columns]"
      ]
     },
     "execution_count": 53,
     "metadata": {},
     "output_type": "execute_result"
    }
   ],
   "source": [
    "both['oil_price'] = both['Close*']\n",
    "both['oilPrice']=pd.to_numeric(both['oil_price'], errors='ignore', downcast='float' )\n",
    "both."
   ]
  },
  {
   "cell_type": "code",
   "execution_count": 103,
   "metadata": {},
   "outputs": [
    {
     "data": {
      "text/plain": [
       "dtype('float64')"
      ]
     },
     "execution_count": 103,
     "metadata": {},
     "output_type": "execute_result"
    }
   ],
   "source": [
    "#both.columns = both.columns.str.replace(r\"[$,?,#,_()-]\"-\"\", \"\")\n",
    "both['oilPrice']=both.oilPrice.replace('(-?[^\\d\\.])', '', regex=True).replace('', float('NaN')).astype(float)\n",
    "both.oilPrice.dtype"
   ]
  },
  {
   "cell_type": "code",
   "execution_count": null,
   "metadata": {},
   "outputs": [],
   "source": [
    "both['oilPrice'] = both['oilPrice']/100\n",
    "both"
   ]
  },
  {
   "cell_type": "code",
   "execution_count": 106,
   "metadata": {},
   "outputs": [
    {
     "data": {
      "text/html": [
       "<div>\n",
       "<style scoped>\n",
       "    .dataframe tbody tr th:only-of-type {\n",
       "        vertical-align: middle;\n",
       "    }\n",
       "\n",
       "    .dataframe tbody tr th {\n",
       "        vertical-align: top;\n",
       "    }\n",
       "\n",
       "    .dataframe thead th {\n",
       "        text-align: right;\n",
       "    }\n",
       "</style>\n",
       "<table border=\"1\" class=\"dataframe\">\n",
       "  <thead>\n",
       "    <tr style=\"text-align: right;\">\n",
       "      <th></th>\n",
       "      <th>Close*</th>\n",
       "      <th>Close</th>\n",
       "      <th>NewPrice</th>\n",
       "      <th>oilprice</th>\n",
       "      <th>oilPrice</th>\n",
       "      <th>clean_msg</th>\n",
       "    </tr>\n",
       "    <tr>\n",
       "      <th>Date</th>\n",
       "      <th></th>\n",
       "      <th></th>\n",
       "      <th></th>\n",
       "      <th></th>\n",
       "      <th></th>\n",
       "      <th></th>\n",
       "    </tr>\n",
       "  </thead>\n",
       "  <tbody>\n",
       "    <tr>\n",
       "      <th>2022-07-08</th>\n",
       "      <td>104.79</td>\n",
       "      <td>107.010002</td>\n",
       "      <td>107.010002</td>\n",
       "      <td>104.79</td>\n",
       "      <td>10479.0</td>\n",
       "      <td>104.79</td>\n",
       "    </tr>\n",
       "    <tr>\n",
       "      <th>2022-07-07</th>\n",
       "      <td>102.73</td>\n",
       "      <td>107.129997</td>\n",
       "      <td>107.129997</td>\n",
       "      <td>102.73</td>\n",
       "      <td>10273.0</td>\n",
       "      <td>102.73</td>\n",
       "    </tr>\n",
       "    <tr>\n",
       "      <th>2022-07-06</th>\n",
       "      <td>98.53</td>\n",
       "      <td>107.099998</td>\n",
       "      <td>107.099998</td>\n",
       "      <td>98.53</td>\n",
       "      <td>9853.0</td>\n",
       "      <td>98.53</td>\n",
       "    </tr>\n",
       "    <tr>\n",
       "      <th>2022-07-05</th>\n",
       "      <td>99.5</td>\n",
       "      <td>106.500000</td>\n",
       "      <td>106.500000</td>\n",
       "      <td>99.5</td>\n",
       "      <td>995.0</td>\n",
       "      <td>99.5</td>\n",
       "    </tr>\n",
       "    <tr>\n",
       "      <th>2022-07-04</th>\n",
       "      <td>-</td>\n",
       "      <td>105.190002</td>\n",
       "      <td>105.190002</td>\n",
       "      <td>-</td>\n",
       "      <td>8082.5</td>\n",
       "      <td>-</td>\n",
       "    </tr>\n",
       "    <tr>\n",
       "      <th>...</th>\n",
       "      <td>...</td>\n",
       "      <td>...</td>\n",
       "      <td>...</td>\n",
       "      <td>...</td>\n",
       "      <td>...</td>\n",
       "      <td>...</td>\n",
       "    </tr>\n",
       "    <tr>\n",
       "      <th>2021-07-15</th>\n",
       "      <td>71.65</td>\n",
       "      <td>92.620003</td>\n",
       "      <td>92.620003</td>\n",
       "      <td>71.65</td>\n",
       "      <td>7165.0</td>\n",
       "      <td>71.65</td>\n",
       "    </tr>\n",
       "    <tr>\n",
       "      <th>2021-07-14</th>\n",
       "      <td>73.13</td>\n",
       "      <td>92.410004</td>\n",
       "      <td>92.410004</td>\n",
       "      <td>73.13</td>\n",
       "      <td>7313.0</td>\n",
       "      <td>73.13</td>\n",
       "    </tr>\n",
       "    <tr>\n",
       "      <th>2021-07-13</th>\n",
       "      <td>75.25</td>\n",
       "      <td>92.750000</td>\n",
       "      <td>92.750000</td>\n",
       "      <td>75.25</td>\n",
       "      <td>7525.0</td>\n",
       "      <td>75.25</td>\n",
       "    </tr>\n",
       "    <tr>\n",
       "      <th>2021-07-12</th>\n",
       "      <td>74.1</td>\n",
       "      <td>92.230003</td>\n",
       "      <td>92.230003</td>\n",
       "      <td>74.1</td>\n",
       "      <td>741.0</td>\n",
       "      <td>74.1</td>\n",
       "    </tr>\n",
       "    <tr>\n",
       "      <th>2021-07-09</th>\n",
       "      <td>74.56</td>\n",
       "      <td>92.129997</td>\n",
       "      <td>92.129997</td>\n",
       "      <td>74.56</td>\n",
       "      <td>7456.0</td>\n",
       "      <td>74.56</td>\n",
       "    </tr>\n",
       "  </tbody>\n",
       "</table>\n",
       "<p>256 rows × 6 columns</p>\n",
       "</div>"
      ],
      "text/plain": [
       "            Close*       Close    NewPrice oilprice  oilPrice clean_msg\n",
       "Date                                                                   \n",
       "2022-07-08  104.79  107.010002  107.010002   104.79   10479.0    104.79\n",
       "2022-07-07  102.73  107.129997  107.129997   102.73   10273.0    102.73\n",
       "2022-07-06   98.53  107.099998  107.099998    98.53    9853.0     98.53\n",
       "2022-07-05    99.5  106.500000  106.500000     99.5     995.0      99.5\n",
       "2022-07-04       -  105.190002  105.190002        -    8082.5         -\n",
       "...            ...         ...         ...      ...       ...       ...\n",
       "2021-07-15   71.65   92.620003   92.620003    71.65    7165.0     71.65\n",
       "2021-07-14   73.13   92.410004   92.410004    73.13    7313.0     73.13\n",
       "2021-07-13   75.25   92.750000   92.750000    75.25    7525.0     75.25\n",
       "2021-07-12    74.1   92.230003   92.230003     74.1     741.0      74.1\n",
       "2021-07-09   74.56   92.129997   92.129997    74.56    7456.0     74.56\n",
       "\n",
       "[256 rows x 6 columns]"
      ]
     },
     "execution_count": 106,
     "metadata": {},
     "output_type": "execute_result"
    }
   ],
   "source": [
    "both['oilPrice'].fillna(both['oilPrice'].median(),inplace = True)\n",
    "both"
   ]
  },
  {
   "cell_type": "code",
   "execution_count": 125,
   "metadata": {},
   "outputs": [],
   "source": [
    "pct_delta = both[['Close', 'oilPrice']].pct_change()"
   ]
  },
  {
   "cell_type": "code",
   "execution_count": 126,
   "metadata": {},
   "outputs": [],
   "source": [
    "correlation = pct_delta['Close'].corr(pct_delta['oilPrice'])"
   ]
  },
  {
   "cell_type": "code",
   "execution_count": 127,
   "metadata": {},
   "outputs": [
    {
     "data": {
      "text/plain": [
       "-0.04919508374581478"
      ]
     },
     "execution_count": 127,
     "metadata": {},
     "output_type": "execute_result"
    }
   ],
   "source": [
    "correlation"
   ]
  },
  {
   "cell_type": "code",
   "execution_count": 150,
   "metadata": {},
   "outputs": [
    {
     "name": "stdout",
     "output_type": "stream",
     "text": [
      "<class 'pandas.core.frame.DataFrame'>\n",
      "DatetimeIndex: 256 entries, 2022-07-08 to 2021-07-09\n",
      "Data columns (total 6 columns):\n",
      " #   Column     Non-Null Count  Dtype  \n",
      "---  ------     --------------  -----  \n",
      " 0   Close*     256 non-null    object \n",
      " 1   Close      255 non-null    float64\n",
      " 2   NewPrice   255 non-null    float32\n",
      " 3   oilprice   256 non-null    object \n",
      " 4   oilPrice   256 non-null    float64\n",
      " 5   clean_msg  256 non-null    object \n",
      "dtypes: float32(1), float64(2), object(3)\n",
      "memory usage: 13.0+ KB\n"
     ]
    },
    {
     "data": {
      "text/plain": [
       "256"
      ]
     },
     "execution_count": 150,
     "metadata": {},
     "output_type": "execute_result"
    }
   ],
   "source": [
    "both.oilPrice.isna().value_counts()\n",
    "both.info()\n",
    "len(both.oilPrice)"
   ]
  },
  {
   "cell_type": "code",
   "execution_count": null,
   "metadata": {},
   "outputs": [],
   "source": []
  },
  {
   "cell_type": "code",
   "execution_count": 124,
   "metadata": {},
   "outputs": [
    {
     "data": {
      "text/html": [
       "<div>\n",
       "<style scoped>\n",
       "    .dataframe tbody tr th:only-of-type {\n",
       "        vertical-align: middle;\n",
       "    }\n",
       "\n",
       "    .dataframe tbody tr th {\n",
       "        vertical-align: top;\n",
       "    }\n",
       "\n",
       "    .dataframe thead th {\n",
       "        text-align: right;\n",
       "    }\n",
       "</style>\n",
       "<table border=\"1\" class=\"dataframe\">\n",
       "  <thead>\n",
       "    <tr style=\"text-align: right;\">\n",
       "      <th></th>\n",
       "      <th>Close*</th>\n",
       "      <th>Close</th>\n",
       "      <th>NewPrice</th>\n",
       "      <th>oilprice</th>\n",
       "      <th>oilPrice</th>\n",
       "      <th>clean_msg</th>\n",
       "    </tr>\n",
       "    <tr>\n",
       "      <th>Date</th>\n",
       "      <th></th>\n",
       "      <th></th>\n",
       "      <th></th>\n",
       "      <th></th>\n",
       "      <th></th>\n",
       "      <th></th>\n",
       "    </tr>\n",
       "  </thead>\n",
       "  <tbody>\n",
       "    <tr>\n",
       "      <th>2022-07-08</th>\n",
       "      <td>104.79</td>\n",
       "      <td>107.010002</td>\n",
       "      <td>107.010002</td>\n",
       "      <td>104.79</td>\n",
       "      <td>104.790</td>\n",
       "      <td>104.79</td>\n",
       "    </tr>\n",
       "    <tr>\n",
       "      <th>2022-07-07</th>\n",
       "      <td>102.73</td>\n",
       "      <td>107.129997</td>\n",
       "      <td>107.129997</td>\n",
       "      <td>102.73</td>\n",
       "      <td>102.730</td>\n",
       "      <td>102.73</td>\n",
       "    </tr>\n",
       "    <tr>\n",
       "      <th>2022-07-06</th>\n",
       "      <td>98.53</td>\n",
       "      <td>107.099998</td>\n",
       "      <td>107.099998</td>\n",
       "      <td>98.53</td>\n",
       "      <td>98.530</td>\n",
       "      <td>98.53</td>\n",
       "    </tr>\n",
       "    <tr>\n",
       "      <th>2022-07-05</th>\n",
       "      <td>99.5</td>\n",
       "      <td>106.500000</td>\n",
       "      <td>106.500000</td>\n",
       "      <td>99.5</td>\n",
       "      <td>9.950</td>\n",
       "      <td>99.5</td>\n",
       "    </tr>\n",
       "    <tr>\n",
       "      <th>2022-07-04</th>\n",
       "      <td>-</td>\n",
       "      <td>105.190002</td>\n",
       "      <td>105.190002</td>\n",
       "      <td>-</td>\n",
       "      <td>80.825</td>\n",
       "      <td>-</td>\n",
       "    </tr>\n",
       "    <tr>\n",
       "      <th>...</th>\n",
       "      <td>...</td>\n",
       "      <td>...</td>\n",
       "      <td>...</td>\n",
       "      <td>...</td>\n",
       "      <td>...</td>\n",
       "      <td>...</td>\n",
       "    </tr>\n",
       "    <tr>\n",
       "      <th>2021-07-15</th>\n",
       "      <td>71.65</td>\n",
       "      <td>92.620003</td>\n",
       "      <td>92.620003</td>\n",
       "      <td>71.65</td>\n",
       "      <td>71.650</td>\n",
       "      <td>71.65</td>\n",
       "    </tr>\n",
       "    <tr>\n",
       "      <th>2021-07-14</th>\n",
       "      <td>73.13</td>\n",
       "      <td>92.410004</td>\n",
       "      <td>92.410004</td>\n",
       "      <td>73.13</td>\n",
       "      <td>73.130</td>\n",
       "      <td>73.13</td>\n",
       "    </tr>\n",
       "    <tr>\n",
       "      <th>2021-07-13</th>\n",
       "      <td>75.25</td>\n",
       "      <td>92.750000</td>\n",
       "      <td>92.750000</td>\n",
       "      <td>75.25</td>\n",
       "      <td>75.250</td>\n",
       "      <td>75.25</td>\n",
       "    </tr>\n",
       "    <tr>\n",
       "      <th>2021-07-12</th>\n",
       "      <td>74.1</td>\n",
       "      <td>92.230003</td>\n",
       "      <td>92.230003</td>\n",
       "      <td>74.1</td>\n",
       "      <td>7.410</td>\n",
       "      <td>74.1</td>\n",
       "    </tr>\n",
       "    <tr>\n",
       "      <th>2021-07-09</th>\n",
       "      <td>74.56</td>\n",
       "      <td>92.129997</td>\n",
       "      <td>92.129997</td>\n",
       "      <td>74.56</td>\n",
       "      <td>74.560</td>\n",
       "      <td>74.56</td>\n",
       "    </tr>\n",
       "  </tbody>\n",
       "</table>\n",
       "<p>256 rows × 6 columns</p>\n",
       "</div>"
      ],
      "text/plain": [
       "            Close*       Close    NewPrice oilprice  oilPrice clean_msg\n",
       "Date                                                                   \n",
       "2022-07-08  104.79  107.010002  107.010002   104.79   104.790    104.79\n",
       "2022-07-07  102.73  107.129997  107.129997   102.73   102.730    102.73\n",
       "2022-07-06   98.53  107.099998  107.099998    98.53    98.530     98.53\n",
       "2022-07-05    99.5  106.500000  106.500000     99.5     9.950      99.5\n",
       "2022-07-04       -  105.190002  105.190002        -    80.825         -\n",
       "...            ...         ...         ...      ...       ...       ...\n",
       "2021-07-15   71.65   92.620003   92.620003    71.65    71.650     71.65\n",
       "2021-07-14   73.13   92.410004   92.410004    73.13    73.130     73.13\n",
       "2021-07-13   75.25   92.750000   92.750000    75.25    75.250     75.25\n",
       "2021-07-12    74.1   92.230003   92.230003     74.1     7.410      74.1\n",
       "2021-07-09   74.56   92.129997   92.129997    74.56    74.560     74.56\n",
       "\n",
       "[256 rows x 6 columns]"
      ]
     },
     "execution_count": 124,
     "metadata": {},
     "output_type": "execute_result"
    }
   ],
   "source": [
    "both['oilPrice'] = both['oilPrice']/100\n",
    "both"
   ]
  },
  {
   "cell_type": "code",
   "execution_count": 151,
   "metadata": {},
   "outputs": [
    {
     "ename": "AttributeError",
     "evalue": "'DataFrame' object has no attribute 'map'",
     "output_type": "error",
     "traceback": [
      "\u001b[1;31m---------------------------------------------------------------------------\u001b[0m",
      "\u001b[1;31mAttributeError\u001b[0m                            Traceback (most recent call last)",
      "\u001b[1;32m<ipython-input-151-f24d414bdcef>\u001b[0m in \u001b[0;36m<module>\u001b[1;34m\u001b[0m\n\u001b[0;32m      5\u001b[0m     \u001b[1;32melse\u001b[0m\u001b[1;33m:\u001b[0m\u001b[1;33m\u001b[0m\u001b[1;33m\u001b[0m\u001b[0m\n\u001b[0;32m      6\u001b[0m         \u001b[1;32mreturn\u001b[0m \u001b[1;33m(\u001b[0m\u001b[0mx\u001b[0m\u001b[1;33m)\u001b[0m\u001b[1;33m\u001b[0m\u001b[1;33m\u001b[0m\u001b[0m\n\u001b[1;32m----> 7\u001b[1;33m \u001b[0mbo\u001b[0m\u001b[1;33m.\u001b[0m\u001b[0mmap\u001b[0m\u001b[1;33m(\u001b[0m\u001b[0mmulti\u001b[0m\u001b[1;33m)\u001b[0m\u001b[1;33m\u001b[0m\u001b[1;33m\u001b[0m\u001b[0m\n\u001b[0m\u001b[0;32m      8\u001b[0m \u001b[0mbo\u001b[0m\u001b[1;33m\u001b[0m\u001b[1;33m\u001b[0m\u001b[0m\n",
      "\u001b[1;32m~\\anaconda3\\lib\\site-packages\\pandas\\core\\generic.py\u001b[0m in \u001b[0;36m__getattr__\u001b[1;34m(self, name)\u001b[0m\n\u001b[0;32m   5137\u001b[0m             \u001b[1;32mif\u001b[0m \u001b[0mself\u001b[0m\u001b[1;33m.\u001b[0m\u001b[0m_info_axis\u001b[0m\u001b[1;33m.\u001b[0m\u001b[0m_can_hold_identifiers_and_holds_name\u001b[0m\u001b[1;33m(\u001b[0m\u001b[0mname\u001b[0m\u001b[1;33m)\u001b[0m\u001b[1;33m:\u001b[0m\u001b[1;33m\u001b[0m\u001b[1;33m\u001b[0m\u001b[0m\n\u001b[0;32m   5138\u001b[0m                 \u001b[1;32mreturn\u001b[0m \u001b[0mself\u001b[0m\u001b[1;33m[\u001b[0m\u001b[0mname\u001b[0m\u001b[1;33m]\u001b[0m\u001b[1;33m\u001b[0m\u001b[1;33m\u001b[0m\u001b[0m\n\u001b[1;32m-> 5139\u001b[1;33m             \u001b[1;32mreturn\u001b[0m \u001b[0mobject\u001b[0m\u001b[1;33m.\u001b[0m\u001b[0m__getattribute__\u001b[0m\u001b[1;33m(\u001b[0m\u001b[0mself\u001b[0m\u001b[1;33m,\u001b[0m \u001b[0mname\u001b[0m\u001b[1;33m)\u001b[0m\u001b[1;33m\u001b[0m\u001b[1;33m\u001b[0m\u001b[0m\n\u001b[0m\u001b[0;32m   5140\u001b[0m \u001b[1;33m\u001b[0m\u001b[0m\n\u001b[0;32m   5141\u001b[0m     \u001b[1;32mdef\u001b[0m \u001b[0m__setattr__\u001b[0m\u001b[1;33m(\u001b[0m\u001b[0mself\u001b[0m\u001b[1;33m,\u001b[0m \u001b[0mname\u001b[0m\u001b[1;33m:\u001b[0m \u001b[0mstr\u001b[0m\u001b[1;33m,\u001b[0m \u001b[0mvalue\u001b[0m\u001b[1;33m)\u001b[0m \u001b[1;33m->\u001b[0m \u001b[1;32mNone\u001b[0m\u001b[1;33m:\u001b[0m\u001b[1;33m\u001b[0m\u001b[1;33m\u001b[0m\u001b[0m\n",
      "\u001b[1;31mAttributeError\u001b[0m: 'DataFrame' object has no attribute 'map'"
     ]
    }
   ],
   "source": [
    "\n",
    "def multi (x):\n",
    "    if x < 10:\n",
    "        return (x*10)\n",
    "    else:\n",
    "        return (x)\n",
    "both['oilPrice']= both['oilPrice'].map(multi)\n",
    "both"
   ]
  },
  {
   "cell_type": "code",
   "execution_count": 134,
   "metadata": {},
   "outputs": [],
   "source": [
    "pct_delta = both[['Close', 'oilPrice']].pct_change()"
   ]
  },
  {
   "cell_type": "code",
   "execution_count": 138,
   "metadata": {},
   "outputs": [
    {
     "data": {
      "text/plain": [
       "-0.055396730567590265"
      ]
     },
     "execution_count": 138,
     "metadata": {},
     "output_type": "execute_result"
    }
   ],
   "source": [
    "correlation = pct_delta['oilPrice'].corr(pct_delta['Close'])\n",
    "correlation"
   ]
  },
  {
   "cell_type": "code",
   "execution_count": 141,
   "metadata": {},
   "outputs": [
    {
     "data": {
      "text/plain": [
       "<matplotlib.collections.PathCollection at 0x1f8424b38b0>"
      ]
     },
     "execution_count": 141,
     "metadata": {},
     "output_type": "execute_result"
    },
    {
     "data": {
      "image/png": "[encoded data removed]",
      "text/plain": [
       "<Figure size 432x288 with 1 Axes>"
      ]
     },
     "metadata": {
      "needs_background": "light"
     },
     "output_type": "display_data"
    }
   ],
   "source": [
    "plt.scatter( pct_delta['Close'],pct_delta['oilPrice'])"
   ]
  },
  {
   "cell_type": "code",
   "execution_count": 5,
   "metadata": {},
   "outputs": [],
   "source": [
    "temp = pd.read_clipboard()"
   ]
  },
  {
   "cell_type": "code",
   "execution_count": 7,
   "metadata": {},
   "outputs": [
    {
     "data": {
      "text/plain": [
       "<AxesSubplot:ylabel='Frequency'>"
      ]
     },
     "execution_count": 7,
     "metadata": {},
     "output_type": "execute_result"
    },
    {
     "data": {
      "image/png": "[encoded data removed]",
      "text/plain": [
       "<Figure size 432x288 with 1 Axes>"
      ]
     },
     "metadata": {
      "needs_background": "light"
     },
     "output_type": "display_data"
    }
   ],
   "source": [
    "temp.plot(kind=\"hist\")"
   ]
  },
  {
   "cell_type": "code",
   "execution_count": 8,
   "metadata": {},
   "outputs": [],
   "source": [
    "import matplotlib.pyplot as plt"
   ]
  },
  {
   "cell_type": "code",
   "execution_count": 11,
   "metadata": {},
   "outputs": [
    {
     "data": {
      "image/png": "[encoded data removed]",
      "text/plain": [
       "<Figure size 432x288 with 1 Axes>"
      ]
     },
     "metadata": {
      "needs_background": "light"
     },
     "output_type": "display_data"
    }
   ],
   "source": [
    "plt.boxplot(temp);"
   ]
  },
  {
   "cell_type": "code",
   "execution_count": 12,
   "metadata": {},
   "outputs": [
    {
     "data": {
      "text/plain": [
       "temp    35.054146\n",
       "dtype: float64"
      ]
     },
     "execution_count": 12,
     "metadata": {},
     "output_type": "execute_result"
    }
   ],
   "source": [
    "temp.mean()"
   ]
  },
  {
   "cell_type": "code",
   "execution_count": 13,
   "metadata": {},
   "outputs": [
    {
     "data": {
      "text/plain": [
       "temp    21\n",
       "dtype: int64"
      ]
     },
     "execution_count": 13,
     "metadata": {},
     "output_type": "execute_result"
    }
   ],
   "source": [
    "temp.min()"
   ]
  },
  {
   "cell_type": "code",
   "execution_count": 14,
   "metadata": {},
   "outputs": [
    {
     "data": {
      "text/plain": [
       "temp    51\n",
       "dtype: int64"
      ]
     },
     "execution_count": 14,
     "metadata": {},
     "output_type": "execute_result"
    }
   ],
   "source": [
    "temp.max()"
   ]
  },
  {
   "cell_type": "code",
   "execution_count": 31,
   "metadata": {},
   "outputs": [
    {
     "data": {
      "text/plain": [
       "97606"
      ]
     },
     "execution_count": 31,
     "metadata": {},
     "output_type": "execute_result"
    },
    {
     "data": {
      "image/png": "[encoded data removed]",
      "text/plain": [
       "<Figure size 432x288 with 1 Axes>"
      ]
     },
     "metadata": {
      "needs_background": "light"
     },
     "output_type": "display_data"
    }
   ],
   "source": [
    "temp.plot(kind = 'kde')\n",
    "temp.size"
   ]
  },
  {
   "cell_type": "code",
   "execution_count": 18,
   "metadata": {},
   "outputs": [
    {
     "data": {
      "image/png": "[encoded data removed]",
      "text/plain": [
       "<Figure size 432x288 with 1 Axes>"
      ]
     },
     "metadata": {
      "needs_background": "light"
     },
     "output_type": "display_data"
    }
   ],
   "source": [
    "from numpy.random import seed\n",
    "from numpy.random import randn\n",
    "from statsmodels.graphics.gofplots import qqplot\n",
    "from matplotlib import pyplot\n",
    "# seed the random number generator\n",
    "seed(1)\n",
    "# generate univariate observations\n",
    "data = 5 * randn(100) + 50\n",
    "# q-q plot\n",
    "qqplot(data, line='s')\n",
    "pyplot.show()"
   ]
  },
  {
   "cell_type": "code",
   "execution_count": 32,
   "metadata": {},
   "outputs": [],
   "source": [
    "tem = pd.read_clipboard()"
   ]
  },
  {
   "cell_type": "code",
   "execution_count": 4,
   "metadata": {},
   "outputs": [
    {
     "ename": "ValueError",
     "evalue": "unrecognized data structures: <class 'ellipsis'> / <class 'NoneType'>",
     "output_type": "error",
     "traceback": [
      "\u001b[1;31m---------------------------------------------------------------------------\u001b[0m",
      "\u001b[1;31mValueError\u001b[0m                                Traceback (most recent call last)",
      "\u001b[1;32m<ipython-input-4-80d22ee328ec>\u001b[0m in \u001b[0;36m<module>\u001b[1;34m\u001b[0m\n\u001b[0;32m      5\u001b[0m \u001b[0mdata\u001b[0m \u001b[1;33m=\u001b[0m \u001b[1;33m...\u001b[0m\u001b[1;33m\u001b[0m\u001b[1;33m\u001b[0m\u001b[0m\n\u001b[0;32m      6\u001b[0m \u001b[1;31m# create class\u001b[0m\u001b[1;33m\u001b[0m\u001b[1;33m\u001b[0m\u001b[1;33m\u001b[0m\u001b[0m\n\u001b[1;32m----> 7\u001b[1;33m \u001b[0mmodel\u001b[0m \u001b[1;33m=\u001b[0m \u001b[0mSimpleExpSmoothing\u001b[0m\u001b[1;33m(\u001b[0m\u001b[0mdata\u001b[0m\u001b[1;33m)\u001b[0m\u001b[1;33m\u001b[0m\u001b[1;33m\u001b[0m\u001b[0m\n\u001b[0m\u001b[0;32m      8\u001b[0m \u001b[1;31m# fit model\u001b[0m\u001b[1;33m\u001b[0m\u001b[1;33m\u001b[0m\u001b[1;33m\u001b[0m\u001b[0m\n\u001b[0;32m      9\u001b[0m \u001b[0mmodel_fit\u001b[0m \u001b[1;33m=\u001b[0m \u001b[0mmodel\u001b[0m\u001b[1;33m.\u001b[0m\u001b[0mfit\u001b[0m\u001b[1;33m(\u001b[0m\u001b[1;33m...\u001b[0m\u001b[1;33m)\u001b[0m\u001b[1;33m\u001b[0m\u001b[1;33m\u001b[0m\u001b[0m\n",
      "\u001b[1;32m~\\anaconda3\\lib\\site-packages\\statsmodels\\tsa\\holtwinters\\model.py\u001b[0m in \u001b[0;36m__init__\u001b[1;34m(self, endog, initialization_method, initial_level)\u001b[0m\n\u001b[0;32m   1537\u001b[0m         \u001b[0minitial_level\u001b[0m\u001b[1;33m=\u001b[0m\u001b[1;32mNone\u001b[0m\u001b[1;33m,\u001b[0m\u001b[1;33m\u001b[0m\u001b[1;33m\u001b[0m\u001b[0m\n\u001b[0;32m   1538\u001b[0m     ):\n\u001b[1;32m-> 1539\u001b[1;33m         super().__init__(\n\u001b[0m\u001b[0;32m   1540\u001b[0m             \u001b[0mendog\u001b[0m\u001b[1;33m,\u001b[0m\u001b[1;33m\u001b[0m\u001b[1;33m\u001b[0m\u001b[0m\n\u001b[0;32m   1541\u001b[0m             \u001b[0minitialization_method\u001b[0m\u001b[1;33m=\u001b[0m\u001b[0minitialization_method\u001b[0m\u001b[1;33m,\u001b[0m\u001b[1;33m\u001b[0m\u001b[1;33m\u001b[0m\u001b[0m\n",
      "\u001b[1;32m~\\anaconda3\\lib\\site-packages\\pandas\\util\\_decorators.py\u001b[0m in \u001b[0;36mwrapper\u001b[1;34m(*args, **kwargs)\u001b[0m\n\u001b[0;32m    197\u001b[0m                 \u001b[1;32melse\u001b[0m\u001b[1;33m:\u001b[0m\u001b[1;33m\u001b[0m\u001b[1;33m\u001b[0m\u001b[0m\n\u001b[0;32m    198\u001b[0m                     \u001b[0mkwargs\u001b[0m\u001b[1;33m[\u001b[0m\u001b[0mnew_arg_name\u001b[0m\u001b[1;33m]\u001b[0m \u001b[1;33m=\u001b[0m \u001b[0mnew_arg_value\u001b[0m\u001b[1;33m\u001b[0m\u001b[1;33m\u001b[0m\u001b[0m\n\u001b[1;32m--> 199\u001b[1;33m             \u001b[1;32mreturn\u001b[0m \u001b[0mfunc\u001b[0m\u001b[1;33m(\u001b[0m\u001b[1;33m*\u001b[0m\u001b[0margs\u001b[0m\u001b[1;33m,\u001b[0m \u001b[1;33m**\u001b[0m\u001b[0mkwargs\u001b[0m\u001b[1;33m)\u001b[0m\u001b[1;33m\u001b[0m\u001b[1;33m\u001b[0m\u001b[0m\n\u001b[0m\u001b[0;32m    200\u001b[0m \u001b[1;33m\u001b[0m\u001b[0m\n\u001b[0;32m    201\u001b[0m         \u001b[1;32mreturn\u001b[0m \u001b[0mcast\u001b[0m\u001b[1;33m(\u001b[0m\u001b[0mF\u001b[0m\u001b[1;33m,\u001b[0m \u001b[0mwrapper\u001b[0m\u001b[1;33m)\u001b[0m\u001b[1;33m\u001b[0m\u001b[1;33m\u001b[0m\u001b[0m\n",
      "\u001b[1;32m~\\anaconda3\\lib\\site-packages\\statsmodels\\tsa\\holtwinters\\model.py\u001b[0m in \u001b[0;36m__init__\u001b[1;34m(self, endog, trend, damped_trend, seasonal, seasonal_periods, initialization_method, initial_level, initial_trend, initial_seasonal, use_boxcox, bounds, dates, freq, missing)\u001b[0m\n\u001b[0;32m    220\u001b[0m         \u001b[0mmissing\u001b[0m\u001b[1;33m=\u001b[0m\u001b[1;34m\"none\"\u001b[0m\u001b[1;33m,\u001b[0m\u001b[1;33m\u001b[0m\u001b[1;33m\u001b[0m\u001b[0m\n\u001b[0;32m    221\u001b[0m     ):\n\u001b[1;32m--> 222\u001b[1;33m         \u001b[0msuper\u001b[0m\u001b[1;33m(\u001b[0m\u001b[1;33m)\u001b[0m\u001b[1;33m.\u001b[0m\u001b[0m__init__\u001b[0m\u001b[1;33m(\u001b[0m\u001b[0mendog\u001b[0m\u001b[1;33m,\u001b[0m \u001b[1;32mNone\u001b[0m\u001b[1;33m,\u001b[0m \u001b[0mdates\u001b[0m\u001b[1;33m,\u001b[0m \u001b[0mfreq\u001b[0m\u001b[1;33m,\u001b[0m \u001b[0mmissing\u001b[0m\u001b[1;33m=\u001b[0m\u001b[0mmissing\u001b[0m\u001b[1;33m)\u001b[0m\u001b[1;33m\u001b[0m\u001b[1;33m\u001b[0m\u001b[0m\n\u001b[0m\u001b[0;32m    223\u001b[0m         self._y = self._data = array_like(\n\u001b[0;32m    224\u001b[0m             \u001b[0mendog\u001b[0m\u001b[1;33m,\u001b[0m \u001b[1;34m\"endog\"\u001b[0m\u001b[1;33m,\u001b[0m \u001b[0mndim\u001b[0m\u001b[1;33m=\u001b[0m\u001b[1;36m1\u001b[0m\u001b[1;33m,\u001b[0m \u001b[0mcontiguous\u001b[0m\u001b[1;33m=\u001b[0m\u001b[1;32mTrue\u001b[0m\u001b[1;33m,\u001b[0m \u001b[0morder\u001b[0m\u001b[1;33m=\u001b[0m\u001b[1;34m\"C\"\u001b[0m\u001b[1;33m\u001b[0m\u001b[1;33m\u001b[0m\u001b[0m\n",
      "\u001b[1;32m~\\anaconda3\\lib\\site-packages\\statsmodels\\tsa\\base\\tsa_model.py\u001b[0m in \u001b[0;36m__init__\u001b[1;34m(self, endog, exog, dates, freq, missing, **kwargs)\u001b[0m\n\u001b[0;32m    466\u001b[0m         \u001b[0mself\u001b[0m\u001b[1;33m,\u001b[0m \u001b[0mendog\u001b[0m\u001b[1;33m,\u001b[0m \u001b[0mexog\u001b[0m\u001b[1;33m=\u001b[0m\u001b[1;32mNone\u001b[0m\u001b[1;33m,\u001b[0m \u001b[0mdates\u001b[0m\u001b[1;33m=\u001b[0m\u001b[1;32mNone\u001b[0m\u001b[1;33m,\u001b[0m \u001b[0mfreq\u001b[0m\u001b[1;33m=\u001b[0m\u001b[1;32mNone\u001b[0m\u001b[1;33m,\u001b[0m \u001b[0mmissing\u001b[0m\u001b[1;33m=\u001b[0m\u001b[1;34m\"none\"\u001b[0m\u001b[1;33m,\u001b[0m \u001b[1;33m**\u001b[0m\u001b[0mkwargs\u001b[0m\u001b[1;33m\u001b[0m\u001b[1;33m\u001b[0m\u001b[0m\n\u001b[0;32m    467\u001b[0m     ):\n\u001b[1;32m--> 468\u001b[1;33m         \u001b[0msuper\u001b[0m\u001b[1;33m(\u001b[0m\u001b[1;33m)\u001b[0m\u001b[1;33m.\u001b[0m\u001b[0m__init__\u001b[0m\u001b[1;33m(\u001b[0m\u001b[0mendog\u001b[0m\u001b[1;33m,\u001b[0m \u001b[0mexog\u001b[0m\u001b[1;33m,\u001b[0m \u001b[0mmissing\u001b[0m\u001b[1;33m=\u001b[0m\u001b[0mmissing\u001b[0m\u001b[1;33m,\u001b[0m \u001b[1;33m**\u001b[0m\u001b[0mkwargs\u001b[0m\u001b[1;33m)\u001b[0m\u001b[1;33m\u001b[0m\u001b[1;33m\u001b[0m\u001b[0m\n\u001b[0m\u001b[0;32m    469\u001b[0m \u001b[1;33m\u001b[0m\u001b[0m\n\u001b[0;32m    470\u001b[0m         \u001b[1;31m# Date handling in indexes\u001b[0m\u001b[1;33m\u001b[0m\u001b[1;33m\u001b[0m\u001b[1;33m\u001b[0m\u001b[0m\n",
      "\u001b[1;32m~\\anaconda3\\lib\\site-packages\\statsmodels\\base\\model.py\u001b[0m in \u001b[0;36m__init__\u001b[1;34m(self, endog, exog, **kwargs)\u001b[0m\n\u001b[0;32m    265\u001b[0m \u001b[1;33m\u001b[0m\u001b[0m\n\u001b[0;32m    266\u001b[0m     \u001b[1;32mdef\u001b[0m \u001b[0m__init__\u001b[0m\u001b[1;33m(\u001b[0m\u001b[0mself\u001b[0m\u001b[1;33m,\u001b[0m \u001b[0mendog\u001b[0m\u001b[1;33m,\u001b[0m \u001b[0mexog\u001b[0m\u001b[1;33m=\u001b[0m\u001b[1;32mNone\u001b[0m\u001b[1;33m,\u001b[0m \u001b[1;33m**\u001b[0m\u001b[0mkwargs\u001b[0m\u001b[1;33m)\u001b[0m\u001b[1;33m:\u001b[0m\u001b[1;33m\u001b[0m\u001b[1;33m\u001b[0m\u001b[0m\n\u001b[1;32m--> 267\u001b[1;33m         \u001b[0msuper\u001b[0m\u001b[1;33m(\u001b[0m\u001b[1;33m)\u001b[0m\u001b[1;33m.\u001b[0m\u001b[0m__init__\u001b[0m\u001b[1;33m(\u001b[0m\u001b[0mendog\u001b[0m\u001b[1;33m,\u001b[0m \u001b[0mexog\u001b[0m\u001b[1;33m,\u001b[0m \u001b[1;33m**\u001b[0m\u001b[0mkwargs\u001b[0m\u001b[1;33m)\u001b[0m\u001b[1;33m\u001b[0m\u001b[1;33m\u001b[0m\u001b[0m\n\u001b[0m\u001b[0;32m    268\u001b[0m         \u001b[0mself\u001b[0m\u001b[1;33m.\u001b[0m\u001b[0minitialize\u001b[0m\u001b[1;33m(\u001b[0m\u001b[1;33m)\u001b[0m\u001b[1;33m\u001b[0m\u001b[1;33m\u001b[0m\u001b[0m\n\u001b[0;32m    269\u001b[0m \u001b[1;33m\u001b[0m\u001b[0m\n",
      "\u001b[1;32m~\\anaconda3\\lib\\site-packages\\statsmodels\\base\\model.py\u001b[0m in \u001b[0;36m__init__\u001b[1;34m(self, endog, exog, **kwargs)\u001b[0m\n\u001b[0;32m     90\u001b[0m         \u001b[0mmissing\u001b[0m \u001b[1;33m=\u001b[0m \u001b[0mkwargs\u001b[0m\u001b[1;33m.\u001b[0m\u001b[0mpop\u001b[0m\u001b[1;33m(\u001b[0m\u001b[1;34m'missing'\u001b[0m\u001b[1;33m,\u001b[0m \u001b[1;34m'none'\u001b[0m\u001b[1;33m)\u001b[0m\u001b[1;33m\u001b[0m\u001b[1;33m\u001b[0m\u001b[0m\n\u001b[0;32m     91\u001b[0m         \u001b[0mhasconst\u001b[0m \u001b[1;33m=\u001b[0m \u001b[0mkwargs\u001b[0m\u001b[1;33m.\u001b[0m\u001b[0mpop\u001b[0m\u001b[1;33m(\u001b[0m\u001b[1;34m'hasconst'\u001b[0m\u001b[1;33m,\u001b[0m \u001b[1;32mNone\u001b[0m\u001b[1;33m)\u001b[0m\u001b[1;33m\u001b[0m\u001b[1;33m\u001b[0m\u001b[0m\n\u001b[1;32m---> 92\u001b[1;33m         self.data = self._handle_data(endog, exog, missing, hasconst,\n\u001b[0m\u001b[0;32m     93\u001b[0m                                       **kwargs)\n\u001b[0;32m     94\u001b[0m         \u001b[0mself\u001b[0m\u001b[1;33m.\u001b[0m\u001b[0mk_constant\u001b[0m \u001b[1;33m=\u001b[0m \u001b[0mself\u001b[0m\u001b[1;33m.\u001b[0m\u001b[0mdata\u001b[0m\u001b[1;33m.\u001b[0m\u001b[0mk_constant\u001b[0m\u001b[1;33m\u001b[0m\u001b[1;33m\u001b[0m\u001b[0m\n",
      "\u001b[1;32m~\\anaconda3\\lib\\site-packages\\statsmodels\\base\\model.py\u001b[0m in \u001b[0;36m_handle_data\u001b[1;34m(self, endog, exog, missing, hasconst, **kwargs)\u001b[0m\n\u001b[0;32m    130\u001b[0m \u001b[1;33m\u001b[0m\u001b[0m\n\u001b[0;32m    131\u001b[0m     \u001b[1;32mdef\u001b[0m \u001b[0m_handle_data\u001b[0m\u001b[1;33m(\u001b[0m\u001b[0mself\u001b[0m\u001b[1;33m,\u001b[0m \u001b[0mendog\u001b[0m\u001b[1;33m,\u001b[0m \u001b[0mexog\u001b[0m\u001b[1;33m,\u001b[0m \u001b[0mmissing\u001b[0m\u001b[1;33m,\u001b[0m \u001b[0mhasconst\u001b[0m\u001b[1;33m,\u001b[0m \u001b[1;33m**\u001b[0m\u001b[0mkwargs\u001b[0m\u001b[1;33m)\u001b[0m\u001b[1;33m:\u001b[0m\u001b[1;33m\u001b[0m\u001b[1;33m\u001b[0m\u001b[0m\n\u001b[1;32m--> 132\u001b[1;33m         \u001b[0mdata\u001b[0m \u001b[1;33m=\u001b[0m \u001b[0mhandle_data\u001b[0m\u001b[1;33m(\u001b[0m\u001b[0mendog\u001b[0m\u001b[1;33m,\u001b[0m \u001b[0mexog\u001b[0m\u001b[1;33m,\u001b[0m \u001b[0mmissing\u001b[0m\u001b[1;33m,\u001b[0m \u001b[0mhasconst\u001b[0m\u001b[1;33m,\u001b[0m \u001b[1;33m**\u001b[0m\u001b[0mkwargs\u001b[0m\u001b[1;33m)\u001b[0m\u001b[1;33m\u001b[0m\u001b[1;33m\u001b[0m\u001b[0m\n\u001b[0m\u001b[0;32m    133\u001b[0m         \u001b[1;31m# kwargs arrays could have changed, easier to just attach here\u001b[0m\u001b[1;33m\u001b[0m\u001b[1;33m\u001b[0m\u001b[1;33m\u001b[0m\u001b[0m\n\u001b[0;32m    134\u001b[0m         \u001b[1;32mfor\u001b[0m \u001b[0mkey\u001b[0m \u001b[1;32min\u001b[0m \u001b[0mkwargs\u001b[0m\u001b[1;33m:\u001b[0m\u001b[1;33m\u001b[0m\u001b[1;33m\u001b[0m\u001b[0m\n",
      "\u001b[1;32m~\\anaconda3\\lib\\site-packages\\statsmodels\\base\\data.py\u001b[0m in \u001b[0;36mhandle_data\u001b[1;34m(endog, exog, missing, hasconst, **kwargs)\u001b[0m\n\u001b[0;32m    670\u001b[0m         \u001b[0mexog\u001b[0m \u001b[1;33m=\u001b[0m \u001b[0mnp\u001b[0m\u001b[1;33m.\u001b[0m\u001b[0masarray\u001b[0m\u001b[1;33m(\u001b[0m\u001b[0mexog\u001b[0m\u001b[1;33m)\u001b[0m\u001b[1;33m\u001b[0m\u001b[1;33m\u001b[0m\u001b[0m\n\u001b[0;32m    671\u001b[0m \u001b[1;33m\u001b[0m\u001b[0m\n\u001b[1;32m--> 672\u001b[1;33m     \u001b[0mklass\u001b[0m \u001b[1;33m=\u001b[0m \u001b[0mhandle_data_class_factory\u001b[0m\u001b[1;33m(\u001b[0m\u001b[0mendog\u001b[0m\u001b[1;33m,\u001b[0m \u001b[0mexog\u001b[0m\u001b[1;33m)\u001b[0m\u001b[1;33m\u001b[0m\u001b[1;33m\u001b[0m\u001b[0m\n\u001b[0m\u001b[0;32m    673\u001b[0m     return klass(endog, exog=exog, missing=missing, hasconst=hasconst,\n\u001b[0;32m    674\u001b[0m                  **kwargs)\n",
      "\u001b[1;32m~\\anaconda3\\lib\\site-packages\\statsmodels\\base\\data.py\u001b[0m in \u001b[0;36mhandle_data_class_factory\u001b[1;34m(endog, exog)\u001b[0m\n\u001b[0;32m    658\u001b[0m         \u001b[0mklass\u001b[0m \u001b[1;33m=\u001b[0m \u001b[0mModelData\u001b[0m\u001b[1;33m\u001b[0m\u001b[1;33m\u001b[0m\u001b[0m\n\u001b[0;32m    659\u001b[0m     \u001b[1;32melse\u001b[0m\u001b[1;33m:\u001b[0m\u001b[1;33m\u001b[0m\u001b[1;33m\u001b[0m\u001b[0m\n\u001b[1;32m--> 660\u001b[1;33m         raise ValueError('unrecognized data structures: %s / %s' %\n\u001b[0m\u001b[0;32m    661\u001b[0m                          (type(endog), type(exog)))\n\u001b[0;32m    662\u001b[0m     \u001b[1;32mreturn\u001b[0m \u001b[0mklass\u001b[0m\u001b[1;33m\u001b[0m\u001b[1;33m\u001b[0m\u001b[0m\n",
      "\u001b[1;31mValueError\u001b[0m: unrecognized data structures: <class 'ellipsis'> / <class 'NoneType'>"
     ]
    }
   ],
   "source": []
  },
  {
   "cell_type": "code",
   "execution_count": 4,
   "metadata": {},
   "outputs": [
    {
     "data": {
      "text/plain": [
       "15.0"
      ]
     },
     "execution_count": 4,
     "metadata": {},
     "output_type": "execute_result"
    }
   ],
   "source": [
    "(lambda x: (x + 3) * 5 / 2)(3)"
   ]
  },
  {
   "cell_type": "code",
   "execution_count": 7,
   "metadata": {},
   "outputs": [
    {
     "data": {
      "text/plain": [
       "<map at 0x23bcb4b7670>"
      ]
     },
     "execution_count": 7,
     "metadata": {},
     "output_type": "execute_result"
    }
   ],
   "source": [
    "numbers =[1,2,3]\n",
    "map(lambda x: x, numbers)"
   ]
  },
  {
   "cell_type": "code",
   "execution_count": 6,
   "metadata": {},
   "outputs": [
    {
     "ename": "TypeError",
     "evalue": "'DataFrame' object is not callable",
     "output_type": "error",
     "traceback": [
      "\u001b[1;31m---------------------------------------------------------------------------\u001b[0m",
      "\u001b[1;31mTypeError\u001b[0m                                 Traceback (most recent call last)",
      "\u001b[1;32m<ipython-input-6-2affd2176d5c>\u001b[0m in \u001b[0;36m<module>\u001b[1;34m\u001b[0m\n\u001b[1;32m----> 1\u001b[1;33m \u001b[0mlist\u001b[0m\u001b[1;33m(\u001b[0m\u001b[0mmap\u001b[0m\u001b[1;33m(\u001b[0m\u001b[1;32mlambda\u001b[0m \u001b[0mx\u001b[0m\u001b[1;33m:\u001b[0m \u001b[0mx\u001b[0m \u001b[1;33m%\u001b[0m \u001b[1;36m2\u001b[0m \u001b[1;33m==\u001b[0m \u001b[1;36m0\u001b[0m\u001b[1;33m,\u001b[0m \u001b[0mnumbers\u001b[0m\u001b[1;33m)\u001b[0m\u001b[1;33m)\u001b[0m\u001b[1;33m\u001b[0m\u001b[1;33m\u001b[0m\u001b[0m\n\u001b[0m",
      "\u001b[1;31mTypeError\u001b[0m: 'DataFrame' object is not callable"
     ]
    }
   ],
   "source": [
    "\n",
    "list(map(lambda x: x % 2 == 0, numbers))"
   ]
  },
  {
   "cell_type": "code",
   "execution_count": 12,
   "metadata": {},
   "outputs": [
    {
     "ename": "TypeError",
     "evalue": "'DataFrame' object is not callable",
     "output_type": "error",
     "traceback": [
      "\u001b[1;31m---------------------------------------------------------------------------\u001b[0m",
      "\u001b[1;31mTypeError\u001b[0m                                 Traceback (most recent call last)",
      "\u001b[1;32m<ipython-input-12-5af27f344038>\u001b[0m in \u001b[0;36m<module>\u001b[1;34m\u001b[0m\n\u001b[0;32m      1\u001b[0m \u001b[0mnumbers\u001b[0m \u001b[1;33m=\u001b[0m\u001b[1;33m[\u001b[0m\u001b[1;36m1\u001b[0m\u001b[1;33m,\u001b[0m\u001b[1;36m2\u001b[0m\u001b[1;33m,\u001b[0m\u001b[1;36m3\u001b[0m\u001b[1;33m]\u001b[0m\u001b[1;33m\u001b[0m\u001b[1;33m\u001b[0m\u001b[0m\n\u001b[1;32m----> 2\u001b[1;33m \u001b[0mlist\u001b[0m\u001b[1;33m(\u001b[0m\u001b[0mmap\u001b[0m\u001b[1;33m(\u001b[0m\u001b[1;32mlambda\u001b[0m \u001b[0mx\u001b[0m\u001b[1;33m:\u001b[0m \u001b[0mx\u001b[0m\u001b[1;33m,\u001b[0m \u001b[0mnumbers\u001b[0m\u001b[1;33m)\u001b[0m\u001b[1;33m)\u001b[0m\u001b[1;33m\u001b[0m\u001b[1;33m\u001b[0m\u001b[0m\n\u001b[0m",
      "\u001b[1;31mTypeError\u001b[0m: 'DataFrame' object is not callable"
     ]
    }
   ],
   "source": [
    "numbers =[1,2,3]\n",
    "list(map(lambda x: x, numbers))"
   ]
  },
  {
   "cell_type": "code",
   "execution_count": 19,
   "metadata": {},
   "outputs": [
    {
     "data": {
      "text/plain": [
       "6"
      ]
     },
     "execution_count": 19,
     "metadata": {},
     "output_type": "execute_result"
    }
   ],
   "source": [
    "from functools import reduce\n",
    "numbers = [1,2,3]\n",
    "reduce(lambda x, y: x + y, numbers)"
   ]
  },
  {
   "cell_type": "code",
   "execution_count": 20,
   "metadata": {},
   "outputs": [
    {
     "ename": "TypeError",
     "evalue": "'DataFrame' object is not callable",
     "output_type": "error",
     "traceback": [
      "\u001b[1;31m---------------------------------------------------------------------------\u001b[0m",
      "\u001b[1;31mTypeError\u001b[0m                                 Traceback (most recent call last)",
      "\u001b[1;32m<ipython-input-20-6f65ac274ea4>\u001b[0m in \u001b[0;36m<module>\u001b[1;34m\u001b[0m\n\u001b[1;32m----> 1\u001b[1;33m \u001b[0mlist\u001b[0m\u001b[1;33m(\u001b[0m\u001b[0mfilter\u001b[0m\u001b[1;33m(\u001b[0m\u001b[1;32mlambda\u001b[0m \u001b[0mx\u001b[0m\u001b[1;33m:\u001b[0m \u001b[0mx\u001b[0m \u001b[1;33m>\u001b[0m \u001b[1;36m1\u001b[0m\u001b[1;33m,\u001b[0m \u001b[0mnumbers\u001b[0m\u001b[1;33m)\u001b[0m\u001b[1;33m)\u001b[0m\u001b[1;33m\u001b[0m\u001b[1;33m\u001b[0m\u001b[0m\n\u001b[0m",
      "\u001b[1;31mTypeError\u001b[0m: 'DataFrame' object is not callable"
     ]
    }
   ],
   "source": [
    "list(filter(lambda x: x > 1, numbers))"
   ]
  },
  {
   "cell_type": "code",
   "execution_count": 21,
   "metadata": {},
   "outputs": [
    {
     "ename": "TypeError",
     "evalue": "'DataFrame' object is not callable",
     "output_type": "error",
     "traceback": [
      "\u001b[1;31m---------------------------------------------------------------------------\u001b[0m",
      "\u001b[1;31mTypeError\u001b[0m                                 Traceback (most recent call last)",
      "\u001b[1;32m<ipython-input-21-8b96d89a0bf7>\u001b[0m in \u001b[0;36m<module>\u001b[1;34m\u001b[0m\n\u001b[1;32m----> 1\u001b[1;33m \u001b[0mlist\u001b[0m\u001b[1;33m(\u001b[0m\u001b[0mfilter\u001b[0m\u001b[1;33m(\u001b[0m\u001b[1;32mlambda\u001b[0m \u001b[0mx\u001b[0m\u001b[1;33m:\u001b[0m \u001b[0mx\u001b[0m \u001b[1;33m%\u001b[0m \u001b[1;36m2\u001b[0m \u001b[1;33m==\u001b[0m \u001b[1;36m0\u001b[0m\u001b[1;33m,\u001b[0m \u001b[0mnumbers\u001b[0m\u001b[1;33m)\u001b[0m\u001b[1;33m)\u001b[0m\u001b[1;33m\u001b[0m\u001b[1;33m\u001b[0m\u001b[0m\n\u001b[0m",
      "\u001b[1;31mTypeError\u001b[0m: 'DataFrame' object is not callable"
     ]
    }
   ],
   "source": [
    "list(filter(lambda x: x % 2 == 0, numbers))"
   ]
  },
  {
   "cell_type": "code",
   "execution_count": 22,
   "metadata": {},
   "outputs": [
    {
     "ename": "TypeError",
     "evalue": "'DataFrame' object is not callable",
     "output_type": "error",
     "traceback": [
      "\u001b[1;31m---------------------------------------------------------------------------\u001b[0m",
      "\u001b[1;31mTypeError\u001b[0m                                 Traceback (most recent call last)",
      "\u001b[1;32m<ipython-input-22-bc08864a6a7b>\u001b[0m in \u001b[0;36m<module>\u001b[1;34m\u001b[0m\n\u001b[1;32m----> 1\u001b[1;33m \u001b[0mlist\u001b[0m\u001b[1;33m(\u001b[0m\u001b[0mfilter\u001b[0m\u001b[1;33m(\u001b[0m\u001b[1;32mlambda\u001b[0m \u001b[0mx\u001b[0m\u001b[1;33m:\u001b[0m \u001b[1;33m(\u001b[0m\u001b[0mx\u001b[0m \u001b[1;33m+\u001b[0m \u001b[1;36m1\u001b[0m\u001b[1;33m)\u001b[0m \u001b[1;33m*\u001b[0m \u001b[1;36m3\u001b[0m \u001b[1;33m/\u001b[0m \u001b[1;36m3\u001b[0m \u001b[1;33m%\u001b[0m \u001b[1;36m3\u001b[0m \u001b[1;33m==\u001b[0m \u001b[1;36m0\u001b[0m\u001b[1;33m,\u001b[0m \u001b[0mnumbers\u001b[0m\u001b[1;33m)\u001b[0m\u001b[1;33m)\u001b[0m\u001b[1;33m\u001b[0m\u001b[1;33m\u001b[0m\u001b[0m\n\u001b[0m",
      "\u001b[1;31mTypeError\u001b[0m: 'DataFrame' object is not callable"
     ]
    }
   ],
   "source": [
    "list(filter(lambda x: (x + 1) * 3 / 3 % 3 == 0, numbers))"
   ]
  },
  {
   "cell_type": "code",
   "execution_count": 25,
   "metadata": {},
   "outputs": [
    {
     "data": {
      "text/plain": [
       "<filter at 0x23bcb4c4c70>"
      ]
     },
     "execution_count": 25,
     "metadata": {},
     "output_type": "execute_result"
    }
   ],
   "source": [
    "filter(lambda x: 2, numbers)"
   ]
  },
  {
   "cell_type": "code",
   "execution_count": 28,
   "metadata": {},
   "outputs": [
    {
     "name": "stderr",
     "output_type": "stream",
     "text": [
      "b'Skipping line 29: expected 1 fields, saw 367\\nSkipping line 84: expected 1 fields, saw 3\\nSkipping line 129: expected 1 fields, saw 3\\nSkipping line 192: expected 1 fields, saw 3\\nSkipping line 201: expected 1 fields, saw 6\\nSkipping line 233: expected 1 fields, saw 4\\nSkipping line 246: expected 1 fields, saw 4\\nSkipping line 259: expected 1 fields, saw 4\\nSkipping line 272: expected 1 fields, saw 4\\nSkipping line 285: expected 1 fields, saw 4\\nSkipping line 298: expected 1 fields, saw 4\\nSkipping line 311: expected 1 fields, saw 4\\nSkipping line 324: expected 1 fields, saw 4\\nSkipping line 341: expected 1 fields, saw 4\\nSkipping line 348: expected 1 fields, saw 4\\nSkipping line 357: expected 1 fields, saw 4\\nSkipping line 366: expected 1 fields, saw 4\\nSkipping line 391: expected 1 fields, saw 4\\nSkipping line 398: expected 1 fields, saw 4\\nSkipping line 405: expected 1 fields, saw 4\\nSkipping line 412: expected 1 fields, saw 4\\nSkipping line 425: expected 1 fields, saw 4\\nSkipping line 432: expected 1 fields, saw 4\\nSkipping line 441: expected 1 fields, saw 4\\nSkipping line 454: expected 1 fields, saw 4\\nSkipping line 461: expected 1 fields, saw 4\\nSkipping line 485: expected 1 fields, saw 4\\nSkipping line 499: expected 1 fields, saw 4\\nSkipping line 514: expected 1 fields, saw 4\\nSkipping line 521: expected 1 fields, saw 4\\nSkipping line 528: expected 1 fields, saw 4\\nSkipping line 540: expected 1 fields, saw 3\\nSkipping line 559: expected 1 fields, saw 2\\nSkipping line 758: expected 1 fields, saw 6\\nSkipping line 759: expected 1 fields, saw 3\\nSkipping line 766: expected 1 fields, saw 6\\nSkipping line 767: expected 1 fields, saw 3\\nSkipping line 870: expected 1 fields, saw 6\\nSkipping line 877: expected 1 fields, saw 6\\nSkipping line 886: expected 1 fields, saw 6\\nSkipping line 911: expected 1 fields, saw 4\\nSkipping line 923: expected 1 fields, saw 4\\nSkipping line 935: expected 1 fields, saw 4\\nSkipping line 947: expected 1 fields, saw 4\\nSkipping line 959: expected 1 fields, saw 4\\nSkipping line 971: expected 1 fields, saw 4\\nSkipping line 982: expected 1 fields, saw 4\\nSkipping line 1068: expected 1 fields, saw 5\\nSkipping line 1238: expected 1 fields, saw 2\\nSkipping line 1263: expected 1 fields, saw 7\\nSkipping line 1304: expected 1 fields, saw 2\\nSkipping line 1342: expected 1 fields, saw 2\\nSkipping line 1434: expected 1 fields, saw 6\\nSkipping line 1443: expected 1 fields, saw 2\\nSkipping line 1473: expected 1 fields, saw 6\\nSkipping line 1483: expected 1 fields, saw 2\\nSkipping line 1523: expected 1 fields, saw 2\\nSkipping line 1542: expected 1 fields, saw 25\\nSkipping line 1546: expected 1 fields, saw 25\\nSkipping line 1550: expected 1 fields, saw 25\\nSkipping line 1554: expected 1 fields, saw 25\\nSkipping line 1558: expected 1 fields, saw 25\\nSkipping line 1562: expected 1 fields, saw 25\\nSkipping line 1566: expected 1 fields, saw 25\\nSkipping line 1570: expected 1 fields, saw 26\\nSkipping line 1574: expected 1 fields, saw 26\\nSkipping line 1578: expected 1 fields, saw 25\\nSkipping line 1582: expected 1 fields, saw 26\\nSkipping line 1586: expected 1 fields, saw 26\\nSkipping line 1590: expected 1 fields, saw 25\\nSkipping line 1594: expected 1 fields, saw 25\\nSkipping line 1598: expected 1 fields, saw 25\\nSkipping line 1602: expected 1 fields, saw 26\\nSkipping line 1606: expected 1 fields, saw 25\\nSkipping line 1610: expected 1 fields, saw 26\\nSkipping line 1614: expected 1 fields, saw 25\\nSkipping line 1618: expected 1 fields, saw 25\\nSkipping line 1622: expected 1 fields, saw 25\\nSkipping line 1626: expected 1 fields, saw 25\\nSkipping line 1630: expected 1 fields, saw 26\\nSkipping line 1634: expected 1 fields, saw 26\\nSkipping line 1638: expected 1 fields, saw 25\\nSkipping line 1642: expected 1 fields, saw 26\\nSkipping line 1646: expected 1 fields, saw 26\\nSkipping line 1650: expected 1 fields, saw 25\\nSkipping line 1654: expected 1 fields, saw 26\\nSkipping line 1658: expected 1 fields, saw 27\\nSkipping line 1662: expected 1 fields, saw 25\\nSkipping line 1666: expected 1 fields, saw 27\\nSkipping line 1670: expected 1 fields, saw 25\\nSkipping line 1674: expected 1 fields, saw 26\\nSkipping line 1678: expected 1 fields, saw 26\\nSkipping line 1682: expected 1 fields, saw 27\\nSkipping line 1686: expected 1 fields, saw 25\\nSkipping line 1690: expected 1 fields, saw 25\\nSkipping line 1694: expected 1 fields, saw 25\\nSkipping line 1698: expected 1 fields, saw 25\\nSkipping line 1702: expected 1 fields, saw 26\\nSkipping line 1706: expected 1 fields, saw 26\\nSkipping line 1710: expected 1 fields, saw 25\\nSkipping line 1714: expected 1 fields, saw 25\\nSkipping line 1718: expected 1 fields, saw 26\\nSkipping line 1722: expected 1 fields, saw 25\\nSkipping line 1726: expected 1 fields, saw 25\\nSkipping line 1730: expected 1 fields, saw 25\\nSkipping line 1734: expected 1 fields, saw 26\\nSkipping line 1738: expected 1 fields, saw 25\\nSkipping line 1742: expected 1 fields, saw 25\\nSkipping line 1746: expected 1 fields, saw 25\\nSkipping line 1750: expected 1 fields, saw 26\\nSkipping line 1754: expected 1 fields, saw 25\\nSkipping line 1758: expected 1 fields, saw 26\\nSkipping line 1762: expected 1 fields, saw 25\\nSkipping line 1766: expected 1 fields, saw 26\\nSkipping line 1770: expected 1 fields, saw 25\\nSkipping line 1774: expected 1 fields, saw 25\\nSkipping line 1778: expected 1 fields, saw 25\\nSkipping line 1782: expected 1 fields, saw 25\\nSkipping line 1786: expected 1 fields, saw 26\\nSkipping line 1790: expected 1 fields, saw 26\\nSkipping line 1794: expected 1 fields, saw 25\\nSkipping line 1798: expected 1 fields, saw 27\\nSkipping line 1802: expected 1 fields, saw 26\\nSkipping line 1806: expected 1 fields, saw 25\\nSkipping line 1810: expected 1 fields, saw 25\\nSkipping line 1814: expected 1 fields, saw 25\\nSkipping line 1818: expected 1 fields, saw 26\\nSkipping line 1822: expected 1 fields, saw 25\\nSkipping line 1826: expected 1 fields, saw 26\\nSkipping line 1830: expected 1 fields, saw 25\\nSkipping line 1834: expected 1 fields, saw 25\\nSkipping line 1838: expected 1 fields, saw 25\\nSkipping line 1842: expected 1 fields, saw 26\\nSkipping line 1846: expected 1 fields, saw 26\\nSkipping line 1850: expected 1 fields, saw 26\\nSkipping line 1854: expected 1 fields, saw 25\\nSkipping line 1858: expected 1 fields, saw 26\\nSkipping line 1862: expected 1 fields, saw 26\\nSkipping line 1866: expected 1 fields, saw 25\\nSkipping line 1870: expected 1 fields, saw 26\\nSkipping line 1874: expected 1 fields, saw 25\\nSkipping line 1878: expected 1 fields, saw 25\\nSkipping line 1882: expected 1 fields, saw 25\\nSkipping line 1886: expected 1 fields, saw 25\\nSkipping line 1890: expected 1 fields, saw 26\\nSkipping line 1894: expected 1 fields, saw 26\\nSkipping line 1898: expected 1 fields, saw 25\\nSkipping line 1902: expected 1 fields, saw 27\\nSkipping line 1906: expected 1 fields, saw 26\\nSkipping line 1910: expected 1 fields, saw 25\\nSkipping line 1914: expected 1 fields, saw 25\\nSkipping line 1918: expected 1 fields, saw 25\\nSkipping line 1922: expected 1 fields, saw 26\\nSkipping line 1926: expected 1 fields, saw 25\\nSkipping line 1930: expected 1 fields, saw 26\\nSkipping line 1934: expected 1 fields, saw 25\\nSkipping line 1938: expected 1 fields, saw 25\\nSkipping line 1942: expected 1 fields, saw 25\\nSkipping line 1946: expected 1 fields, saw 26\\nSkipping line 1950: expected 1 fields, saw 25\\nSkipping line 1954: expected 1 fields, saw 26\\nSkipping line 1958: expected 1 fields, saw 25\\nSkipping line 1962: expected 1 fields, saw 26\\nSkipping line 1966: expected 1 fields, saw 26\\nSkipping line 1970: expected 1 fields, saw 25\\nSkipping line 1974: expected 1 fields, saw 25\\nSkipping line 1978: expected 1 fields, saw 26\\nSkipping line 1982: expected 1 fields, saw 25\\nSkipping line 1986: expected 1 fields, saw 26\\nSkipping line 1990: expected 1 fields, saw 25\\nSkipping line 1994: expected 1 fields, saw 25\\nSkipping line 1998: expected 1 fields, saw 26\\nSkipping line 2002: expected 1 fields, saw 26\\nSkipping line 2006: expected 1 fields, saw 26\\nSkipping line 2010: expected 1 fields, saw 25\\nSkipping line 2014: expected 1 fields, saw 25\\nSkipping line 2018: expected 1 fields, saw 25\\nSkipping line 2022: expected 1 fields, saw 25\\nSkipping line 2026: expected 1 fields, saw 26\\nSkipping line 2030: expected 1 fields, saw 25\\nSkipping line 2034: expected 1 fields, saw 26\\nSkipping line 2038: expected 1 fields, saw 25\\nSkipping line 2042: expected 1 fields, saw 25\\nSkipping line 2046: expected 1 fields, saw 25\\nSkipping line 2050: expected 1 fields, saw 26\\nSkipping line 2054: expected 1 fields, saw 25\\nSkipping line 2058: expected 1 fields, saw 26\\nSkipping line 2062: expected 1 fields, saw 25\\nSkipping line 2066: expected 1 fields, saw 25\\nSkipping line 2070: expected 1 fields, saw 25\\nSkipping line 2074: expected 1 fields, saw 25\\nSkipping line 2078: expected 1 fields, saw 25\\nSkipping line 2082: expected 1 fields, saw 27\\nSkipping line 2086: expected 1 fields, saw 27\\nSkipping line 2090: expected 1 fields, saw 25\\nSkipping line 2094: expected 1 fields, saw 27\\nSkipping line 2098: expected 1 fields, saw 25\\nSkipping line 2102: expected 1 fields, saw 26\\nSkipping line 2106: expected 1 fields, saw 26\\nSkipping line 2110: expected 1 fields, saw 27\\nSkipping line 2114: expected 1 fields, saw 25\\nSkipping line 2118: expected 1 fields, saw 25\\nSkipping line 2122: expected 1 fields, saw 25\\nSkipping line 2126: expected 1 fields, saw 25\\nSkipping line 2130: expected 1 fields, saw 25\\nSkipping line 2134: expected 1 fields, saw 26\\nSkipping line 2138: expected 1 fields, saw 25\\nSkipping line 2142: expected 1 fields, saw 25\\nSkipping line 2146: expected 1 fields, saw 25\\nSkipping line 2150: expected 1 fields, saw 25\\nSkipping line 2154: expected 1 fields, saw 25\\nSkipping line 2158: expected 1 fields, saw 26\\nSkipping line 2162: expected 1 fields, saw 26\\nSkipping line 2166: expected 1 fields, saw 25\\nSkipping line 2170: expected 1 fields, saw 26\\nSkipping line 2174: expected 1 fields, saw 25\\nSkipping line 2178: expected 1 fields, saw 26\\nSkipping line 2182: expected 1 fields, saw 25\\nSkipping line 2186: expected 1 fields, saw 26\\nSkipping line 2190: expected 1 fields, saw 25\\nSkipping line 2194: expected 1 fields, saw 26\\nSkipping line 2198: expected 1 fields, saw 25\\nSkipping line 2202: expected 1 fields, saw 25\\nSkipping line 2206: expected 1 fields, saw 25\\nSkipping line 2210: expected 1 fields, saw 26\\nSkipping line 2214: expected 1 fields, saw 26\\nSkipping line 2218: expected 1 fields, saw 26\\nSkipping line 2222: expected 1 fields, saw 26\\nSkipping line 2226: expected 1 fields, saw 26\\nSkipping line 2230: expected 1 fields, saw 26\\nSkipping line 2234: expected 1 fields, saw 25\\nSkipping line 2238: expected 1 fields, saw 26\\nSkipping line 2242: expected 1 fields, saw 25\\nSkipping line 2246: expected 1 fields, saw 25\\nSkipping line 2250: expected 1 fields, saw 26\\nSkipping line 2254: expected 1 fields, saw 26\\nSkipping line 2258: expected 1 fields, saw 26\\nSkipping line 2262: expected 1 fields, saw 26\\nSkipping line 2266: expected 1 fields, saw 25\\nSkipping line 2270: expected 1 fields, saw 25\\nSkipping line 2274: expected 1 fields, saw 26\\nSkipping line 2278: expected 1 fields, saw 26\\nSkipping line 2282: expected 1 fields, saw 25\\nSkipping line 2286: expected 1 fields, saw 25\\nSkipping line 2290: expected 1 fields, saw 25\\nSkipping line 2294: expected 1 fields, saw 27\\nSkipping line 2298: expected 1 fields, saw 25\\nSkipping line 2302: expected 1 fields, saw 25\\nSkipping line 2306: expected 1 fields, saw 26\\nSkipping line 2310: expected 1 fields, saw 27\\nSkipping line 2314: expected 1 fields, saw 25\\nSkipping line 2318: expected 1 fields, saw 25\\nSkipping line 2322: expected 1 fields, saw 25\\nSkipping line 2326: expected 1 fields, saw 27\\nSkipping line 2330: expected 1 fields, saw 26\\nSkipping line 2334: expected 1 fields, saw 26\\nSkipping line 2338: expected 1 fields, saw 26\\nSkipping line 2342: expected 1 fields, saw 25\\nSkipping line 2346: expected 1 fields, saw 25\\nSkipping line 2350: expected 1 fields, saw 25\\nSkipping line 2354: expected 1 fields, saw 26\\nSkipping line 2358: expected 1 fields, saw 25\\nSkipping line 2362: expected 1 fields, saw 25\\nSkipping line 2366: expected 1 fields, saw 27\\nSkipping line 2370: expected 1 fields, saw 27\\nSkipping line 2374: expected 1 fields, saw 25\\nSkipping line 2378: expected 1 fields, saw 25\\nSkipping line 2382: expected 1 fields, saw 25\\nSkipping line 2386: expected 1 fields, saw 25\\nSkipping line 2390: expected 1 fields, saw 25\\nSkipping line 2394: expected 1 fields, saw 25\\nSkipping line 2398: expected 1 fields, saw 25\\nSkipping line 2402: expected 1 fields, saw 27\\nSkipping line 2406: expected 1 fields, saw 25\\nSkipping line 2410: expected 1 fields, saw 27\\nSkipping line 2414: expected 1 fields, saw 25\\nSkipping line 2418: expected 1 fields, saw 26\\nSkipping line 2422: expected 1 fields, saw 26\\nSkipping line 2426: expected 1 fields, saw 27\\nSkipping line 2430: expected 1 fields, saw 25\\nSkipping line 2434: expected 1 fields, saw 26\\nSkipping line 2438: expected 1 fields, saw 25\\nSkipping line 2442: expected 1 fields, saw 25\\nSkipping line 2446: expected 1 fields, saw 26\\nSkipping line 2450: expected 1 fields, saw 26\\nSkipping line 2454: expected 1 fields, saw 25\\nSkipping line 2458: expected 1 fields, saw 25\\nSkipping line 2462: expected 1 fields, saw 26\\nSkipping line 2466: expected 1 fields, saw 25\\nSkipping line 2470: expected 1 fields, saw 25\\nSkipping line 2474: expected 1 fields, saw 25\\nSkipping line 2478: expected 1 fields, saw 26\\nSkipping line 2482: expected 1 fields, saw 25\\nSkipping line 2486: expected 1 fields, saw 26\\nSkipping line 2490: expected 1 fields, saw 25\\nSkipping line 2494: expected 1 fields, saw 26\\nSkipping line 2498: expected 1 fields, saw 25\\nSkipping line 2502: expected 1 fields, saw 26\\nSkipping line 2506: expected 1 fields, saw 25\\nSkipping line 2510: expected 1 fields, saw 25\\nSkipping line 2514: expected 1 fields, saw 25\\nSkipping line 2518: expected 1 fields, saw 25\\nSkipping line 2522: expected 1 fields, saw 25\\nSkipping line 2526: expected 1 fields, saw 26\\nSkipping line 2530: expected 1 fields, saw 26\\nSkipping line 2534: expected 1 fields, saw 25\\nSkipping line 2538: expected 1 fields, saw 25\\nSkipping line 2542: expected 1 fields, saw 26\\nSkipping line 2546: expected 1 fields, saw 26\\nSkipping line 2550: expected 1 fields, saw 25\\nSkipping line 2554: expected 1 fields, saw 25\\nSkipping line 2558: expected 1 fields, saw 25\\nSkipping line 2562: expected 1 fields, saw 25\\nSkipping line 2566: expected 1 fields, saw 25\\nSkipping line 2570: expected 1 fields, saw 26\\nSkipping line 2574: expected 1 fields, saw 25\\nSkipping line 2578: expected 1 fields, saw 25\\nSkipping line 2582: expected 1 fields, saw 25\\nSkipping line 2586: expected 1 fields, saw 25\\nSkipping line 2590: expected 1 fields, saw 25\\nSkipping line 2594: expected 1 fields, saw 26\\nSkipping line 2598: expected 1 fields, saw 25\\nSkipping line 2602: expected 1 fields, saw 26\\nSkipping line 2606: expected 1 fields, saw 26\\nSkipping line 2610: expected 1 fields, saw 26\\nSkipping line 2614: expected 1 fields, saw 27\\nSkipping line 2618: expected 1 fields, saw 25\\nSkipping line 2622: expected 1 fields, saw 25\\nSkipping line 2626: expected 1 fields, saw 26\\nSkipping line 2630: expected 1 fields, saw 27\\nSkipping line 2634: expected 1 fields, saw 25\\nSkipping line 2638: expected 1 fields, saw 25\\nSkipping line 2642: expected 1 fields, saw 25\\nSkipping line 2646: expected 1 fields, saw 27\\nSkipping line 2650: expected 1 fields, saw 26\\nSkipping line 2654: expected 1 fields, saw 26\\nSkipping line 2658: expected 1 fields, saw 26\\nSkipping line 2662: expected 1 fields, saw 25\\nSkipping line 2666: expected 1 fields, saw 25\\nSkipping line 2670: expected 1 fields, saw 25\\nSkipping line 2674: expected 1 fields, saw 26\\nSkipping line 2678: expected 1 fields, saw 25\\nSkipping line 2682: expected 1 fields, saw 25\\nSkipping line 2686: expected 1 fields, saw 27\\nSkipping line 2690: expected 1 fields, saw 27\\nSkipping line 2694: expected 1 fields, saw 26\\nSkipping line 2698: expected 1 fields, saw 26\\nSkipping line 2702: expected 1 fields, saw 25\\nSkipping line 2706: expected 1 fields, saw 25\\nSkipping line 2710: expected 1 fields, saw 25\\nSkipping line 2714: expected 1 fields, saw 26\\nSkipping line 2718: expected 1 fields, saw 25\\nSkipping line 2722: expected 1 fields, saw 25\\nSkipping line 2726: expected 1 fields, saw 26\\nSkipping line 2730: expected 1 fields, saw 25\\nSkipping line 2734: expected 1 fields, saw 26\\nSkipping line 2738: expected 1 fields, saw 26\\nSkipping line 2742: expected 1 fields, saw 26\\nSkipping line 2746: expected 1 fields, saw 26\\nSkipping line 2750: expected 1 fields, saw 26\\nSkipping line 2754: expected 1 fields, saw 25\\nSkipping line 2758: expected 1 fields, saw 26\\nSkipping line 2762: expected 1 fields, saw 25\\nSkipping line 2766: expected 1 fields, saw 25\\nSkipping line 2770: expected 1 fields, saw 26\\nSkipping line 2774: expected 1 fields, saw 26\\nSkipping line 2778: expected 1 fields, saw 26\\nSkipping line 2782: expected 1 fields, saw 26\\nSkipping line 2786: expected 1 fields, saw 25\\nSkipping line 2790: expected 1 fields, saw 25\\nSkipping line 2794: expected 1 fields, saw 26\\nSkipping line 2798: expected 1 fields, saw 25\\nSkipping line 2802: expected 1 fields, saw 25\\nSkipping line 2806: expected 1 fields, saw 25\\nSkipping line 2810: expected 1 fields, saw 25\\nSkipping line 2814: expected 1 fields, saw 27\\nSkipping line 2818: expected 1 fields, saw 25\\nSkipping line 2822: expected 1 fields, saw 25\\nSkipping line 2826: expected 1 fields, saw 26\\nSkipping line 2830: expected 1 fields, saw 27\\nSkipping line 2834: expected 1 fields, saw 25\\nSkipping line 2838: expected 1 fields, saw 25\\nSkipping line 2842: expected 1 fields, saw 25\\nSkipping line 2846: expected 1 fields, saw 27\\nSkipping line 2850: expected 1 fields, saw 26\\nSkipping line 2854: expected 1 fields, saw 26\\nSkipping line 2858: expected 1 fields, saw 26\\nSkipping line 2862: expected 1 fields, saw 25\\nSkipping line 2866: expected 1 fields, saw 25\\nSkipping line 2870: expected 1 fields, saw 25\\nSkipping line 2874: expected 1 fields, saw 26\\nSkipping line 2878: expected 1 fields, saw 25\\nSkipping line 2882: expected 1 fields, saw 25\\nSkipping line 2886: expected 1 fields, saw 27\\nSkipping line 2890: expected 1 fields, saw 25\\nSkipping line 2894: expected 1 fields, saw 25\\nSkipping line 2898: expected 1 fields, saw 26\\nSkipping line 2902: expected 1 fields, saw 25\\nSkipping line 2906: expected 1 fields, saw 25\\nSkipping line 2910: expected 1 fields, saw 25\\nSkipping line 2914: expected 1 fields, saw 25\\nSkipping line 2918: expected 1 fields, saw 26\\nSkipping line 2922: expected 1 fields, saw 25\\nSkipping line 2926: expected 1 fields, saw 25\\nSkipping line 2930: expected 1 fields, saw 25\\nSkipping line 2934: expected 1 fields, saw 26\\nSkipping line 2938: expected 1 fields, saw 26\\nSkipping line 2942: expected 1 fields, saw 26\\nSkipping line 2946: expected 1 fields, saw 26\\nSkipping line 2950: expected 1 fields, saw 26\\nSkipping line 2954: expected 1 fields, saw 26\\nSkipping line 2958: expected 1 fields, saw 25\\nSkipping line 2962: expected 1 fields, saw 26\\nSkipping line 2966: expected 1 fields, saw 25\\nSkipping line 2970: expected 1 fields, saw 25\\nSkipping line 2974: expected 1 fields, saw 26\\nSkipping line 2978: expected 1 fields, saw 26\\nSkipping line 2982: expected 1 fields, saw 26\\nSkipping line 2986: expected 1 fields, saw 26\\nSkipping line 2990: expected 1 fields, saw 25\\nSkipping line 2994: expected 1 fields, saw 25\\nSkipping line 2998: expected 1 fields, saw 26\\nSkipping line 3002: expected 1 fields, saw 26\\nSkipping line 3006: expected 1 fields, saw 25\\nSkipping line 3010: expected 1 fields, saw 25\\nSkipping line 3014: expected 1 fields, saw 26\\nSkipping line 3018: expected 1 fields, saw 25\\nSkipping line 3022: expected 1 fields, saw 25\\nSkipping line 3026: expected 1 fields, saw 26\\nSkipping line 3030: expected 1 fields, saw 26\\nSkipping line 3034: expected 1 fields, saw 27\\nSkipping line 3038: expected 1 fields, saw 26\\nSkipping line 3042: expected 1 fields, saw 27\\nSkipping line 3046: expected 1 fields, saw 25\\nSkipping line 3050: expected 1 fields, saw 25\\nSkipping line 3054: expected 1 fields, saw 25\\nSkipping line 3058: expected 1 fields, saw 25\\nSkipping line 3062: expected 1 fields, saw 26\\nSkipping line 3066: expected 1 fields, saw 25\\nSkipping line 3070: expected 1 fields, saw 25\\nSkipping line 3074: expected 1 fields, saw 25\\nSkipping line 3078: expected 1 fields, saw 25\\nSkipping line 3082: expected 1 fields, saw 25\\nSkipping line 3086: expected 1 fields, saw 25\\nSkipping line 3090: expected 1 fields, saw 25\\nSkipping line 3094: expected 1 fields, saw 27\\nSkipping line 3098: expected 1 fields, saw 25\\nSkipping line 3102: expected 1 fields, saw 26\\nSkipping line 3106: expected 1 fields, saw 25\\nSkipping line 3110: expected 1 fields, saw 25\\nSkipping line 3114: expected 1 fields, saw 26\\nSkipping line 3118: expected 1 fields, saw 26\\nSkipping line 3122: expected 1 fields, saw 25\\nSkipping line 3126: expected 1 fields, saw 26\\nSkipping line 3130: expected 1 fields, saw 25\\nSkipping line 3134: expected 1 fields, saw 25\\nSkipping line 3138: expected 1 fields, saw 26\\nSkipping line 3142: expected 1 fields, saw 25\\nSkipping line 3146: expected 1 fields, saw 26\\nSkipping line 3150: expected 1 fields, saw 25\\nSkipping line 3154: expected 1 fields, saw 26\\nSkipping line 3158: expected 1 fields, saw 26\\nSkipping line 3162: expected 1 fields, saw 26\\nSkipping line 3166: expected 1 fields, saw 26\\nSkipping line 3170: expected 1 fields, saw 26\\nSkipping line 3174: expected 1 fields, saw 25\\nSkipping line 3178: expected 1 fields, saw 27\\nSkipping line 3182: expected 1 fields, saw 26\\nSkipping line 3186: expected 1 fields, saw 26\\nSkipping line 3190: expected 1 fields, saw 26\\nSkipping line 3194: expected 1 fields, saw 25\\nSkipping line 3198: expected 1 fields, saw 25\\nSkipping line 3202: expected 1 fields, saw 25\\nSkipping line 3206: expected 1 fields, saw 26\\nSkipping line 3210: expected 1 fields, saw 26\\nSkipping line 3214: expected 1 fields, saw 25\\nSkipping line 3218: expected 1 fields, saw 26\\nSkipping line 3222: expected 1 fields, saw 25\\nSkipping line 3226: expected 1 fields, saw 25\\nSkipping line 3230: expected 1 fields, saw 25\\nSkipping line 3234: expected 1 fields, saw 27\\nSkipping line 3238: expected 1 fields, saw 25\\nSkipping line 3242: expected 1 fields, saw 27\\nSkipping line 3246: expected 1 fields, saw 25\\nSkipping line 3250: expected 1 fields, saw 26\\nSkipping line 3254: expected 1 fields, saw 26\\nSkipping line 3258: expected 1 fields, saw 27\\nSkipping line 3262: expected 1 fields, saw 25\\nSkipping line 3266: expected 1 fields, saw 25\\nSkipping line 3270: expected 1 fields, saw 25\\nSkipping line 3274: expected 1 fields, saw 25\\nSkipping line 3278: expected 1 fields, saw 26\\nSkipping line 3282: expected 1 fields, saw 26\\nSkipping line 3286: expected 1 fields, saw 25\\nSkipping line 3290: expected 1 fields, saw 25\\nSkipping line 3294: expected 1 fields, saw 26\\nSkipping line 3298: expected 1 fields, saw 25\\nSkipping line 3302: expected 1 fields, saw 25\\nSkipping line 3306: expected 1 fields, saw 25\\nSkipping line 3310: expected 1 fields, saw 26\\nSkipping line 3314: expected 1 fields, saw 25\\nSkipping line 3318: expected 1 fields, saw 26\\nSkipping line 3322: expected 1 fields, saw 25\\nSkipping line 3326: expected 1 fields, saw 26\\nSkipping line 3330: expected 1 fields, saw 25\\nSkipping line 3334: expected 1 fields, saw 26\\nSkipping line 3338: expected 1 fields, saw 25\\nSkipping line 3342: expected 1 fields, saw 26\\nSkipping line 3346: expected 1 fields, saw 25\\nSkipping line 3350: expected 1 fields, saw 26\\nSkipping line 3354: expected 1 fields, saw 25\\nSkipping line 3358: expected 1 fields, saw 25\\nSkipping line 3362: expected 1 fields, saw 26\\nSkipping line 3366: expected 1 fields, saw 25\\nSkipping line 3370: expected 1 fields, saw 25\\nSkipping line 3374: expected 1 fields, saw 26\\nSkipping line 3378: expected 1 fields, saw 26\\nSkipping line 3382: expected 1 fields, saw 27\\nSkipping line 3386: expected 1 fields, saw 26\\nSkipping line 3390: expected 1 fields, saw 25\\nSkipping line 3394: expected 1 fields, saw 25\\nSkipping line 3398: expected 1 fields, saw 26\\nSkipping line 3402: expected 1 fields, saw 27\\nSkipping line 3406: expected 1 fields, saw 26\\nSkipping line 3410: expected 1 fields, saw 25\\nSkipping line 3414: expected 1 fields, saw 25\\nSkipping line 3418: expected 1 fields, saw 26\\nSkipping line 3422: expected 1 fields, saw 25\\nSkipping line 3426: expected 1 fields, saw 25\\nSkipping line 3430: expected 1 fields, saw 26\\nSkipping line 3434: expected 1 fields, saw 25\\nSkipping line 3438: expected 1 fields, saw 25\\nSkipping line 3442: expected 1 fields, saw 25\\nSkipping line 3446: expected 1 fields, saw 25\\nSkipping line 3450: expected 1 fields, saw 25\\nSkipping line 3454: expected 1 fields, saw 26\\nSkipping line 3458: expected 1 fields, saw 26\\nSkipping line 3462: expected 1 fields, saw 25\\nSkipping line 3466: expected 1 fields, saw 25\\nSkipping line 3470: expected 1 fields, saw 25\\nSkipping line 3474: expected 1 fields, saw 25\\nSkipping line 3478: expected 1 fields, saw 26\\nSkipping line 3482: expected 1 fields, saw 26\\nSkipping line 3486: expected 1 fields, saw 25\\nSkipping line 3490: expected 1 fields, saw 27\\nSkipping line 3494: expected 1 fields, saw 26\\nSkipping line 3498: expected 1 fields, saw 25\\nSkipping line 3502: expected 1 fields, saw 25\\nSkipping line 3506: expected 1 fields, saw 26\\nSkipping line 3510: expected 1 fields, saw 26\\nSkipping line 3514: expected 1 fields, saw 25\\nSkipping line 3518: expected 1 fields, saw 25\\nSkipping line 3522: expected 1 fields, saw 26\\nSkipping line 3526: expected 1 fields, saw 25\\nSkipping line 3530: expected 1 fields, saw 25\\nSkipping line 3534: expected 1 fields, saw 25\\nSkipping line 3538: expected 1 fields, saw 26\\nSkipping line 3542: expected 1 fields, saw 26\\nSkipping line 3546: expected 1 fields, saw 25\\nSkipping line 3550: expected 1 fields, saw 25\\nSkipping line 3554: expected 1 fields, saw 25\\nSkipping line 3558: expected 1 fields, saw 27\\nSkipping line 3562: expected 1 fields, saw 26\\nSkipping line 3566: expected 1 fields, saw 25\\nSkipping line 3570: expected 1 fields, saw 25\\nSkipping line 3574: expected 1 fields, saw 25\\nSkipping line 3578: expected 1 fields, saw 25\\nSkipping line 3582: expected 1 fields, saw 26\\nSkipping line 3586: expected 1 fields, saw 26\\nSkipping line 3590: expected 1 fields, saw 25\\nSkipping line 3594: expected 1 fields, saw 27\\nSkipping line 3598: expected 1 fields, saw 26\\nSkipping line 3602: expected 1 fields, saw 25\\nSkipping line 3606: expected 1 fields, saw 25\\nSkipping line 3610: expected 1 fields, saw 26\\nSkipping line 3614: expected 1 fields, saw 26\\nSkipping line 3618: expected 1 fields, saw 25\\nSkipping line 3622: expected 1 fields, saw 25\\nSkipping line 3626: expected 1 fields, saw 26\\nSkipping line 3630: expected 1 fields, saw 26\\nSkipping line 3634: expected 1 fields, saw 25\\nSkipping line 3638: expected 1 fields, saw 25\\nSkipping line 3642: expected 1 fields, saw 25\\nSkipping line 3646: expected 1 fields, saw 26\\nSkipping line 3650: expected 1 fields, saw 25\\nSkipping line 3654: expected 1 fields, saw 26\\nSkipping line 3658: expected 1 fields, saw 26\\nSkipping line 3662: expected 1 fields, saw 25\\nSkipping line 3666: expected 1 fields, saw 26\\nSkipping line 3670: expected 1 fields, saw 25\\nSkipping line 3674: expected 1 fields, saw 25\\nSkipping line 3678: expected 1 fields, saw 26\\nSkipping line 3682: expected 1 fields, saw 25\\nSkipping line 3686: expected 1 fields, saw 25\\nSkipping line 3690: expected 1 fields, saw 26\\nSkipping line 3694: expected 1 fields, saw 25\\nSkipping line 3698: expected 1 fields, saw 26\\nSkipping line 3702: expected 1 fields, saw 26\\nSkipping line 3706: expected 1 fields, saw 25\\nSkipping line 3710: expected 1 fields, saw 25\\nSkipping line 3714: expected 1 fields, saw 25\\nSkipping line 3718: expected 1 fields, saw 27\\nSkipping line 3722: expected 1 fields, saw 26\\nSkipping line 3726: expected 1 fields, saw 25\\nSkipping line 3730: expected 1 fields, saw 25\\nSkipping line 3734: expected 1 fields, saw 25\\nSkipping line 3738: expected 1 fields, saw 25\\nSkipping line 3742: expected 1 fields, saw 26\\nSkipping line 3746: expected 1 fields, saw 25\\nSkipping line 3750: expected 1 fields, saw 25\\nSkipping line 3754: expected 1 fields, saw 25\\nSkipping line 3758: expected 1 fields, saw 25\\nSkipping line 3762: expected 1 fields, saw 25\\nSkipping line 3766: expected 1 fields, saw 25\\nSkipping line 3770: expected 1 fields, saw 26\\nSkipping line 3774: expected 1 fields, saw 25\\nSkipping line 3778: expected 1 fields, saw 25\\nSkipping line 3782: expected 1 fields, saw 26\\nSkipping line 3786: expected 1 fields, saw 25\\nSkipping line 3790: expected 1 fields, saw 27\\nSkipping line 3794: expected 1 fields, saw 25\\nSkipping line 3798: expected 1 fields, saw 25\\nSkipping line 3802: expected 1 fields, saw 26\\nSkipping line 3806: expected 1 fields, saw 25\\nSkipping line 3810: expected 1 fields, saw 27\\nSkipping line 3814: expected 1 fields, saw 26\\nSkipping line 3818: expected 1 fields, saw 26\\nSkipping line 3822: expected 1 fields, saw 25\\nSkipping line 3826: expected 1 fields, saw 25\\nSkipping line 3830: expected 1 fields, saw 26\\nSkipping line 3834: expected 1 fields, saw 26\\nSkipping line 3838: expected 1 fields, saw 26\\nSkipping line 3842: expected 1 fields, saw 26\\nSkipping line 3846: expected 1 fields, saw 25\\nSkipping line 3850: expected 1 fields, saw 25\\nSkipping line 3854: expected 1 fields, saw 25\\nSkipping line 3858: expected 1 fields, saw 25\\nSkipping line 3862: expected 1 fields, saw 26\\nSkipping line 3866: expected 1 fields, saw 25\\nSkipping line 3870: expected 1 fields, saw 25\\nSkipping line 3874: expected 1 fields, saw 25\\nSkipping line 3878: expected 1 fields, saw 25\\nSkipping line 3882: expected 1 fields, saw 25\\nSkipping line 3886: expected 1 fields, saw 26\\nSkipping line 3890: expected 1 fields, saw 25\\nSkipping line 3894: expected 1 fields, saw 27\\nSkipping line 3898: expected 1 fields, saw 27\\nSkipping line 3902: expected 1 fields, saw 26\\nSkipping line 3906: expected 1 fields, saw 25\\nSkipping line 3910: expected 1 fields, saw 25\\nSkipping line 3914: expected 1 fields, saw 26\\nSkipping line 3918: expected 1 fields, saw 25\\nSkipping line 3922: expected 1 fields, saw 25\\nSkipping line 3926: expected 1 fields, saw 26\\nSkipping line 3930: expected 1 fields, saw 25\\nSkipping line 3934: expected 1 fields, saw 26\\nSkipping line 3938: expected 1 fields, saw 25\\nSkipping line 3942: expected 1 fields, saw 26\\nSkipping line 3946: expected 1 fields, saw 25\\nSkipping line 3950: expected 1 fields, saw 26\\nSkipping line 3954: expected 1 fields, saw 25\\nSkipping line 3958: expected 1 fields, saw 25\\nSkipping line 3962: expected 1 fields, saw 26\\nSkipping line 3966: expected 1 fields, saw 25\\nSkipping line 3970: expected 1 fields, saw 26\\nSkipping line 3974: expected 1 fields, saw 25\\nSkipping line 3978: expected 1 fields, saw 26\\nSkipping line 3982: expected 1 fields, saw 26\\nSkipping line 3986: expected 1 fields, saw 26\\nSkipping line 3990: expected 1 fields, saw 26\\nSkipping line 3994: expected 1 fields, saw 26\\nSkipping line 3998: expected 1 fields, saw 25\\nSkipping line 4002: expected 1 fields, saw 25\\nSkipping line 4006: expected 1 fields, saw 26\\nSkipping line 4010: expected 1 fields, saw 26\\nSkipping line 4014: expected 1 fields, saw 26\\nSkipping line 4018: expected 1 fields, saw 25\\nSkipping line 4022: expected 1 fields, saw 25\\nSkipping line 4026: expected 1 fields, saw 26\\nSkipping line 4030: expected 1 fields, saw 26\\nSkipping line 4034: expected 1 fields, saw 26\\nSkipping line 4038: expected 1 fields, saw 25\\nSkipping line 4042: expected 1 fields, saw 26\\nSkipping line 4046: expected 1 fields, saw 25\\nSkipping line 4050: expected 1 fields, saw 25\\nSkipping line 4054: expected 1 fields, saw 26\\nSkipping line 4058: expected 1 fields, saw 25\\nSkipping line 4062: expected 1 fields, saw 26\\nSkipping line 4066: expected 1 fields, saw 25\\nSkipping line 4070: expected 1 fields, saw 25\\nSkipping line 4074: expected 1 fields, saw 26\\nSkipping line 4078: expected 1 fields, saw 25\\nSkipping line 4082: expected 1 fields, saw 25\\nSkipping line 4086: expected 1 fields, saw 26\\nSkipping line 4090: expected 1 fields, saw 25\\nSkipping line 4094: expected 1 fields, saw 27\\nSkipping line 4098: expected 1 fields, saw 26\\nSkipping line 4102: expected 1 fields, saw 25\\nSkipping line 4106: expected 1 fields, saw 25\\nSkipping line 4110: expected 1 fields, saw 26\\nSkipping line 4114: expected 1 fields, saw 27\\nSkipping line 4118: expected 1 fields, saw 26\\nSkipping line 4122: expected 1 fields, saw 25\\nSkipping line 4126: expected 1 fields, saw 25\\nSkipping line 4130: expected 1 fields, saw 26\\nSkipping line 4134: expected 1 fields, saw 25\\nSkipping line 4138: expected 1 fields, saw 26\\nSkipping line 4142: expected 1 fields, saw 26\\nSkipping line 4146: expected 1 fields, saw 25\\nSkipping line 4150: expected 1 fields, saw 25\\nSkipping line 4154: expected 1 fields, saw 25\\nSkipping line 4158: expected 1 fields, saw 26\\nSkipping line 4162: expected 1 fields, saw 25\\nSkipping line 4166: expected 1 fields, saw 25\\nSkipping line 4170: expected 1 fields, saw 26\\nSkipping line 4174: expected 1 fields, saw 26\\nSkipping line 4178: expected 1 fields, saw 27\\nSkipping line 4182: expected 1 fields, saw 25\\nSkipping line 4186: expected 1 fields, saw 27\\nSkipping line 4190: expected 1 fields, saw 25\\nSkipping line 4194: expected 1 fields, saw 25\\nSkipping line 4198: expected 1 fields, saw 25\\nSkipping line 4202: expected 1 fields, saw 26\\nSkipping line 4206: expected 1 fields, saw 26\\nSkipping line 4210: expected 1 fields, saw 25\\nSkipping line 4214: expected 1 fields, saw 25\\nSkipping line 4218: expected 1 fields, saw 25\\nSkipping line 4222: expected 1 fields, saw 25\\nSkipping line 4226: expected 1 fields, saw 25\\nSkipping line 4230: expected 1 fields, saw 25\\nSkipping line 4234: expected 1 fields, saw 25\\nSkipping line 4238: expected 1 fields, saw 27\\nSkipping line 4242: expected 1 fields, saw 25\\nSkipping line 4246: expected 1 fields, saw 26\\nSkipping line 4250: expected 1 fields, saw 25\\nSkipping line 4254: expected 1 fields, saw 25\\nSkipping line 4258: expected 1 fields, saw 26\\nSkipping line 4262: expected 1 fields, saw 26\\nSkipping line 4266: expected 1 fields, saw 25\\nSkipping line 4270: expected 1 fields, saw 26\\nSkipping line 4274: expected 1 fields, saw 25\\nSkipping line 4278: expected 1 fields, saw 25\\nSkipping line 4282: expected 1 fields, saw 25\\nSkipping line 4286: expected 1 fields, saw 25\\nSkipping line 4290: expected 1 fields, saw 25\\nSkipping line 4294: expected 1 fields, saw 26\\nSkipping line 4298: expected 1 fields, saw 25\\nSkipping line 4302: expected 1 fields, saw 27\\nSkipping line 4306: expected 1 fields, saw 27\\nSkipping line 4310: expected 1 fields, saw 26\\nSkipping line 4314: expected 1 fields, saw 25\\nSkipping line 4318: expected 1 fields, saw 25\\nSkipping line 4322: expected 1 fields, saw 27\\nSkipping line 4326: expected 1 fields, saw 25\\nSkipping line 4330: expected 1 fields, saw 26\\nSkipping line 4334: expected 1 fields, saw 26\\nSkipping line 4338: expected 1 fields, saw 25\\nSkipping line 4342: expected 1 fields, saw 26\\nSkipping line 4346: expected 1 fields, saw 25\\nSkipping line 4350: expected 1 fields, saw 26\\nSkipping line 4354: expected 1 fields, saw 26\\nSkipping line 4358: expected 1 fields, saw 27\\nSkipping line 4362: expected 1 fields, saw 25\\nSkipping line 4366: expected 1 fields, saw 26\\nSkipping line 4370: expected 1 fields, saw 26\\nSkipping line 4374: expected 1 fields, saw 27\\nSkipping line 4378: expected 1 fields, saw 26\\nSkipping line 4382: expected 1 fields, saw 27\\nSkipping line 4386: expected 1 fields, saw 25\\nSkipping line 4390: expected 1 fields, saw 25\\nSkipping line 4394: expected 1 fields, saw 25\\nSkipping line 4398: expected 1 fields, saw 26\\nSkipping line 4402: expected 1 fields, saw 25\\nSkipping line 4406: expected 1 fields, saw 25\\nSkipping line 4410: expected 1 fields, saw 25\\nSkipping line 4414: expected 1 fields, saw 25\\nSkipping line 4418: expected 1 fields, saw 25\\nSkipping line 4422: expected 1 fields, saw 25\\nSkipping line 4426: expected 1 fields, saw 25\\nSkipping line 4430: expected 1 fields, saw 26\\nSkipping line 4434: expected 1 fields, saw 25\\nSkipping line 4438: expected 1 fields, saw 26\\nSkipping line 4442: expected 1 fields, saw 26\\nSkipping line 4446: expected 1 fields, saw 26\\nSkipping line 4450: expected 1 fields, saw 26\\nSkipping line 4454: expected 1 fields, saw 26\\nSkipping line 4458: expected 1 fields, saw 26\\nSkipping line 4462: expected 1 fields, saw 26\\nSkipping line 4466: expected 1 fields, saw 25\\nSkipping line 4470: expected 1 fields, saw 25\\nSkipping line 4474: expected 1 fields, saw 25\\nSkipping line 4478: expected 1 fields, saw 25\\nSkipping line 4482: expected 1 fields, saw 25\\nSkipping line 4486: expected 1 fields, saw 26\\nSkipping line 4490: expected 1 fields, saw 25\\nSkipping line 4494: expected 1 fields, saw 27\\nSkipping line 4498: expected 1 fields, saw 27\\nSkipping line 4502: expected 1 fields, saw 25\\nSkipping line 4506: expected 1 fields, saw 25\\nSkipping line 4510: expected 1 fields, saw 25\\nSkipping line 4514: expected 1 fields, saw 26\\nSkipping line 4518: expected 1 fields, saw 25\\nSkipping line 4522: expected 1 fields, saw 25\\nSkipping line 4526: expected 1 fields, saw 26\\nSkipping line 4530: expected 1 fields, saw 26\\nSkipping line 4534: expected 1 fields, saw 25\\nSkipping line 4538: expected 1 fields, saw 25\\nSkipping line 4542: expected 1 fields, saw 26\\nSkipping line 4546: expected 1 fields, saw 25\\nSkipping line 4550: expected 1 fields, saw 25\\nSkipping line 4554: expected 1 fields, saw 26\\nSkipping line 4558: expected 1 fields, saw 25\\nSkipping line 4562: expected 1 fields, saw 27\\nSkipping line 4566: expected 1 fields, saw 27\\nSkipping line 4570: expected 1 fields, saw 25\\nSkipping line 4574: expected 1 fields, saw 26\\nSkipping line 4578: expected 1 fields, saw 27\\nSkipping line 4582: expected 1 fields, saw 26\\nSkipping line 4586: expected 1 fields, saw 27\\nSkipping line 4590: expected 1 fields, saw 27\\nSkipping line 4594: expected 1 fields, saw 25\\nSkipping line 4598: expected 1 fields, saw 25\\nSkipping line 4602: expected 1 fields, saw 25\\nSkipping line 4606: expected 1 fields, saw 26\\nSkipping line 4610: expected 1 fields, saw 25\\nSkipping line 4614: expected 1 fields, saw 25\\nSkipping line 4618: expected 1 fields, saw 25\\nSkipping line 4622: expected 1 fields, saw 25\\nSkipping line 4626: expected 1 fields, saw 25\\nSkipping line 4630: expected 1 fields, saw 25\\nSkipping line 4634: expected 1 fields, saw 25\\nSkipping line 4638: expected 1 fields, saw 26\\nSkipping line 4642: expected 1 fields, saw 26\\nSkipping line 4646: expected 1 fields, saw 25\\nSkipping line 4650: expected 1 fields, saw 26\\nSkipping line 4654: expected 1 fields, saw 25\\nSkipping line 4658: expected 1 fields, saw 26\\nSkipping line 4662: expected 1 fields, saw 26\\nSkipping line 4666: expected 1 fields, saw 26\\nSkipping line 4670: expected 1 fields, saw 25\\nSkipping line 4674: expected 1 fields, saw 26\\nSkipping line 4678: expected 1 fields, saw 26\\nSkipping line 4682: expected 1 fields, saw 25\\nSkipping line 4686: expected 1 fields, saw 25\\nSkipping line 4690: expected 1 fields, saw 27\\nSkipping line 4694: expected 1 fields, saw 26\\nSkipping line 4698: expected 1 fields, saw 26\\nSkipping line 4702: expected 1 fields, saw 25\\nSkipping line 4706: expected 1 fields, saw 25\\nSkipping line 4710: expected 1 fields, saw 26\\nSkipping line 4714: expected 1 fields, saw 27\\nSkipping line 4718: expected 1 fields, saw 26\\nSkipping line 4722: expected 1 fields, saw 25\\nSkipping line 4726: expected 1 fields, saw 25\\nSkipping line 4730: expected 1 fields, saw 25\\nSkipping line 4734: expected 1 fields, saw 26\\nSkipping line 4738: expected 1 fields, saw 25\\nSkipping line 4742: expected 1 fields, saw 26\\nSkipping line 4746: expected 1 fields, saw 26\\nSkipping line 4750: expected 1 fields, saw 25\\nSkipping line 4754: expected 1 fields, saw 25\\nSkipping line 4758: expected 1 fields, saw 25\\nSkipping line 4762: expected 1 fields, saw 25\\nSkipping line 4766: expected 1 fields, saw 26\\nSkipping line 4770: expected 1 fields, saw 25\\nSkipping line 4774: expected 1 fields, saw 25\\nSkipping line 4778: expected 1 fields, saw 25\\nSkipping line 4782: expected 1 fields, saw 25\\nSkipping line 4786: expected 1 fields, saw 26\\nSkipping line 4790: expected 1 fields, saw 26\\nSkipping line 4794: expected 1 fields, saw 25\\nSkipping line 4798: expected 1 fields, saw 27\\nSkipping line 4802: expected 1 fields, saw 26\\nSkipping line 4806: expected 1 fields, saw 25\\nSkipping line 4810: expected 1 fields, saw 25\\nSkipping line 4814: expected 1 fields, saw 25\\nSkipping line 4818: expected 1 fields, saw 26\\nSkipping line 4822: expected 1 fields, saw 25\\nSkipping line 4826: expected 1 fields, saw 26\\nSkipping line 4830: expected 1 fields, saw 25\\nSkipping line 4834: expected 1 fields, saw 25\\nSkipping line 4838: expected 1 fields, saw 25\\nSkipping line 4842: expected 1 fields, saw 26\\nSkipping line 4846: expected 1 fields, saw 25\\nSkipping line 4850: expected 1 fields, saw 26\\nSkipping line 4854: expected 1 fields, saw 25\\nSkipping line 4858: expected 1 fields, saw 26\\nSkipping line 4862: expected 1 fields, saw 26\\nSkipping line 4866: expected 1 fields, saw 26\\nSkipping line 4870: expected 1 fields, saw 26\\nSkipping line 4874: expected 1 fields, saw 26\\nSkipping line 4878: expected 1 fields, saw 26\\nSkipping line 4882: expected 1 fields, saw 25\\nSkipping line 4886: expected 1 fields, saw 25\\nSkipping line 4890: expected 1 fields, saw 25\\nSkipping line 4894: expected 1 fields, saw 25\\nSkipping line 4898: expected 1 fields, saw 26\\nSkipping line 4902: expected 1 fields, saw 26\\nSkipping line 4906: expected 1 fields, saw 27\\nSkipping line 4910: expected 1 fields, saw 27\\nSkipping line 4914: expected 1 fields, saw 26\\nSkipping line 4918: expected 1 fields, saw 26\\nSkipping line 4922: expected 1 fields, saw 25\\nSkipping line 4926: expected 1 fields, saw 26\\nSkipping line 4930: expected 1 fields, saw 26\\nSkipping line 4934: expected 1 fields, saw 25\\nSkipping line 4938: expected 1 fields, saw 25\\nSkipping line 4942: expected 1 fields, saw 26\\nSkipping line 4946: expected 1 fields, saw 26\\nSkipping line 4950: expected 1 fields, saw 25\\nSkipping line 4954: expected 1 fields, saw 25\\nSkipping line 4958: expected 1 fields, saw 26\\nSkipping line 4962: expected 1 fields, saw 25\\nSkipping line 4966: expected 1 fields, saw 25\\nSkipping line 4970: expected 1 fields, saw 25\\nSkipping line 4974: expected 1 fields, saw 26\\nSkipping line 4978: expected 1 fields, saw 25\\nSkipping line 4982: expected 1 fields, saw 26\\nSkipping line 4986: expected 1 fields, saw 25\\nSkipping line 4990: expected 1 fields, saw 25\\nSkipping line 4994: expected 1 fields, saw 26\\nSkipping line 4998: expected 1 fields, saw 25\\nSkipping line 5002: expected 1 fields, saw 25\\nSkipping line 5006: expected 1 fields, saw 26\\nSkipping line 5010: expected 1 fields, saw 25\\nSkipping line 5014: expected 1 fields, saw 26\\nSkipping line 5018: expected 1 fields, saw 26\\nSkipping line 5022: expected 1 fields, saw 25\\nSkipping line 5026: expected 1 fields, saw 25\\nSkipping line 5030: expected 1 fields, saw 26\\nSkipping line 5034: expected 1 fields, saw 27\\nSkipping line 5038: expected 1 fields, saw 26\\nSkipping line 5042: expected 1 fields, saw 25\\nSkipping line 5046: expected 1 fields, saw 25\\nSkipping line 5050: expected 1 fields, saw 25\\nSkipping line 5054: expected 1 fields, saw 26\\nSkipping line 5058: expected 1 fields, saw 26\\nSkipping line 5062: expected 1 fields, saw 25\\nSkipping line 5066: expected 1 fields, saw 25\\nSkipping line 5070: expected 1 fields, saw 25\\nSkipping line 5074: expected 1 fields, saw 26\\nSkipping line 5078: expected 1 fields, saw 27\\nSkipping line 5082: expected 1 fields, saw 26\\nSkipping line 5086: expected 1 fields, saw 27\\nSkipping line 5090: expected 1 fields, saw 25\\nSkipping line 5094: expected 1 fields, saw 26\\nSkipping line 5098: expected 1 fields, saw 26\\nSkipping line 5102: expected 1 fields, saw 26\\nSkipping line 5106: expected 1 fields, saw 25\\nSkipping line 5110: expected 1 fields, saw 25\\nSkipping line 5114: expected 1 fields, saw 25\\nSkipping line 5118: expected 1 fields, saw 26\\nSkipping line 5122: expected 1 fields, saw 25\\nSkipping line 5126: expected 1 fields, saw 26\\nSkipping line 5130: expected 1 fields, saw 25\\nSkipping line 5134: expected 1 fields, saw 25\\nSkipping line 5138: expected 1 fields, saw 26\\nSkipping line 5142: expected 1 fields, saw 25\\nSkipping line 5146: expected 1 fields, saw 25\\nSkipping line 5150: expected 1 fields, saw 25\\nSkipping line 5154: expected 1 fields, saw 26\\nSkipping line 5158: expected 1 fields, saw 25\\nSkipping line 5162: expected 1 fields, saw 25\\nSkipping line 5166: expected 1 fields, saw 25\\nSkipping line 5170: expected 1 fields, saw 26\\nSkipping line 5174: expected 1 fields, saw 25\\nSkipping line 5178: expected 1 fields, saw 25\\nSkipping line 5182: expected 1 fields, saw 25\\nSkipping line 5186: expected 1 fields, saw 27\\nSkipping line 5190: expected 1 fields, saw 26\\nSkipping line 5194: expected 1 fields, saw 27\\nSkipping line 5198: expected 1 fields, saw 25\\nSkipping line 5202: expected 1 fields, saw 25\\nSkipping line 5206: expected 1 fields, saw 26\\nSkipping line 5210: expected 1 fields, saw 26\\nSkipping line 5214: expected 1 fields, saw 25\\nSkipping line 5218: expected 1 fields, saw 25\\nSkipping line 5222: expected 1 fields, saw 25\\nSkipping line 5226: expected 1 fields, saw 26\\nSkipping line 5230: expected 1 fields, saw 25\\nSkipping line 5234: expected 1 fields, saw 25\\nSkipping line 5238: expected 1 fields, saw 25\\nSkipping line 5242: expected 1 fields, saw 25\\nSkipping line 5246: expected 1 fields, saw 26\\nSkipping line 5250: expected 1 fields, saw 25\\nSkipping line 5254: expected 1 fields, saw 25\\nSkipping line 5258: expected 1 fields, saw 26\\nSkipping line 5262: expected 1 fields, saw 26\\nSkipping line 5266: expected 1 fields, saw 25\\nSkipping line 5270: expected 1 fields, saw 25\\nSkipping line 5274: expected 1 fields, saw 25\\nSkipping line 5278: expected 1 fields, saw 25\\nSkipping line 5282: expected 1 fields, saw 25\\nSkipping line 5286: expected 1 fields, saw 25\\nSkipping line 5290: expected 1 fields, saw 25\\nSkipping line 5294: expected 1 fields, saw 25\\nSkipping line 5298: expected 1 fields, saw 25\\nSkipping line 5302: expected 1 fields, saw 26\\nSkipping line 5306: expected 1 fields, saw 25\\nSkipping line 5310: expected 1 fields, saw 25\\nSkipping line 5314: expected 1 fields, saw 26\\nSkipping line 5318: expected 1 fields, saw 26\\nSkipping line 5322: expected 1 fields, saw 26\\nSkipping line 5326: expected 1 fields, saw 25\\nSkipping line 5330: expected 1 fields, saw 25\\nSkipping line 5334: expected 1 fields, saw 26\\nSkipping line 5338: expected 1 fields, saw 25\\nSkipping line 5342: expected 1 fields, saw 26\\nSkipping line 5346: expected 1 fields, saw 26\\nSkipping line 5350: expected 1 fields, saw 26\\nSkipping line 5354: expected 1 fields, saw 25\\nSkipping line 5358: expected 1 fields, saw 25\\nSkipping line 5362: expected 1 fields, saw 26\\nSkipping line 5366: expected 1 fields, saw 26\\nSkipping line 5370: expected 1 fields, saw 26\\nSkipping line 5374: expected 1 fields, saw 26\\nSkipping line 5378: expected 1 fields, saw 25\\nSkipping line 5382: expected 1 fields, saw 25\\nSkipping line 5386: expected 1 fields, saw 25\\nSkipping line 5390: expected 1 fields, saw 25\\nSkipping line 5394: expected 1 fields, saw 25\\nSkipping line 5398: expected 1 fields, saw 27\\nSkipping line 5402: expected 1 fields, saw 26\\nSkipping line 5406: expected 1 fields, saw 27\\nSkipping line 5410: expected 1 fields, saw 25\\nSkipping line 5414: expected 1 fields, saw 25\\nSkipping line 5418: expected 1 fields, saw 26\\nSkipping line 5422: expected 1 fields, saw 26\\nSkipping line 5426: expected 1 fields, saw 25\\nSkipping line 5430: expected 1 fields, saw 25\\nSkipping line 5434: expected 1 fields, saw 25\\nSkipping line 5438: expected 1 fields, saw 26\\nSkipping line 5442: expected 1 fields, saw 25\\nSkipping line 5446: expected 1 fields, saw 26\\nSkipping line 5450: expected 1 fields, saw 25\\nSkipping line 5454: expected 1 fields, saw 25\\nSkipping line 5458: expected 1 fields, saw 26\\nSkipping line 5462: expected 1 fields, saw 25\\nSkipping line 5466: expected 1 fields, saw 25\\nSkipping line 5470: expected 1 fields, saw 26\\nSkipping line 5474: expected 1 fields, saw 26\\nSkipping line 5478: expected 1 fields, saw 25\\nSkipping line 5482: expected 1 fields, saw 25\\nSkipping line 5486: expected 1 fields, saw 25\\nSkipping line 5490: expected 1 fields, saw 25\\nSkipping line 5494: expected 1 fields, saw 25\\nSkipping line 5498: expected 1 fields, saw 25\\nSkipping line 5502: expected 1 fields, saw 27\\nSkipping line 5506: expected 1 fields, saw 26\\nSkipping line 5510: expected 1 fields, saw 25\\nSkipping line 5514: expected 1 fields, saw 26\\nSkipping line 5518: expected 1 fields, saw 25\\nSkipping line 5522: expected 1 fields, saw 26\\nSkipping line 5526: expected 1 fields, saw 25\\nSkipping line 5530: expected 1 fields, saw 25\\nSkipping line 5534: expected 1 fields, saw 27\\nSkipping line 5538: expected 1 fields, saw 25\\nSkipping line 5542: expected 1 fields, saw 25\\nSkipping line 5546: expected 1 fields, saw 25\\nSkipping line 5550: expected 1 fields, saw 25\\nSkipping line 5554: expected 1 fields, saw 25\\nSkipping line 5558: expected 1 fields, saw 25\\nSkipping line 5562: expected 1 fields, saw 26\\nSkipping line 5566: expected 1 fields, saw 25\\nSkipping line 5570: expected 1 fields, saw 25\\nSkipping line 5574: expected 1 fields, saw 27\\nSkipping line 5578: expected 1 fields, saw 26\\nSkipping line 5582: expected 1 fields, saw 26\\nSkipping line 5586: expected 1 fields, saw 26\\nSkipping line 5590: expected 1 fields, saw 25\\nSkipping line 5594: expected 1 fields, saw 25\\nSkipping line 5598: expected 1 fields, saw 26\\nSkipping line 5602: expected 1 fields, saw 25\\nSkipping line 5606: expected 1 fields, saw 27\\nSkipping line 5610: expected 1 fields, saw 26\\nSkipping line 5614: expected 1 fields, saw 25\\nSkipping line 5618: expected 1 fields, saw 25\\nSkipping line 5622: expected 1 fields, saw 26\\nSkipping line 5626: expected 1 fields, saw 26\\nSkipping line 5630: expected 1 fields, saw 26\\nSkipping line 5634: expected 1 fields, saw 26\\nSkipping line 5638: expected 1 fields, saw 27\\nSkipping line 5642: expected 1 fields, saw 25\\nSkipping line 5646: expected 1 fields, saw 26\\nSkipping line 5650: expected 1 fields, saw 26\\nSkipping line 5654: expected 1 fields, saw 27\\nSkipping line 5658: expected 1 fields, saw 25\\nSkipping line 5662: expected 1 fields, saw 25\\nSkipping line 5666: expected 1 fields, saw 26\\nSkipping line 5670: expected 1 fields, saw 25\\nSkipping line 5674: expected 1 fields, saw 26\\nSkipping line 5678: expected 1 fields, saw 26\\nSkipping line 5682: expected 1 fields, saw 25\\nSkipping line 5686: expected 1 fields, saw 26\\nSkipping line 5690: expected 1 fields, saw 26\\nSkipping line 5694: expected 1 fields, saw 26\\nSkipping line 5698: expected 1 fields, saw 25\\nSkipping line 5702: expected 1 fields, saw 25\\nSkipping line 5706: expected 1 fields, saw 25\\nSkipping line 5710: expected 1 fields, saw 25\\nSkipping line 5714: expected 1 fields, saw 25\\nSkipping line 5718: expected 1 fields, saw 26\\nSkipping line 5722: expected 1 fields, saw 25\\nSkipping line 5726: expected 1 fields, saw 27\\nSkipping line 5730: expected 1 fields, saw 25\\nSkipping line 5734: expected 1 fields, saw 26\\nSkipping line 5738: expected 1 fields, saw 25\\nSkipping line 5742: expected 1 fields, saw 25\\nSkipping line 5746: expected 1 fields, saw 25\\nSkipping line 5750: expected 1 fields, saw 25\\nSkipping line 5754: expected 1 fields, saw 26\\nSkipping line 5758: expected 1 fields, saw 26\\nSkipping line 5762: expected 1 fields, saw 25\\nSkipping line 5766: expected 1 fields, saw 26\\nSkipping line 5770: expected 1 fields, saw 26\\nSkipping line 5774: expected 1 fields, saw 26\\nSkipping line 5778: expected 1 fields, saw 26\\nSkipping line 5782: expected 1 fields, saw 26\\nSkipping line 5786: expected 1 fields, saw 26\\nSkipping line 5790: expected 1 fields, saw 26\\nSkipping line 5794: expected 1 fields, saw 26\\nSkipping line 5798: expected 1 fields, saw 25\\nSkipping line 5802: expected 1 fields, saw 26\\nSkipping line 5806: expected 1 fields, saw 25\\nSkipping line 5810: expected 1 fields, saw 27\\nSkipping line 5814: expected 1 fields, saw 26\\nSkipping line 5818: expected 1 fields, saw 25\\nSkipping line 5822: expected 1 fields, saw 26\\nSkipping line 5826: expected 1 fields, saw 27\\nSkipping line 5830: expected 1 fields, saw 26\\nSkipping line 5834: expected 1 fields, saw 25\\nSkipping line 5838: expected 1 fields, saw 25\\nSkipping line 5842: expected 1 fields, saw 27\\nSkipping line 5846: expected 1 fields, saw 25\\nSkipping line 5850: expected 1 fields, saw 25\\nSkipping line 5854: expected 1 fields, saw 25\\nSkipping line 5858: expected 1 fields, saw 25\\nSkipping line 5862: expected 1 fields, saw 25\\nSkipping line 5866: expected 1 fields, saw 25\\nSkipping line 5870: expected 1 fields, saw 26\\nSkipping line 5874: expected 1 fields, saw 25\\nSkipping line 5878: expected 1 fields, saw 26\\nSkipping line 5882: expected 1 fields, saw 27\\nSkipping line 5886: expected 1 fields, saw 26\\nSkipping line 5890: expected 1 fields, saw 26\\nSkipping line 5894: expected 1 fields, saw 26\\nSkipping line 5898: expected 1 fields, saw 25\\nSkipping line 5902: expected 1 fields, saw 25\\nSkipping line 5906: expected 1 fields, saw 25\\nSkipping line 5910: expected 1 fields, saw 26\\nSkipping line 5914: expected 1 fields, saw 25\\nSkipping line 5918: expected 1 fields, saw 25\\nSkipping line 5922: expected 1 fields, saw 25\\nSkipping line 5926: expected 1 fields, saw 26\\nSkipping line 5930: expected 1 fields, saw 26\\nSkipping line 5934: expected 1 fields, saw 26\\nSkipping line 5938: expected 1 fields, saw 26\\nSkipping line 5942: expected 1 fields, saw 26\\nSkipping line 5946: expected 1 fields, saw 26\\nSkipping line 5950: expected 1 fields, saw 25\\nSkipping line 5954: expected 1 fields, saw 26\\nSkipping line 5958: expected 1 fields, saw 26\\nSkipping line 5962: expected 1 fields, saw 25\\nSkipping line 5966: expected 1 fields, saw 26\\nSkipping line 5970: expected 1 fields, saw 26\\nSkipping line 5974: expected 1 fields, saw 26\\nSkipping line 5978: expected 1 fields, saw 25\\nSkipping line 5982: expected 1 fields, saw 25\\nSkipping line 5986: expected 1 fields, saw 26\\nSkipping line 5990: expected 1 fields, saw 26\\nSkipping line 5994: expected 1 fields, saw 26\\nSkipping line 5998: expected 1 fields, saw 25\\nSkipping line 6002: expected 1 fields, saw 25\\nSkipping line 6006: expected 1 fields, saw 25\\nSkipping line 6010: expected 1 fields, saw 27\\nSkipping line 6014: expected 1 fields, saw 26\\nSkipping line 6018: expected 1 fields, saw 25\\nSkipping line 6022: expected 1 fields, saw 25\\nSkipping line 6026: expected 1 fields, saw 25\\nSkipping line 6030: expected 1 fields, saw 25\\nSkipping line 6034: expected 1 fields, saw 26\\nSkipping line 6038: expected 1 fields, saw 25\\nSkipping line 6042: expected 1 fields, saw 25\\nSkipping line 6046: expected 1 fields, saw 27\\nSkipping line 6050: expected 1 fields, saw 26\\nSkipping line 6054: expected 1 fields, saw 25\\nSkipping line 6058: expected 1 fields, saw 25\\nSkipping line 6062: expected 1 fields, saw 25\\nSkipping line 6066: expected 1 fields, saw 26\\nSkipping line 6070: expected 1 fields, saw 25\\nSkipping line 6074: expected 1 fields, saw 26\\nSkipping line 6078: expected 1 fields, saw 25\\nSkipping line 6082: expected 1 fields, saw 26\\nSkipping line 6086: expected 1 fields, saw 25\\nSkipping line 6090: expected 1 fields, saw 25\\nSkipping line 6094: expected 1 fields, saw 25\\nSkipping line 6098: expected 1 fields, saw 25\\nSkipping line 6102: expected 1 fields, saw 25\\nSkipping line 6106: expected 1 fields, saw 25\\nSkipping line 6110: expected 1 fields, saw 26\\nSkipping line 6114: expected 1 fields, saw 25\\nSkipping line 6118: expected 1 fields, saw 25\\nSkipping line 6122: expected 1 fields, saw 25\\nSkipping line 6126: expected 1 fields, saw 26\\nSkipping line 6130: expected 1 fields, saw 26\\nSkipping line 6134: expected 1 fields, saw 26\\nSkipping line 6138: expected 1 fields, saw 26\\nSkipping line 6142: expected 1 fields, saw 26\\nSkipping line 6146: expected 1 fields, saw 26\\nSkipping line 6150: expected 1 fields, saw 25\\nSkipping line 6154: expected 1 fields, saw 26\\nSkipping line 6158: expected 1 fields, saw 26\\nSkipping line 6162: expected 1 fields, saw 25\\nSkipping line 6166: expected 1 fields, saw 26\\nSkipping line 6170: expected 1 fields, saw 26\\nSkipping line 6174: expected 1 fields, saw 26\\nSkipping line 6178: expected 1 fields, saw 26\\nSkipping line 6182: expected 1 fields, saw 25\\nSkipping line 6186: expected 1 fields, saw 26\\nSkipping line 6190: expected 1 fields, saw 26\\nSkipping line 6194: expected 1 fields, saw 26\\nSkipping line 6198: expected 1 fields, saw 26\\nSkipping line 6202: expected 1 fields, saw 25\\nSkipping line 6206: expected 1 fields, saw 25\\nSkipping line 6210: expected 1 fields, saw 26\\nSkipping line 6214: expected 1 fields, saw 25\\nSkipping line 6218: expected 1 fields, saw 26\\nSkipping line 6222: expected 1 fields, saw 25\\nSkipping line 6226: expected 1 fields, saw 25\\nSkipping line 6230: expected 1 fields, saw 26\\nSkipping line 6234: expected 1 fields, saw 25\\nSkipping line 6238: expected 1 fields, saw 25\\nSkipping line 6242: expected 1 fields, saw 26\\nSkipping line 6246: expected 1 fields, saw 25\\nSkipping line 6250: expected 1 fields, saw 27\\nSkipping line 6254: expected 1 fields, saw 26\\nSkipping line 6258: expected 1 fields, saw 25\\nSkipping line 6262: expected 1 fields, saw 25\\nSkipping line 6266: expected 1 fields, saw 26\\nSkipping line 6270: expected 1 fields, saw 27\\nSkipping line 6274: expected 1 fields, saw 26\\nSkipping line 6278: expected 1 fields, saw 25\\nSkipping line 6282: expected 1 fields, saw 25\\nSkipping line 6286: expected 1 fields, saw 25\\nSkipping line 6290: expected 1 fields, saw 25\\nSkipping line 6294: expected 1 fields, saw 26\\nSkipping line 6298: expected 1 fields, saw 25\\nSkipping line 6302: expected 1 fields, saw 25\\nSkipping line 6306: expected 1 fields, saw 25\\nSkipping line 6310: expected 1 fields, saw 26\\nSkipping line 6314: expected 1 fields, saw 25\\nSkipping line 6318: expected 1 fields, saw 25\\nSkipping line 6322: expected 1 fields, saw 25\\nSkipping line 6326: expected 1 fields, saw 26\\nSkipping line 6330: expected 1 fields, saw 26\\nSkipping line 6334: expected 1 fields, saw 26\\nSkipping line 6338: expected 1 fields, saw 26\\nSkipping line 6342: expected 1 fields, saw 26\\nSkipping line 6346: expected 1 fields, saw 25\\nSkipping line 6350: expected 1 fields, saw 26\\nSkipping line 6354: expected 1 fields, saw 25\\nSkipping line 6358: expected 1 fields, saw 25\\nSkipping line 6362: expected 1 fields, saw 27\\nSkipping line 6366: expected 1 fields, saw 26\\nSkipping line 6370: expected 1 fields, saw 26\\nSkipping line 6374: expected 1 fields, saw 25\\nSkipping line 6378: expected 1 fields, saw 25\\nSkipping line 6382: expected 1 fields, saw 26\\nSkipping line 6386: expected 1 fields, saw 26\\nSkipping line 6390: expected 1 fields, saw 26\\nSkipping line 6394: expected 1 fields, saw 26\\nSkipping line 6398: expected 1 fields, saw 25\\nSkipping line 6402: expected 1 fields, saw 26\\nSkipping line 6406: expected 1 fields, saw 25\\nSkipping line 6410: expected 1 fields, saw 25\\nSkipping line 6414: expected 1 fields, saw 25\\nSkipping line 6418: expected 1 fields, saw 25\\nSkipping line 6422: expected 1 fields, saw 26\\nSkipping line 6426: expected 1 fields, saw 25\\nSkipping line 6430: expected 1 fields, saw 25\\nSkipping line 6434: expected 1 fields, saw 26\\nSkipping line 6438: expected 1 fields, saw 26\\nSkipping line 6442: expected 1 fields, saw 26\\nSkipping line 6446: expected 1 fields, saw 25\\nSkipping line 6450: expected 1 fields, saw 25\\nSkipping line 6454: expected 1 fields, saw 26\\nSkipping line 6458: expected 1 fields, saw 25\\nSkipping line 6462: expected 1 fields, saw 26\\nSkipping line 6466: expected 1 fields, saw 26\\nSkipping line 6470: expected 1 fields, saw 26\\nSkipping line 6474: expected 1 fields, saw 25\\nSkipping line 6478: expected 1 fields, saw 25\\nSkipping line 6482: expected 1 fields, saw 26\\nSkipping line 6486: expected 1 fields, saw 26\\nSkipping line 6490: expected 1 fields, saw 26\\nSkipping line 6494: expected 1 fields, saw 26\\nSkipping line 6498: expected 1 fields, saw 25\\nSkipping line 6502: expected 1 fields, saw 25\\nSkipping line 6506: expected 1 fields, saw 26\\nSkipping line 6510: expected 1 fields, saw 26\\nSkipping line 6514: expected 1 fields, saw 27\\nSkipping line 6518: expected 1 fields, saw 25\\nSkipping line 6522: expected 1 fields, saw 25\\nSkipping line 6526: expected 1 fields, saw 26\\nSkipping line 6530: expected 1 fields, saw 27\\nSkipping line 6534: expected 1 fields, saw 25\\nSkipping line 6538: expected 1 fields, saw 25\\nSkipping line 6542: expected 1 fields, saw 25\\nSkipping line 6546: expected 1 fields, saw 25\\nSkipping line 6550: expected 1 fields, saw 26\\nSkipping line 6554: expected 1 fields, saw 26\\nSkipping line 6558: expected 1 fields, saw 26\\nSkipping line 6562: expected 1 fields, saw 25\\nSkipping line 6566: expected 1 fields, saw 25\\nSkipping line 6570: expected 1 fields, saw 25\\nSkipping line 6574: expected 1 fields, saw 26\\nSkipping line 6578: expected 1 fields, saw 25\\nSkipping line 6582: expected 1 fields, saw 25\\nSkipping line 6586: expected 1 fields, saw 25\\nSkipping line 6590: expected 1 fields, saw 25\\nSkipping line 6594: expected 1 fields, saw 26\\nSkipping line 6598: expected 1 fields, saw 26\\nSkipping line 6602: expected 1 fields, saw 26\\nSkipping line 6606: expected 1 fields, saw 26\\nSkipping line 6610: expected 1 fields, saw 25\\nSkipping line 6614: expected 1 fields, saw 25\\nSkipping line 6618: expected 1 fields, saw 26\\nSkipping line 6622: expected 1 fields, saw 25\\nSkipping line 6626: expected 1 fields, saw 26\\nSkipping line 6630: expected 1 fields, saw 25\\nSkipping line 6634: expected 1 fields, saw 25\\nSkipping line 6638: expected 1 fields, saw 25\\nSkipping line 6642: expected 1 fields, saw 26\\nSkipping line 6646: expected 1 fields, saw 25\\nSkipping line 6650: expected 1 fields, saw 26\\nSkipping line 6654: expected 1 fields, saw 27\\nSkipping line 6658: expected 1 fields, saw 26\\nSkipping line 6662: expected 1 fields, saw 25\\nSkipping line 6666: expected 1 fields, saw 25\\nSkipping line 6670: expected 1 fields, saw 26\\nSkipping line 6674: expected 1 fields, saw 26\\nSkipping line 6678: expected 1 fields, saw 26\\nSkipping line 6682: expected 1 fields, saw 26\\nSkipping line 6686: expected 1 fields, saw 25\\nSkipping line 6690: expected 1 fields, saw 26\\nSkipping line 6694: expected 1 fields, saw 25\\nSkipping line 6698: expected 1 fields, saw 26\\nSkipping line 6702: expected 1 fields, saw 25\\nSkipping line 6706: expected 1 fields, saw 27\\nSkipping line 6710: expected 1 fields, saw 26\\nSkipping line 6714: expected 1 fields, saw 25\\nSkipping line 6718: expected 1 fields, saw 26\\nSkipping line 6722: expected 1 fields, saw 25\\nSkipping line 6726: expected 1 fields, saw 26\\nSkipping line 6730: expected 1 fields, saw 25\\nSkipping line 6734: expected 1 fields, saw 26\\nSkipping line 6738: expected 1 fields, saw 27\\nSkipping line 6742: expected 1 fields, saw 25\\nSkipping line 6746: expected 1 fields, saw 25\\nSkipping line 6750: expected 1 fields, saw 25\\nSkipping line 6754: expected 1 fields, saw 25\\nSkipping line 6758: expected 1 fields, saw 25\\nSkipping line 6762: expected 1 fields, saw 26\\nSkipping line 6766: expected 1 fields, saw 25\\nSkipping line 6770: expected 1 fields, saw 26\\nSkipping line 6774: expected 1 fields, saw 26\\nSkipping line 6778: expected 1 fields, saw 26\\nSkipping line 6782: expected 1 fields, saw 25\\nSkipping line 6786: expected 1 fields, saw 26\\nSkipping line 6790: expected 1 fields, saw 26\\nSkipping line 6794: expected 1 fields, saw 26\\nSkipping line 6798: expected 1 fields, saw 25\\nSkipping line 6802: expected 1 fields, saw 25\\nSkipping line 6806: expected 1 fields, saw 25\\nSkipping line 6810: expected 1 fields, saw 27\\nSkipping line 6814: expected 1 fields, saw 27\\nSkipping line 6818: expected 1 fields, saw 25\\nSkipping line 6822: expected 1 fields, saw 27\\nSkipping line 6826: expected 1 fields, saw 25\\nSkipping line 6830: expected 1 fields, saw 26\\nSkipping line 6834: expected 1 fields, saw 26\\nSkipping line 6838: expected 1 fields, saw 27\\nSkipping line 6842: expected 1 fields, saw 25\\nSkipping line 6846: expected 1 fields, saw 25\\nSkipping line 6850: expected 1 fields, saw 25\\nSkipping line 6854: expected 1 fields, saw 25\\nSkipping line 6858: expected 1 fields, saw 25\\nSkipping line 6862: expected 1 fields, saw 26\\nSkipping line 6866: expected 1 fields, saw 25\\nSkipping line 6870: expected 1 fields, saw 25\\nSkipping line 6874: expected 1 fields, saw 25\\nSkipping line 6878: expected 1 fields, saw 25\\nSkipping line 6882: expected 1 fields, saw 26\\nSkipping line 6886: expected 1 fields, saw 26\\nSkipping line 6890: expected 1 fields, saw 26\\nSkipping line 6894: expected 1 fields, saw 25\\nSkipping line 6898: expected 1 fields, saw 26\\nSkipping line 6902: expected 1 fields, saw 25\\nSkipping line 6906: expected 1 fields, saw 25\\nSkipping line 6910: expected 1 fields, saw 26\\nSkipping line 6914: expected 1 fields, saw 25\\nSkipping line 6918: expected 1 fields, saw 25\\nSkipping line 6922: expected 1 fields, saw 27\\nSkipping line 6926: expected 1 fields, saw 25\\nSkipping line 6930: expected 1 fields, saw 27\\nSkipping line 6934: expected 1 fields, saw 25\\nSkipping line 6938: expected 1 fields, saw 26\\nSkipping line 6942: expected 1 fields, saw 26\\nSkipping line 6946: expected 1 fields, saw 27\\nSkipping line 6950: expected 1 fields, saw 25\\nSkipping line 6954: expected 1 fields, saw 25\\nSkipping line 6958: expected 1 fields, saw 25\\nSkipping line 6962: expected 1 fields, saw 25\\nSkipping line 6966: expected 1 fields, saw 26\\nSkipping line 6970: expected 1 fields, saw 26\\nSkipping line 6974: expected 1 fields, saw 25\\nSkipping line 6978: expected 1 fields, saw 25\\nSkipping line 6982: expected 1 fields, saw 26\\nSkipping line 6986: expected 1 fields, saw 25\\nSkipping line 6990: expected 1 fields, saw 25\\nSkipping line 6994: expected 1 fields, saw 25\\nSkipping line 6998: expected 1 fields, saw 27\\nSkipping line 7002: expected 1 fields, saw 26\\nSkipping line 7006: expected 1 fields, saw 26\\nSkipping line 7010: expected 1 fields, saw 25\\nSkipping line 7014: expected 1 fields, saw 25\\nSkipping line 7018: expected 1 fields, saw 26\\nSkipping line 7022: expected 1 fields, saw 25\\nSkipping line 7026: expected 1 fields, saw 26\\nSkipping line 7030: expected 1 fields, saw 25\\nSkipping line 7034: expected 1 fields, saw 25\\nSkipping line 7038: expected 1 fields, saw 25\\nSkipping line 7042: expected 1 fields, saw 26\\nSkipping line 7046: expected 1 fields, saw 26\\nSkipping line 7050: expected 1 fields, saw 26\\nSkipping line 7054: expected 1 fields, saw 26\\nSkipping line 7058: expected 1 fields, saw 26\\nSkipping line 7062: expected 1 fields, saw 25\\nSkipping line 7066: expected 1 fields, saw 26\\nSkipping line 7070: expected 1 fields, saw 25\\nSkipping line 7074: expected 1 fields, saw 25\\nSkipping line 7078: expected 1 fields, saw 26\\nSkipping line 7082: expected 1 fields, saw 26\\nSkipping line 7086: expected 1 fields, saw 26\\nSkipping line 7090: expected 1 fields, saw 25\\nSkipping line 7094: expected 1 fields, saw 25\\nSkipping line 7098: expected 1 fields, saw 26\\nSkipping line 7102: expected 1 fields, saw 26\\nSkipping line 7106: expected 1 fields, saw 26\\nSkipping line 7110: expected 1 fields, saw 26\\nSkipping line 7114: expected 1 fields, saw 25\\nSkipping line 7118: expected 1 fields, saw 26\\nSkipping line 7122: expected 1 fields, saw 25\\nSkipping line 7126: expected 1 fields, saw 26\\nSkipping line 7130: expected 1 fields, saw 25\\nSkipping line 7134: expected 1 fields, saw 25\\nSkipping line 7138: expected 1 fields, saw 25\\nSkipping line 7142: expected 1 fields, saw 26\\nSkipping line 7146: expected 1 fields, saw 25\\nSkipping line 7150: expected 1 fields, saw 26\\nSkipping line 7154: expected 1 fields, saw 27\\nSkipping line 7158: expected 1 fields, saw 26\\nSkipping line 7162: expected 1 fields, saw 25\\nSkipping line 7166: expected 1 fields, saw 26\\nSkipping line 7170: expected 1 fields, saw 25\\nSkipping line 7174: expected 1 fields, saw 26\\nSkipping line 7178: expected 1 fields, saw 26\\nSkipping line 7182: expected 1 fields, saw 26\\nSkipping line 7186: expected 1 fields, saw 26\\nSkipping line 7190: expected 1 fields, saw 25\\nSkipping line 7194: expected 1 fields, saw 26\\nSkipping line 7198: expected 1 fields, saw 25\\nSkipping line 7202: expected 1 fields, saw 26\\nSkipping line 7206: expected 1 fields, saw 26\\nSkipping line 7210: expected 1 fields, saw 25\\nSkipping line 7214: expected 1 fields, saw 26\\nSkipping line 7218: expected 1 fields, saw 25\\nSkipping line 7222: expected 1 fields, saw 25\\nSkipping line 7226: expected 1 fields, saw 25\\nSkipping line 7230: expected 1 fields, saw 25\\nSkipping line 7234: expected 1 fields, saw 25\\nSkipping line 7238: expected 1 fields, saw 26\\nSkipping line 7242: expected 1 fields, saw 25\\nSkipping line 7246: expected 1 fields, saw 26\\nSkipping line 7250: expected 1 fields, saw 25\\nSkipping line 7254: expected 1 fields, saw 26\\nSkipping line 7258: expected 1 fields, saw 25\\nSkipping line 7262: expected 1 fields, saw 27\\nSkipping line 7266: expected 1 fields, saw 26\\nSkipping line 7270: expected 1 fields, saw 25\\nSkipping line 7274: expected 1 fields, saw 26\\nSkipping line 7278: expected 1 fields, saw 26\\nSkipping line 7282: expected 1 fields, saw 25\\nSkipping line 7286: expected 1 fields, saw 26\\nSkipping line 7290: expected 1 fields, saw 25\\nSkipping line 7294: expected 1 fields, saw 26\\nSkipping line 7298: expected 1 fields, saw 26\\nSkipping line 7302: expected 1 fields, saw 25\\nSkipping line 7306: expected 1 fields, saw 25\\nSkipping line 7310: expected 1 fields, saw 26\\nSkipping line 7314: expected 1 fields, saw 26\\nSkipping line 7318: expected 1 fields, saw 27\\nSkipping line 7322: expected 1 fields, saw 25\\nSkipping line 7326: expected 1 fields, saw 27\\nSkipping line 7330: expected 1 fields, saw 25\\nSkipping line 7334: expected 1 fields, saw 25\\nSkipping line 7338: expected 1 fields, saw 26\\nSkipping line 7342: expected 1 fields, saw 26\\nSkipping line 7346: expected 1 fields, saw 26\\nSkipping line 7350: expected 1 fields, saw 25\\nSkipping line 7354: expected 1 fields, saw 25\\nSkipping line 7358: expected 1 fields, saw 25\\nSkipping line 7362: expected 1 fields, saw 25\\nSkipping line 7366: expected 1 fields, saw 25\\nSkipping line 7370: expected 1 fields, saw 25\\nSkipping line 7374: expected 1 fields, saw 25\\nSkipping line 7378: expected 1 fields, saw 27\\nSkipping line 7382: expected 1 fields, saw 25\\nSkipping line 7386: expected 1 fields, saw 26\\nSkipping line 7390: expected 1 fields, saw 25\\nSkipping line 7394: expected 1 fields, saw 26\\nSkipping line 7398: expected 1 fields, saw 26\\nSkipping line 7402: expected 1 fields, saw 26\\nSkipping line 7406: expected 1 fields, saw 26\\nSkipping line 7410: expected 1 fields, saw 25\\nSkipping line 7414: expected 1 fields, saw 26\\nSkipping line 7418: expected 1 fields, saw 25\\nSkipping line 7422: expected 1 fields, saw 25\\nSkipping line 7426: expected 1 fields, saw 25\\nSkipping line 7430: expected 1 fields, saw 25\\nSkipping line 7434: expected 1 fields, saw 26\\nSkipping line 7438: expected 1 fields, saw 26\\nSkipping line 7442: expected 1 fields, saw 25\\nSkipping line 7446: expected 1 fields, saw 26\\nSkipping line 7450: expected 1 fields, saw 26\\nSkipping line 7454: expected 1 fields, saw 25\\nSkipping line 7458: expected 1 fields, saw 25\\nSkipping line 7462: expected 1 fields, saw 25\\nSkipping line 7466: expected 1 fields, saw 26\\nSkipping line 7470: expected 1 fields, saw 25\\nSkipping line 7474: expected 1 fields, saw 26\\nSkipping line 7478: expected 1 fields, saw 25\\nSkipping line 7482: expected 1 fields, saw 25\\nSkipping line 7486: expected 1 fields, saw 25\\nSkipping line 7490: expected 1 fields, saw 26\\nSkipping line 7494: expected 1 fields, saw 25\\nSkipping line 7498: expected 1 fields, saw 26\\nSkipping line 7502: expected 1 fields, saw 25\\nSkipping line 7506: expected 1 fields, saw 26\\nSkipping line 7510: expected 1 fields, saw 26\\nSkipping line 7514: expected 1 fields, saw 26\\nSkipping line 7518: expected 1 fields, saw 26\\nSkipping line 7522: expected 1 fields, saw 25\\nSkipping line 7526: expected 1 fields, saw 26\\nSkipping line 7530: expected 1 fields, saw 25\\nSkipping line 7534: expected 1 fields, saw 25\\nSkipping line 7538: expected 1 fields, saw 26\\nSkipping line 7542: expected 1 fields, saw 25\\nSkipping line 7546: expected 1 fields, saw 25\\nSkipping line 7550: expected 1 fields, saw 26\\nSkipping line 7554: expected 1 fields, saw 25\\nSkipping line 7558: expected 1 fields, saw 26\\nSkipping line 7562: expected 1 fields, saw 25\\nSkipping line 7566: expected 1 fields, saw 25\\nSkipping line 7570: expected 1 fields, saw 25\\nSkipping line 7574: expected 1 fields, saw 27\\nSkipping line 7578: expected 1 fields, saw 26\\nSkipping line 7582: expected 1 fields, saw 25\\nSkipping line 7586: expected 1 fields, saw 26\\nSkipping line 7590: expected 1 fields, saw 25\\nSkipping line 7594: expected 1 fields, saw 25\\nSkipping line 7598: expected 1 fields, saw 26\\nSkipping line 7602: expected 1 fields, saw 25\\nSkipping line 7606: expected 1 fields, saw 26\\nSkipping line 7610: expected 1 fields, saw 25\\nSkipping line 7614: expected 1 fields, saw 26\\nSkipping line 7618: expected 1 fields, saw 26\\nSkipping line 7622: expected 1 fields, saw 25\\nSkipping line 7626: expected 1 fields, saw 25\\nSkipping line 7630: expected 1 fields, saw 27\\nSkipping line 7634: expected 1 fields, saw 26\\nSkipping line 7638: expected 1 fields, saw 26\\nSkipping line 7642: expected 1 fields, saw 25\\nSkipping line 7646: expected 1 fields, saw 26\\nSkipping line 7650: expected 1 fields, saw 26\\nSkipping line 7654: expected 1 fields, saw 27\\nSkipping line 7658: expected 1 fields, saw 26\\nSkipping line 7662: expected 1 fields, saw 25\\nSkipping line 7666: expected 1 fields, saw 25\\nSkipping line 7670: expected 1 fields, saw 25\\nSkipping line 7674: expected 1 fields, saw 26\\nSkipping line 7678: expected 1 fields, saw 25\\nSkipping line 7682: expected 1 fields, saw 26\\nSkipping line 7686: expected 1 fields, saw 26\\nSkipping line 7690: expected 1 fields, saw 25\\nSkipping line 7694: expected 1 fields, saw 25\\nSkipping line 7698: expected 1 fields, saw 25\\nSkipping line 7702: expected 1 fields, saw 26\\nSkipping line 7706: expected 1 fields, saw 26\\nSkipping line 7710: expected 1 fields, saw 25\\nSkipping line 7714: expected 1 fields, saw 25\\nSkipping line 7718: expected 1 fields, saw 25\\nSkipping line 7722: expected 1 fields, saw 25\\nSkipping line 7726: expected 1 fields, saw 25\\nSkipping line 7730: expected 1 fields, saw 26\\nSkipping line 7734: expected 1 fields, saw 26\\nSkipping line 7738: expected 1 fields, saw 27\\nSkipping line 7742: expected 1 fields, saw 27\\nSkipping line 7746: expected 1 fields, saw 25\\nSkipping line 7750: expected 1 fields, saw 25\\nSkipping line 7754: expected 1 fields, saw 25\\nSkipping line 7758: expected 1 fields, saw 26\\nSkipping line 7762: expected 1 fields, saw 25\\nSkipping line 7766: expected 1 fields, saw 25\\nSkipping line 7770: expected 1 fields, saw 26\\nSkipping line 7774: expected 1 fields, saw 26\\nSkipping line 7778: expected 1 fields, saw 25\\nSkipping line 7782: expected 1 fields, saw 25\\nSkipping line 7786: expected 1 fields, saw 26\\nSkipping line 7790: expected 1 fields, saw 26\\nSkipping line 7794: expected 1 fields, saw 25\\nSkipping line 7798: expected 1 fields, saw 26\\nSkipping line 7802: expected 1 fields, saw 25\\nSkipping line 7806: expected 1 fields, saw 26\\nSkipping line 7810: expected 1 fields, saw 25\\nSkipping line 7814: expected 1 fields, saw 25\\nSkipping line 7818: expected 1 fields, saw 25\\nSkipping line 7822: expected 1 fields, saw 25\\nSkipping line 7826: expected 1 fields, saw 26\\nSkipping line 7830: expected 1 fields, saw 26\\nSkipping line 7834: expected 1 fields, saw 25\\nSkipping line 7838: expected 1 fields, saw 27\\nSkipping line 7842: expected 1 fields, saw 26\\nSkipping line 7846: expected 1 fields, saw 25\\nSkipping line 7850: expected 1 fields, saw 25\\nSkipping line 7854: expected 1 fields, saw 25\\nSkipping line 7858: expected 1 fields, saw 26\\nSkipping line 7862: expected 1 fields, saw 25\\nSkipping line 7866: expected 1 fields, saw 26\\nSkipping line 7870: expected 1 fields, saw 25\\nSkipping line 7874: expected 1 fields, saw 25\\nSkipping line 7878: expected 1 fields, saw 25\\nSkipping line 7882: expected 1 fields, saw 26\\nSkipping line 7886: expected 1 fields, saw 26\\nSkipping line 7890: expected 1 fields, saw 26\\nSkipping line 7894: expected 1 fields, saw 25\\nSkipping line 7898: expected 1 fields, saw 26\\nSkipping line 7902: expected 1 fields, saw 25\\nSkipping line 7906: expected 1 fields, saw 25\\nSkipping line 7910: expected 1 fields, saw 27\\nSkipping line 7914: expected 1 fields, saw 26\\nSkipping line 7918: expected 1 fields, saw 25\\nSkipping line 7922: expected 1 fields, saw 26\\nSkipping line 7926: expected 1 fields, saw 25\\nSkipping line 7930: expected 1 fields, saw 26\\nSkipping line 7934: expected 1 fields, saw 25\\nSkipping line 7938: expected 1 fields, saw 26\\nSkipping line 7942: expected 1 fields, saw 27\\nSkipping line 7946: expected 1 fields, saw 25\\nSkipping line 7950: expected 1 fields, saw 25\\nSkipping line 7954: expected 1 fields, saw 25\\nSkipping line 7958: expected 1 fields, saw 25\\nSkipping line 7962: expected 1 fields, saw 25\\nSkipping line 7966: expected 1 fields, saw 26\\nSkipping line 7970: expected 1 fields, saw 25\\nSkipping line 7974: expected 1 fields, saw 26\\nSkipping line 7978: expected 1 fields, saw 26\\nSkipping line 7982: expected 1 fields, saw 26\\nSkipping line 7986: expected 1 fields, saw 25\\nSkipping line 7990: expected 1 fields, saw 26\\nSkipping line 7994: expected 1 fields, saw 26\\nSkipping line 7998: expected 1 fields, saw 25\\nSkipping line 8002: expected 1 fields, saw 25\\nSkipping line 8006: expected 1 fields, saw 25\\nSkipping line 8010: expected 1 fields, saw 26\\nSkipping line 8014: expected 1 fields, saw 26\\nSkipping line 8018: expected 1 fields, saw 25\\nSkipping line 8022: expected 1 fields, saw 25\\nSkipping line 8026: expected 1 fields, saw 25\\nSkipping line 8030: expected 1 fields, saw 25\\nSkipping line 8034: expected 1 fields, saw 25\\nSkipping line 8038: expected 1 fields, saw 26\\nSkipping line 8042: expected 1 fields, saw 26\\nSkipping line 8046: expected 1 fields, saw 27\\nSkipping line 8050: expected 1 fields, saw 27\\nSkipping line 8054: expected 1 fields, saw 26\\nSkipping line 8058: expected 1 fields, saw 26\\nSkipping line 8062: expected 1 fields, saw 25\\nSkipping line 8066: expected 1 fields, saw 26\\nSkipping line 8070: expected 1 fields, saw 26\\nSkipping line 8074: expected 1 fields, saw 25\\nSkipping line 8078: expected 1 fields, saw 25\\nSkipping line 8082: expected 1 fields, saw 26\\nSkipping line 8086: expected 1 fields, saw 26\\nSkipping line 8090: expected 1 fields, saw 25\\nSkipping line 8094: expected 1 fields, saw 25\\nSkipping line 8098: expected 1 fields, saw 26\\nSkipping line 8102: expected 1 fields, saw 26\\nSkipping line 8106: expected 1 fields, saw 25\\nSkipping line 8110: expected 1 fields, saw 25\\nSkipping line 8114: expected 1 fields, saw 27\\nSkipping line 8118: expected 1 fields, saw 27\\nSkipping line 8122: expected 1 fields, saw 25\\nSkipping line 8126: expected 1 fields, saw 26\\nSkipping line 8130: expected 1 fields, saw 27\\nSkipping line 8134: expected 1 fields, saw 26\\nSkipping line 8138: expected 1 fields, saw 27\\nSkipping line 8142: expected 1 fields, saw 27\\nSkipping line 8146: expected 1 fields, saw 25\\nSkipping line 8150: expected 1 fields, saw 25\\nSkipping line 8154: expected 1 fields, saw 25\\nSkipping line 8158: expected 1 fields, saw 26\\nSkipping line 8162: expected 1 fields, saw 25\\nSkipping line 8166: expected 1 fields, saw 25\\nSkipping line 8170: expected 1 fields, saw 25\\nSkipping line 8174: expected 1 fields, saw 25\\nSkipping line 8178: expected 1 fields, saw 25\\nSkipping line 8182: expected 1 fields, saw 25\\nSkipping line 8186: expected 1 fields, saw 25\\nSkipping line 8190: expected 1 fields, saw 26\\nSkipping line 8194: expected 1 fields, saw 27\\nSkipping line 8198: expected 1 fields, saw 26\\nSkipping line 8202: expected 1 fields, saw 25\\nSkipping line 8206: expected 1 fields, saw 25\\nSkipping line 8210: expected 1 fields, saw 26\\nSkipping line 8214: expected 1 fields, saw 26\\nSkipping line 8218: expected 1 fields, saw 25\\nSkipping line 8222: expected 1 fields, saw 25\\nSkipping line 8226: expected 1 fields, saw 25\\nSkipping line 8230: expected 1 fields, saw 25\\nSkipping line 8234: expected 1 fields, saw 25\\nSkipping line 8238: expected 1 fields, saw 26\\nSkipping line 8242: expected 1 fields, saw 26\\nSkipping line 8246: expected 1 fields, saw 26\\nSkipping line 8250: expected 1 fields, saw 26\\nSkipping line 8254: expected 1 fields, saw 26\\nSkipping line 8258: expected 1 fields, saw 25\\nSkipping line 8262: expected 1 fields, saw 26\\nSkipping line 8266: expected 1 fields, saw 25\\nSkipping line 8270: expected 1 fields, saw 25\\nSkipping line 8274: expected 1 fields, saw 25\\nSkipping line 8278: expected 1 fields, saw 26\\nSkipping line 8282: expected 1 fields, saw 25\\nSkipping line 8286: expected 1 fields, saw 25\\nSkipping line 8290: expected 1 fields, saw 25\\nSkipping line 8294: expected 1 fields, saw 25\\nSkipping line 8298: expected 1 fields, saw 26\\nSkipping line 8302: expected 1 fields, saw 26\\nSkipping line 8306: expected 1 fields, saw 26\\nSkipping line 8310: expected 1 fields, saw 25\\nSkipping line 8314: expected 1 fields, saw 26\\nSkipping line 8318: expected 1 fields, saw 26\\nSkipping line 8322: expected 1 fields, saw 25\\nSkipping line 8326: expected 1 fields, saw 26\\nSkipping line 8330: expected 1 fields, saw 25\\nSkipping line 8334: expected 1 fields, saw 25\\nSkipping line 8338: expected 1 fields, saw 25\\nSkipping line 8342: expected 1 fields, saw 25\\nSkipping line 8346: expected 1 fields, saw 25\\nSkipping line 8350: expected 1 fields, saw 26\\nSkipping line 8354: expected 1 fields, saw 27\\nSkipping line 8358: expected 1 fields, saw 26\\nSkipping line 8362: expected 1 fields, saw 25\\nSkipping line 8366: expected 1 fields, saw 26\\nSkipping line 8370: expected 1 fields, saw 25\\nSkipping line 8374: expected 1 fields, saw 26\\nSkipping line 8378: expected 1 fields, saw 26\\nSkipping line 8382: expected 1 fields, saw 25\\nSkipping line 8386: expected 1 fields, saw 26\\nSkipping line 8390: expected 1 fields, saw 25\\nSkipping line 8394: expected 1 fields, saw 25\\nSkipping line 8398: expected 1 fields, saw 26\\nSkipping line 8402: expected 1 fields, saw 25\\nSkipping line 8406: expected 1 fields, saw 26\\nSkipping line 8410: expected 1 fields, saw 26\\nSkipping line 8414: expected 1 fields, saw 27\\nSkipping line 8418: expected 1 fields, saw 25\\nSkipping line 8422: expected 1 fields, saw 26\\nSkipping line 8426: expected 1 fields, saw 26\\nSkipping line 8430: expected 1 fields, saw 27\\nSkipping line 8434: expected 1 fields, saw 26\\nSkipping line 8438: expected 1 fields, saw 27\\nSkipping line 8442: expected 1 fields, saw 25\\nSkipping line 8446: expected 1 fields, saw 25\\nSkipping line 8450: expected 1 fields, saw 25\\nSkipping line 8454: expected 1 fields, saw 25\\nSkipping line 8458: expected 1 fields, saw 26\\nSkipping line 8462: expected 1 fields, saw 25\\nSkipping line 8466: expected 1 fields, saw 25\\nSkipping line 8470: expected 1 fields, saw 25\\nSkipping line 8474: expected 1 fields, saw 25\\nSkipping line 8478: expected 1 fields, saw 25\\nSkipping line 8482: expected 1 fields, saw 25\\nSkipping line 8486: expected 1 fields, saw 25\\nSkipping line 8490: expected 1 fields, saw 25\\nSkipping line 8494: expected 1 fields, saw 25\\nSkipping line 8498: expected 1 fields, saw 26\\nSkipping line 8502: expected 1 fields, saw 25\\nSkipping line 8506: expected 1 fields, saw 26\\nSkipping line 8510: expected 1 fields, saw 26\\nSkipping line 8514: expected 1 fields, saw 26\\nSkipping line 8518: expected 1 fields, saw 26\\nSkipping line 8522: expected 1 fields, saw 25\\nSkipping line 8526: expected 1 fields, saw 25\\nSkipping line 8530: expected 1 fields, saw 25\\nSkipping line 8534: expected 1 fields, saw 25\\nSkipping line 8538: expected 1 fields, saw 26\\nSkipping line 8542: expected 1 fields, saw 25\\nSkipping line 8546: expected 1 fields, saw 25\\nSkipping line 8550: expected 1 fields, saw 26\\nSkipping line 8554: expected 1 fields, saw 25\\nSkipping line 8558: expected 1 fields, saw 26\\nSkipping line 8562: expected 1 fields, saw 25\\nSkipping line 8566: expected 1 fields, saw 25\\nSkipping line 8570: expected 1 fields, saw 26\\nSkipping line 8574: expected 1 fields, saw 25\\nSkipping line 8578: expected 1 fields, saw 27\\nSkipping line 8582: expected 1 fields, saw 26\\nSkipping line 8586: expected 1 fields, saw 26\\nSkipping line 8590: expected 1 fields, saw 25\\nSkipping line 8594: expected 1 fields, saw 25\\nSkipping line 8598: expected 1 fields, saw 26\\nSkipping line 8602: expected 1 fields, saw 26\\nSkipping line 8606: expected 1 fields, saw 26\\nSkipping line 8610: expected 1 fields, saw 26\\nSkipping line 8614: expected 1 fields, saw 25\\nSkipping line 8618: expected 1 fields, saw 25\\nSkipping line 8622: expected 1 fields, saw 26\\nSkipping line 8626: expected 1 fields, saw 26\\nSkipping line 8630: expected 1 fields, saw 25\\nSkipping line 8634: expected 1 fields, saw 26\\nSkipping line 8638: expected 1 fields, saw 25\\nSkipping line 8642: expected 1 fields, saw 25\\nSkipping line 8646: expected 1 fields, saw 25\\nSkipping line 8650: expected 1 fields, saw 25\\nSkipping line 8654: expected 1 fields, saw 25\\nSkipping line 8658: expected 1 fields, saw 26\\nSkipping line 8662: expected 1 fields, saw 27\\nSkipping line 8666: expected 1 fields, saw 26\\nSkipping line 8670: expected 1 fields, saw 25\\nSkipping line 8674: expected 1 fields, saw 26\\nSkipping line 8678: expected 1 fields, saw 25\\nSkipping line 8682: expected 1 fields, saw 26\\nSkipping line 8686: expected 1 fields, saw 26\\nSkipping line 8690: expected 1 fields, saw 26\\nSkipping line 8694: expected 1 fields, saw 25\\nSkipping line 8698: expected 1 fields, saw 25\\nSkipping line 8702: expected 1 fields, saw 26\\nSkipping line 8706: expected 1 fields, saw 25\\nSkipping line 8710: expected 1 fields, saw 26\\nSkipping line 8714: expected 1 fields, saw 25\\nSkipping line 8718: expected 1 fields, saw 26\\nSkipping line 8722: expected 1 fields, saw 25\\nSkipping line 8726: expected 1 fields, saw 25\\nSkipping line 8730: expected 1 fields, saw 26\\nSkipping line 8734: expected 1 fields, saw 25\\nSkipping line 8738: expected 1 fields, saw 26\\nSkipping line 8742: expected 1 fields, saw 25\\nSkipping line 8746: expected 1 fields, saw 26\\nSkipping line 8750: expected 1 fields, saw 26\\nSkipping line 8754: expected 1 fields, saw 26\\nSkipping line 8758: expected 1 fields, saw 26\\nSkipping line 8762: expected 1 fields, saw 26\\nSkipping line 8766: expected 1 fields, saw 25\\nSkipping line 8770: expected 1 fields, saw 25\\nSkipping line 8774: expected 1 fields, saw 26\\nSkipping line 8778: expected 1 fields, saw 27\\nSkipping line 8782: expected 1 fields, saw 26\\nSkipping line 8786: expected 1 fields, saw 25\\nSkipping line 8790: expected 1 fields, saw 25\\nSkipping line 8794: expected 1 fields, saw 26\\nSkipping line 8798: expected 1 fields, saw 26\\nSkipping line 8802: expected 1 fields, saw 25\\nSkipping line 8806: expected 1 fields, saw 26\\nSkipping line 8810: expected 1 fields, saw 25\\nSkipping line 8814: expected 1 fields, saw 26\\nSkipping line 8818: expected 1 fields, saw 25\\nSkipping line 8822: expected 1 fields, saw 25\\nSkipping line 8826: expected 1 fields, saw 25\\nSkipping line 8830: expected 1 fields, saw 26\\nSkipping line 8834: expected 1 fields, saw 25\\nSkipping line 8838: expected 1 fields, saw 25\\nSkipping line 8842: expected 1 fields, saw 25\\nSkipping line 8846: expected 1 fields, saw 26\\nSkipping line 8850: expected 1 fields, saw 25\\nSkipping line 8854: expected 1 fields, saw 26\\nSkipping line 8858: expected 1 fields, saw 27\\nSkipping line 8862: expected 1 fields, saw 25\\nSkipping line 8866: expected 1 fields, saw 25\\nSkipping line 8870: expected 1 fields, saw 25\\nSkipping line 8874: expected 1 fields, saw 25\\nSkipping line 8878: expected 1 fields, saw 25\\nSkipping line 8882: expected 1 fields, saw 26\\nSkipping line 8886: expected 1 fields, saw 25\\nSkipping line 8890: expected 1 fields, saw 26\\nSkipping line 8894: expected 1 fields, saw 26\\nSkipping line 8898: expected 1 fields, saw 26\\nSkipping line 8902: expected 1 fields, saw 26\\nSkipping line 8906: expected 1 fields, saw 26\\nSkipping line 8910: expected 1 fields, saw 26\\nSkipping line 8914: expected 1 fields, saw 25\\nSkipping line 8918: expected 1 fields, saw 25\\nSkipping line 8922: expected 1 fields, saw 25\\nSkipping line 8926: expected 1 fields, saw 26\\nSkipping line 8930: expected 1 fields, saw 25\\nSkipping line 8934: expected 1 fields, saw 26\\nSkipping line 8938: expected 1 fields, saw 25\\nSkipping line 8942: expected 1 fields, saw 25\\nSkipping line 8946: expected 1 fields, saw 25\\nSkipping line 8950: expected 1 fields, saw 25\\nSkipping line 8954: expected 1 fields, saw 25\\nSkipping line 8958: expected 1 fields, saw 26\\nSkipping line 8962: expected 1 fields, saw 27\\nSkipping line 8966: expected 1 fields, saw 26\\nSkipping line 8970: expected 1 fields, saw 25\\nSkipping line 8974: expected 1 fields, saw 26\\nSkipping line 8978: expected 1 fields, saw 25\\nSkipping line 8982: expected 1 fields, saw 26\\nSkipping line 8986: expected 1 fields, saw 26\\nSkipping line 8990: expected 1 fields, saw 25\\nSkipping line 8994: expected 1 fields, saw 26\\nSkipping line 8998: expected 1 fields, saw 25\\nSkipping line 9002: expected 1 fields, saw 25\\nSkipping line 9006: expected 1 fields, saw 26\\nSkipping line 9010: expected 1 fields, saw 25\\nSkipping line 9014: expected 1 fields, saw 26\\nSkipping line 9018: expected 1 fields, saw 25\\nSkipping line 9022: expected 1 fields, saw 26\\nSkipping line 9026: expected 1 fields, saw 25\\nSkipping line 9030: expected 1 fields, saw 25\\nSkipping line 9034: expected 1 fields, saw 25\\nSkipping line 9038: expected 1 fields, saw 26\\nSkipping line 9042: expected 1 fields, saw 26\\nSkipping line 9046: expected 1 fields, saw 26\\nSkipping line 9050: expected 1 fields, saw 26\\nSkipping line 9054: expected 1 fields, saw 26\\nSkipping line 9058: expected 1 fields, saw 26\\nSkipping line 9062: expected 1 fields, saw 25\\nSkipping line 9066: expected 1 fields, saw 26\\nSkipping line 9070: expected 1 fields, saw 25\\nSkipping line 9074: expected 1 fields, saw 25\\nSkipping line 9078: expected 1 fields, saw 26\\nSkipping line 9082: expected 1 fields, saw 26\\nSkipping line 9086: expected 1 fields, saw 26\\nSkipping line 9090: expected 1 fields, saw 26\\nSkipping line 9094: expected 1 fields, saw 25\\nSkipping line 9098: expected 1 fields, saw 26\\nSkipping line 9102: expected 1 fields, saw 26\\nSkipping line 9106: expected 1 fields, saw 26\\nSkipping line 9110: expected 1 fields, saw 26\\nSkipping line 9114: expected 1 fields, saw 25\\nSkipping line 9118: expected 1 fields, saw 25\\nSkipping line 9122: expected 1 fields, saw 25\\nSkipping line 9126: expected 1 fields, saw 25\\nSkipping line 9130: expected 1 fields, saw 25\\nSkipping line 9134: expected 1 fields, saw 25\\nSkipping line 9138: expected 1 fields, saw 26\\nSkipping line 9142: expected 1 fields, saw 25\\nSkipping line 9146: expected 1 fields, saw 25\\nSkipping line 9150: expected 1 fields, saw 26\\nSkipping line 9154: expected 1 fields, saw 25\\nSkipping line 9158: expected 1 fields, saw 26\\nSkipping line 9162: expected 1 fields, saw 25\\nSkipping line 9166: expected 1 fields, saw 25\\nSkipping line 9170: expected 1 fields, saw 26\\nSkipping line 9174: expected 1 fields, saw 25\\nSkipping line 9178: expected 1 fields, saw 27\\nSkipping line 9182: expected 1 fields, saw 26\\nSkipping line 9186: expected 1 fields, saw 26\\nSkipping line 9190: expected 1 fields, saw 25\\nSkipping line 9194: expected 1 fields, saw 25\\nSkipping line 9198: expected 1 fields, saw 26\\nSkipping line 9202: expected 1 fields, saw 26\\nSkipping line 9206: expected 1 fields, saw 26\\nSkipping line 9210: expected 1 fields, saw 26\\nSkipping line 9214: expected 1 fields, saw 26\\nSkipping line 9218: expected 1 fields, saw 25\\nSkipping line 9222: expected 1 fields, saw 25\\nSkipping line 9226: expected 1 fields, saw 26\\nSkipping line 9230: expected 1 fields, saw 26\\nSkipping line 9234: expected 1 fields, saw 25\\nSkipping line 9238: expected 1 fields, saw 26\\nSkipping line 9242: expected 1 fields, saw 25\\nSkipping line 9246: expected 1 fields, saw 25\\nSkipping line 9250: expected 1 fields, saw 25\\nSkipping line 9254: expected 1 fields, saw 25\\nSkipping line 9258: expected 1 fields, saw 25\\nSkipping line 9262: expected 1 fields, saw 26\\nSkipping line 9266: expected 1 fields, saw 25\\nSkipping line 9270: expected 1 fields, saw 26\\nSkipping line 9274: expected 1 fields, saw 25\\nSkipping line 9278: expected 1 fields, saw 26\\nSkipping line 9282: expected 1 fields, saw 25\\nSkipping line 9286: expected 1 fields, saw 27\\nSkipping line 9290: expected 1 fields, saw 26\\nSkipping line 9294: expected 1 fields, saw 25\\nSkipping line 9298: expected 1 fields, saw 26\\nSkipping line 9302: expected 1 fields, saw 25\\nSkipping line 9306: expected 1 fields, saw 25\\nSkipping line 9310: expected 1 fields, saw 26\\nSkipping line 9314: expected 1 fields, saw 25\\nSkipping line 9318: expected 1 fields, saw 26\\nSkipping line 9322: expected 1 fields, saw 25\\nSkipping line 9326: expected 1 fields, saw 25\\nSkipping line 9330: expected 1 fields, saw 26\\nSkipping line 9334: expected 1 fields, saw 25\\nSkipping line 9338: expected 1 fields, saw 26\\nSkipping line 9342: expected 1 fields, saw 25\\nSkipping line 9346: expected 1 fields, saw 25\\nSkipping line 9350: expected 1 fields, saw 26\\nSkipping line 9354: expected 1 fields, saw 26\\nSkipping line 9358: expected 1 fields, saw 26\\nSkipping line 9362: expected 1 fields, saw 25\\nSkipping line 9366: expected 1 fields, saw 25\\nSkipping line 9370: expected 1 fields, saw 26\\nSkipping line 9374: expected 1 fields, saw 25\\nSkipping line 9378: expected 1 fields, saw 26\\nSkipping line 9382: expected 1 fields, saw 26\\nSkipping line 9386: expected 1 fields, saw 26\\nSkipping line 9390: expected 1 fields, saw 25\\nSkipping line 9394: expected 1 fields, saw 26\\nSkipping line 9398: expected 1 fields, saw 26\\nSkipping line 9402: expected 1 fields, saw 26\\nSkipping line 9406: expected 1 fields, saw 26\\nSkipping line 9410: expected 1 fields, saw 25\\nSkipping line 9414: expected 1 fields, saw 25\\nSkipping line 9418: expected 1 fields, saw 25\\nSkipping line 9422: expected 1 fields, saw 25\\nSkipping line 9426: expected 1 fields, saw 25\\nSkipping line 9430: expected 1 fields, saw 26\\nSkipping line 9434: expected 1 fields, saw 25\\nSkipping line 9438: expected 1 fields, saw 25\\nSkipping line 9442: expected 1 fields, saw 26\\nSkipping line 9446: expected 1 fields, saw 25\\nSkipping line 9450: expected 1 fields, saw 26\\nSkipping line 9454: expected 1 fields, saw 25\\nSkipping line 9458: expected 1 fields, saw 26\\nSkipping line 9462: expected 1 fields, saw 26\\nSkipping line 9466: expected 1 fields, saw 26\\nSkipping line 9470: expected 1 fields, saw 26\\nSkipping line 9474: expected 1 fields, saw 26\\nSkipping line 9478: expected 1 fields, saw 25\\nSkipping line 9482: expected 1 fields, saw 25\\nSkipping line 9486: expected 1 fields, saw 26\\nSkipping line 9490: expected 1 fields, saw 27\\nSkipping line 9494: expected 1 fields, saw 26\\nSkipping line 9498: expected 1 fields, saw 25\\nSkipping line 9502: expected 1 fields, saw 25\\nSkipping line 9506: expected 1 fields, saw 26\\nSkipping line 9510: expected 1 fields, saw 26\\nSkipping line 9514: expected 1 fields, saw 26\\nSkipping line 9518: expected 1 fields, saw 26\\nSkipping line 9522: expected 1 fields, saw 25\\nSkipping line 9526: expected 1 fields, saw 26\\nSkipping line 9530: expected 1 fields, saw 25\\nSkipping line 9534: expected 1 fields, saw 25\\nSkipping line 9538: expected 1 fields, saw 25\\nSkipping line 9542: expected 1 fields, saw 25\\nSkipping line 9546: expected 1 fields, saw 25\\nSkipping line 9550: expected 1 fields, saw 26\\nSkipping line 9554: expected 1 fields, saw 25\\nSkipping line 9558: expected 1 fields, saw 25\\nSkipping line 9562: expected 1 fields, saw 25\\nSkipping line 9566: expected 1 fields, saw 27\\nSkipping line 9570: expected 1 fields, saw 25\\nSkipping line 9574: expected 1 fields, saw 26\\nSkipping line 9578: expected 1 fields, saw 25\\nSkipping line 9582: expected 1 fields, saw 26\\nSkipping line 9586: expected 1 fields, saw 26\\nSkipping line 9590: expected 1 fields, saw 27\\nSkipping line 9594: expected 1 fields, saw 26\\nSkipping line 9598: expected 1 fields, saw 25\\nSkipping line 9602: expected 1 fields, saw 25\\nSkipping line 9606: expected 1 fields, saw 25\\nSkipping line 9610: expected 1 fields, saw 26\\nSkipping line 9614: expected 1 fields, saw 26\\nSkipping line 9618: expected 1 fields, saw 26\\nSkipping line 9622: expected 1 fields, saw 26\\nSkipping line 9626: expected 1 fields, saw 26\\nSkipping line 9630: expected 1 fields, saw 25\\nSkipping line 9634: expected 1 fields, saw 25\\nSkipping line 9638: expected 1 fields, saw 25\\nSkipping line 9642: expected 1 fields, saw 25\\nSkipping line 9646: expected 1 fields, saw 26\\nSkipping line 9650: expected 1 fields, saw 25\\nSkipping line 9654: expected 1 fields, saw 25\\nSkipping line 9658: expected 1 fields, saw 25\\nSkipping line 9662: expected 1 fields, saw 25\\nSkipping line 9666: expected 1 fields, saw 25\\nSkipping line 9670: expected 1 fields, saw 26\\nSkipping line 9674: expected 1 fields, saw 25\\nSkipping line 9678: expected 1 fields, saw 27\\nSkipping line 9682: expected 1 fields, saw 27\\nSkipping line 9686: expected 1 fields, saw 25\\nSkipping line 9690: expected 1 fields, saw 25\\nSkipping line 9694: expected 1 fields, saw 25\\nSkipping line 9698: expected 1 fields, saw 27\\nSkipping line 9702: expected 1 fields, saw 25\\nSkipping line 9706: expected 1 fields, saw 26\\nSkipping line 9710: expected 1 fields, saw 25\\nSkipping line 9714: expected 1 fields, saw 25\\nSkipping line 9718: expected 1 fields, saw 26\\nSkipping line 9722: expected 1 fields, saw 26\\nSkipping line 9726: expected 1 fields, saw 26\\nSkipping line 9730: expected 1 fields, saw 26\\nSkipping line 9734: expected 1 fields, saw 25\\nSkipping line 9738: expected 1 fields, saw 25\\nSkipping line 9742: expected 1 fields, saw 26\\nSkipping line 9746: expected 1 fields, saw 26\\nSkipping line 9750: expected 1 fields, saw 27\\nSkipping line 9754: expected 1 fields, saw 25\\nSkipping line 9758: expected 1 fields, saw 27\\nSkipping line 9762: expected 1 fields, saw 25\\nSkipping line 9766: expected 1 fields, saw 25\\nSkipping line 9770: expected 1 fields, saw 26\\nSkipping line 9774: expected 1 fields, saw 26\\nSkipping line 9778: expected 1 fields, saw 26\\nSkipping line 9782: expected 1 fields, saw 25\\nSkipping line 9786: expected 1 fields, saw 25\\nSkipping line 9790: expected 1 fields, saw 25\\nSkipping line 9794: expected 1 fields, saw 25\\nSkipping line 9798: expected 1 fields, saw 25\\nSkipping line 9802: expected 1 fields, saw 25\\nSkipping line 9806: expected 1 fields, saw 27\\nSkipping line 9810: expected 1 fields, saw 25\\nSkipping line 9814: expected 1 fields, saw 25\\nSkipping line 9818: expected 1 fields, saw 25\\nSkipping line 9822: expected 1 fields, saw 26\\nSkipping line 9826: expected 1 fields, saw 26\\nSkipping line 9830: expected 1 fields, saw 26\\nSkipping line 9834: expected 1 fields, saw 25\\nSkipping line 9838: expected 1 fields, saw 25\\nSkipping line 9842: expected 1 fields, saw 27\\nSkipping line 9846: expected 1 fields, saw 26\\nSkipping line 9850: expected 1 fields, saw 25\\nSkipping line 9854: expected 1 fields, saw 25\\nSkipping line 9858: expected 1 fields, saw 25\\nSkipping line 9862: expected 1 fields, saw 26\\nSkipping line 9866: expected 1 fields, saw 26\\nSkipping line 9870: expected 1 fields, saw 25\\nSkipping line 9874: expected 1 fields, saw 25\\nSkipping line 9878: expected 1 fields, saw 25\\nSkipping line 9882: expected 1 fields, saw 26\\nSkipping line 9886: expected 1 fields, saw 25\\nSkipping line 9890: expected 1 fields, saw 25\\nSkipping line 9894: expected 1 fields, saw 25\\nSkipping line 9898: expected 1 fields, saw 25\\nSkipping line 9902: expected 1 fields, saw 26\\nSkipping line 9906: expected 1 fields, saw 25\\nSkipping line 9910: expected 1 fields, saw 25\\nSkipping line 9914: expected 1 fields, saw 25\\nSkipping line 9918: expected 1 fields, saw 27\\nSkipping line 9922: expected 1 fields, saw 26\\nSkipping line 9926: expected 1 fields, saw 25\\nSkipping line 9930: expected 1 fields, saw 25\\nSkipping line 9934: expected 1 fields, saw 25\\nSkipping line 9938: expected 1 fields, saw 25\\nSkipping line 9942: expected 1 fields, saw 26\\nSkipping line 9946: expected 1 fields, saw 26\\nSkipping line 9950: expected 1 fields, saw 25\\nSkipping line 9954: expected 1 fields, saw 25\\nSkipping line 9958: expected 1 fields, saw 27\\nSkipping line 9962: expected 1 fields, saw 26\\nSkipping line 9966: expected 1 fields, saw 26\\nSkipping line 9970: expected 1 fields, saw 25\\nSkipping line 9974: expected 1 fields, saw 25\\nSkipping line 9978: expected 1 fields, saw 26\\nSkipping line 9982: expected 1 fields, saw 27\\nSkipping line 9986: expected 1 fields, saw 26\\nSkipping line 9990: expected 1 fields, saw 25\\nSkipping line 9994: expected 1 fields, saw 25\\nSkipping line 9998: expected 1 fields, saw 25\\nSkipping line 10002: expected 1 fields, saw 26\\nSkipping line 10006: expected 1 fields, saw 25\\nSkipping line 10010: expected 1 fields, saw 26\\nSkipping line 10014: expected 1 fields, saw 26\\nSkipping line 10018: expected 1 fields, saw 26\\nSkipping line 10022: expected 1 fields, saw 25\\nSkipping line 10026: expected 1 fields, saw 25\\nSkipping line 10030: expected 1 fields, saw 25\\nSkipping line 10034: expected 1 fields, saw 25\\nSkipping line 10038: expected 1 fields, saw 26\\nSkipping line 10042: expected 1 fields, saw 25\\nSkipping line 10046: expected 1 fields, saw 25\\nSkipping line 10050: expected 1 fields, saw 25\\nSkipping line 10054: expected 1 fields, saw 26\\nSkipping line 10058: expected 1 fields, saw 26\\nSkipping line 10062: expected 1 fields, saw 26\\nSkipping line 10066: expected 1 fields, saw 26\\nSkipping line 10070: expected 1 fields, saw 26\\nSkipping line 10074: expected 1 fields, saw 25\\nSkipping line 10078: expected 1 fields, saw 26\\nSkipping line 10082: expected 1 fields, saw 25\\nSkipping line 10086: expected 1 fields, saw 25\\nSkipping line 10090: expected 1 fields, saw 26\\nSkipping line 10094: expected 1 fields, saw 26\\nSkipping line 10098: expected 1 fields, saw 26\\nSkipping line 10102: expected 1 fields, saw 25\\nSkipping line 10106: expected 1 fields, saw 25\\nSkipping line 10110: expected 1 fields, saw 25\\nSkipping line 10114: expected 1 fields, saw 26\\nSkipping line 10118: expected 1 fields, saw 26\\nSkipping line 10122: expected 1 fields, saw 26\\nSkipping line 10126: expected 1 fields, saw 25\\nSkipping line 10130: expected 1 fields, saw 25\\nSkipping line 10134: expected 1 fields, saw 27\\nSkipping line 10138: expected 1 fields, saw 27\\nSkipping line 10142: expected 1 fields, saw 25\\nSkipping line 10146: expected 1 fields, saw 26\\nSkipping line 10150: expected 1 fields, saw 25\\nSkipping line 10154: expected 1 fields, saw 26\\nSkipping line 10158: expected 1 fields, saw 27\\nSkipping line 10162: expected 1 fields, saw 27\\nSkipping line 10166: expected 1 fields, saw 25\\nSkipping line 10170: expected 1 fields, saw 25\\nSkipping line 10174: expected 1 fields, saw 25\\nSkipping line 10178: expected 1 fields, saw 25\\nSkipping line 10182: expected 1 fields, saw 25\\nSkipping line 10186: expected 1 fields, saw 26\\nSkipping line 10190: expected 1 fields, saw 25\\nSkipping line 10194: expected 1 fields, saw 25\\nSkipping line 10198: expected 1 fields, saw 25\\nSkipping line 10202: expected 1 fields, saw 25\\nSkipping line 10206: expected 1 fields, saw 25\\nSkipping line 10210: expected 1 fields, saw 25\\nSkipping line 10214: expected 1 fields, saw 27\\nSkipping line 10218: expected 1 fields, saw 26\\nSkipping line 10222: expected 1 fields, saw 25\\nSkipping line 10226: expected 1 fields, saw 25\\nSkipping line 10230: expected 1 fields, saw 25\\nSkipping line 10234: expected 1 fields, saw 26\\nSkipping line 10238: expected 1 fields, saw 25\\nSkipping line 10242: expected 1 fields, saw 26\\nSkipping line 10246: expected 1 fields, saw 26\\nSkipping line 10250: expected 1 fields, saw 25\\nSkipping line 10254: expected 1 fields, saw 25\\nSkipping line 10258: expected 1 fields, saw 26\\nSkipping line 10262: expected 1 fields, saw 27\\nSkipping line 10266: expected 1 fields, saw 26\\nSkipping line 10270: expected 1 fields, saw 26\\nSkipping line 10274: expected 1 fields, saw 25\\nSkipping line 10278: expected 1 fields, saw 25\\nSkipping line 10282: expected 1 fields, saw 26\\nSkipping line 10286: expected 1 fields, saw 25\\nSkipping line 10290: expected 1 fields, saw 26\\nSkipping line 10294: expected 1 fields, saw 25\\nSkipping line 10298: expected 1 fields, saw 25\\nSkipping line 10302: expected 1 fields, saw 25\\nSkipping line 10306: expected 1 fields, saw 26\\nSkipping line 10310: expected 1 fields, saw 25\\nSkipping line 10314: expected 1 fields, saw 26\\nSkipping line 10318: expected 1 fields, saw 26\\nSkipping line 10322: expected 1 fields, saw 27\\nSkipping line 10326: expected 1 fields, saw 25\\nSkipping line 10330: expected 1 fields, saw 25\\nSkipping line 10334: expected 1 fields, saw 25\\nSkipping line 10338: expected 1 fields, saw 26\\nSkipping line 10342: expected 1 fields, saw 25\\nSkipping line 10346: expected 1 fields, saw 25\\nSkipping line 10350: expected 1 fields, saw 25\\nSkipping line 10354: expected 1 fields, saw 26\\nSkipping line 10358: expected 1 fields, saw 26\\nSkipping line 10362: expected 1 fields, saw 26\\nSkipping line 10366: expected 1 fields, saw 26\\nSkipping line 10370: expected 1 fields, saw 26\\nSkipping line 10374: expected 1 fields, saw 25\\nSkipping line 10378: expected 1 fields, saw 26\\nSkipping line 10382: expected 1 fields, saw 25\\nSkipping line 10386: expected 1 fields, saw 25\\nSkipping line 10390: expected 1 fields, saw 25\\nSkipping line 10394: expected 1 fields, saw 26\\nSkipping line 10398: expected 1 fields, saw 26\\nSkipping line 10402: expected 1 fields, saw 25\\nSkipping line 10406: expected 1 fields, saw 25\\nSkipping line 10410: expected 1 fields, saw 25\\nSkipping line 10414: expected 1 fields, saw 26\\nSkipping line 10418: expected 1 fields, saw 26\\nSkipping line 10422: expected 1 fields, saw 26\\nSkipping line 10426: expected 1 fields, saw 25\\nSkipping line 10430: expected 1 fields, saw 26\\nSkipping line 10434: expected 1 fields, saw 26\\nSkipping line 10438: expected 1 fields, saw 27\\nSkipping line 10442: expected 1 fields, saw 25\\nSkipping line 10446: expected 1 fields, saw 26\\nSkipping line 10450: expected 1 fields, saw 26\\nSkipping line 10454: expected 1 fields, saw 27\\nSkipping line 10458: expected 1 fields, saw 26\\nSkipping line 10462: expected 1 fields, saw 27\\nSkipping line 10466: expected 1 fields, saw 25\\nSkipping line 10470: expected 1 fields, saw 25\\nSkipping line 10474: expected 1 fields, saw 25\\nSkipping line 10478: expected 1 fields, saw 25\\nSkipping line 10482: expected 1 fields, saw 26\\nSkipping line 10486: expected 1 fields, saw 25\\nSkipping line 10490: expected 1 fields, saw 25\\nSkipping line 10494: expected 1 fields, saw 25\\nSkipping line 10498: expected 1 fields, saw 25\\nSkipping line 10502: expected 1 fields, saw 25\\nSkipping line 10506: expected 1 fields, saw 25\\nSkipping line 10510: expected 1 fields, saw 25\\nSkipping line 10514: expected 1 fields, saw 25\\nSkipping line 10518: expected 1 fields, saw 25\\nSkipping line 10522: expected 1 fields, saw 25\\nSkipping line 10526: expected 1 fields, saw 25\\nSkipping line 10530: expected 1 fields, saw 26\\nSkipping line 10534: expected 1 fields, saw 26\\nSkipping line 10538: expected 1 fields, saw 26\\nSkipping line 10542: expected 1 fields, saw 26\\nSkipping line 10546: expected 1 fields, saw 26\\nSkipping line 10550: expected 1 fields, saw 26\\nSkipping line 10554: expected 1 fields, saw 25\\nSkipping line 10558: expected 1 fields, saw 25\\nSkipping line 10562: expected 1 fields, saw 26\\nSkipping line 10566: expected 1 fields, saw 27\\nSkipping line 10570: expected 1 fields, saw 25\\nSkipping line 10574: expected 1 fields, saw 27\\nSkipping line 10578: expected 1 fields, saw 25\\nSkipping line 10582: expected 1 fields, saw 25\\nSkipping line 10586: expected 1 fields, saw 26\\nSkipping line 10590: expected 1 fields, saw 26\\nSkipping line 10594: expected 1 fields, saw 26\\nSkipping line 10598: expected 1 fields, saw 25\\nSkipping line 10602: expected 1 fields, saw 25\\nSkipping line 10606: expected 1 fields, saw 25\\nSkipping line 10610: expected 1 fields, saw 26\\nSkipping line 10614: expected 1 fields, saw 25\\nSkipping line 10618: expected 1 fields, saw 25\\nSkipping line 10622: expected 1 fields, saw 27\\nSkipping line 10626: expected 1 fields, saw 26\\nSkipping line 10630: expected 1 fields, saw 25\\nSkipping line 10634: expected 1 fields, saw 25\\nSkipping line 10638: expected 1 fields, saw 26\\nSkipping line 10642: expected 1 fields, saw 26\\nSkipping line 10646: expected 1 fields, saw 25\\nSkipping line 10650: expected 1 fields, saw 25\\nSkipping line 10654: expected 1 fields, saw 25\\nSkipping line 10658: expected 1 fields, saw 27\\nSkipping line 10662: expected 1 fields, saw 25\\nSkipping line 10666: expected 1 fields, saw 27\\nSkipping line 10670: expected 1 fields, saw 25\\nSkipping line 10674: expected 1 fields, saw 26\\nSkipping line 10678: expected 1 fields, saw 26\\nSkipping line 10682: expected 1 fields, saw 27\\nSkipping line 10686: expected 1 fields, saw 25\\nSkipping line 10690: expected 1 fields, saw 25\\nSkipping line 10694: expected 1 fields, saw 25\\nSkipping line 10698: expected 1 fields, saw 25\\nSkipping line 10702: expected 1 fields, saw 26\\nSkipping line 10706: expected 1 fields, saw 26\\nSkipping line 10710: expected 1 fields, saw 25\\nSkipping line 10714: expected 1 fields, saw 25\\nSkipping line 10718: expected 1 fields, saw 26\\nSkipping line 10722: expected 1 fields, saw 25\\nSkipping line 10726: expected 1 fields, saw 25\\nSkipping line 10730: expected 1 fields, saw 25\\nSkipping line 10734: expected 1 fields, saw 27\\nSkipping line 10738: expected 1 fields, saw 26\\nSkipping line 10742: expected 1 fields, saw 26\\nSkipping line 10746: expected 1 fields, saw 25\\nSkipping line 10750: expected 1 fields, saw 25\\nSkipping line 10754: expected 1 fields, saw 26\\nSkipping line 10758: expected 1 fields, saw 25\\nSkipping line 10762: expected 1 fields, saw 26\\nSkipping line 10766: expected 1 fields, saw 26\\nSkipping line 10770: expected 1 fields, saw 26\\nSkipping line 10774: expected 1 fields, saw 25\\nSkipping line 10778: expected 1 fields, saw 27\\nSkipping line 10782: expected 1 fields, saw 26\\nSkipping line 10786: expected 1 fields, saw 26\\nSkipping line 10790: expected 1 fields, saw 25\\nSkipping line 10794: expected 1 fields, saw 26\\nSkipping line 10798: expected 1 fields, saw 26\\nSkipping line 10802: expected 1 fields, saw 27\\nSkipping line 10806: expected 1 fields, saw 26\\nSkipping line 10810: expected 1 fields, saw 25\\nSkipping line 10814: expected 1 fields, saw 25\\nSkipping line 10818: expected 1 fields, saw 25\\nSkipping line 10822: expected 1 fields, saw 26\\nSkipping line 10826: expected 1 fields, saw 25\\nSkipping line 10830: expected 1 fields, saw 26\\nSkipping line 10834: expected 1 fields, saw 26\\nSkipping line 10838: expected 1 fields, saw 25\\nSkipping line 10842: expected 1 fields, saw 25\\nSkipping line 10846: expected 1 fields, saw 25\\nSkipping line 10850: expected 1 fields, saw 25\\nSkipping line 10854: expected 1 fields, saw 25\\nSkipping line 10858: expected 1 fields, saw 25\\nSkipping line 10862: expected 1 fields, saw 25\\nSkipping line 10866: expected 1 fields, saw 25\\nSkipping line 10870: expected 1 fields, saw 25\\nSkipping line 10874: expected 1 fields, saw 26\\nSkipping line 10878: expected 1 fields, saw 26\\nSkipping line 10882: expected 1 fields, saw 26\\nSkipping line 10886: expected 1 fields, saw 26\\nSkipping line 10890: expected 1 fields, saw 26\\nSkipping line 10894: expected 1 fields, saw 25\\nSkipping line 10898: expected 1 fields, saw 26\\nSkipping line 10902: expected 1 fields, saw 25\\nSkipping line 10906: expected 1 fields, saw 25\\nSkipping line 10910: expected 1 fields, saw 25\\nSkipping line 10914: expected 1 fields, saw 26\\nSkipping line 10918: expected 1 fields, saw 25\\nSkipping line 10922: expected 1 fields, saw 25\\nSkipping line 10926: expected 1 fields, saw 25\\nSkipping line 10930: expected 1 fields, saw 25\\nSkipping line 10934: expected 1 fields, saw 26\\nSkipping line 10938: expected 1 fields, saw 25\\nSkipping line 10942: expected 1 fields, saw 26\\nSkipping line 10946: expected 1 fields, saw 25\\nSkipping line 10950: expected 1 fields, saw 26\\nSkipping line 10954: expected 1 fields, saw 25\\nSkipping line 10958: expected 1 fields, saw 26\\nSkipping line 10962: expected 1 fields, saw 26\\nSkipping line 10966: expected 1 fields, saw 25\\nSkipping line 10970: expected 1 fields, saw 26\\nSkipping line 10974: expected 1 fields, saw 25\\nSkipping line 10978: expected 1 fields, saw 25\\nSkipping line 10982: expected 1 fields, saw 27\\nSkipping line 10986: expected 1 fields, saw 26\\nSkipping line 10990: expected 1 fields, saw 26\\nSkipping line 10994: expected 1 fields, saw 25\\nSkipping line 10998: expected 1 fields, saw 26\\nSkipping line 11002: expected 1 fields, saw 26\\nSkipping line 11006: expected 1 fields, saw 27\\nSkipping line 11010: expected 1 fields, saw 26\\nSkipping line 11014: expected 1 fields, saw 25\\nSkipping line 11018: expected 1 fields, saw 25\\nSkipping line 11022: expected 1 fields, saw 25\\nSkipping line 11026: expected 1 fields, saw 26\\nSkipping line 11030: expected 1 fields, saw 25\\nSkipping line 11034: expected 1 fields, saw 26\\nSkipping line 11038: expected 1 fields, saw 26\\nSkipping line 11042: expected 1 fields, saw 25\\nSkipping line 11046: expected 1 fields, saw 25\\nSkipping line 11050: expected 1 fields, saw 25\\nSkipping line 11054: expected 1 fields, saw 25\\nSkipping line 11058: expected 1 fields, saw 26\\nSkipping line 11062: expected 1 fields, saw 25\\nSkipping line 11066: expected 1 fields, saw 25\\nSkipping line 11070: expected 1 fields, saw 26\\nSkipping line 11074: expected 1 fields, saw 26\\nSkipping line 11078: expected 1 fields, saw 27\\nSkipping line 11082: expected 1 fields, saw 25\\nSkipping line 11086: expected 1 fields, saw 27\\nSkipping line 11090: expected 1 fields, saw 25\\nSkipping line 11094: expected 1 fields, saw 25\\nSkipping line 11098: expected 1 fields, saw 26\\nSkipping line 11102: expected 1 fields, saw 26\\nSkipping line 11106: expected 1 fields, saw 26\\nSkipping line 11110: expected 1 fields, saw 25\\nSkipping line 11114: expected 1 fields, saw 25\\nSkipping line 11118: expected 1 fields, saw 25\\nSkipping line 11122: expected 1 fields, saw 25\\nSkipping line 11126: expected 1 fields, saw 25\\nSkipping line 11130: expected 1 fields, saw 25\\nSkipping line 11134: expected 1 fields, saw 25\\nSkipping line 11138: expected 1 fields, saw 27\\nSkipping line 11142: expected 1 fields, saw 26\\nSkipping line 11146: expected 1 fields, saw 25\\nSkipping line 11150: expected 1 fields, saw 25\\nSkipping line 11154: expected 1 fields, saw 26\\nSkipping line 11158: expected 1 fields, saw 25\\nSkipping line 11162: expected 1 fields, saw 26\\nSkipping line 11166: expected 1 fields, saw 26\\nSkipping line 11170: expected 1 fields, saw 26\\nSkipping line 11174: expected 1 fields, saw 27\\nSkipping line 11178: expected 1 fields, saw 25\\nSkipping line 11182: expected 1 fields, saw 25\\nSkipping line 11186: expected 1 fields, saw 26\\nSkipping line 11190: expected 1 fields, saw 27\\nSkipping line 11194: expected 1 fields, saw 25\\nSkipping line 11198: expected 1 fields, saw 25\\nSkipping line 11202: expected 1 fields, saw 25\\nSkipping line 11206: expected 1 fields, saw 27\\nSkipping line 11210: expected 1 fields, saw 26\\nSkipping line 11214: expected 1 fields, saw 26\\nSkipping line 11218: expected 1 fields, saw 26\\nSkipping line 11222: expected 1 fields, saw 25\\nSkipping line 11226: expected 1 fields, saw 25\\nSkipping line 11230: expected 1 fields, saw 25\\nSkipping line 11234: expected 1 fields, saw 26\\nSkipping line 11238: expected 1 fields, saw 25\\nSkipping line 11242: expected 1 fields, saw 25\\nSkipping line 11246: expected 1 fields, saw 25\\nSkipping line 11250: expected 1 fields, saw 26\\nSkipping line 11254: expected 1 fields, saw 25\\nSkipping line 11258: expected 1 fields, saw 26\\nSkipping line 11262: expected 1 fields, saw 26\\nSkipping line 11266: expected 1 fields, saw 25\\nSkipping line 11270: expected 1 fields, saw 25\\nSkipping line 11274: expected 1 fields, saw 25\\nSkipping line 11278: expected 1 fields, saw 25\\nSkipping line 11282: expected 1 fields, saw 25\\nSkipping line 11286: expected 1 fields, saw 25\\nSkipping line 11290: expected 1 fields, saw 25\\nSkipping line 11294: expected 1 fields, saw 26\\nSkipping line 11298: expected 1 fields, saw 26\\nSkipping line 11302: expected 1 fields, saw 26\\nSkipping line 11306: expected 1 fields, saw 26\\nSkipping line 11310: expected 1 fields, saw 26\\nSkipping line 11314: expected 1 fields, saw 25\\nSkipping line 11318: expected 1 fields, saw 26\\nSkipping line 11322: expected 1 fields, saw 25\\nSkipping line 11326: expected 1 fields, saw 25\\nSkipping line 11330: expected 1 fields, saw 25\\nSkipping line 11334: expected 1 fields, saw 26\\nSkipping line 11338: expected 1 fields, saw 25\\nSkipping line 11342: expected 1 fields, saw 25\\nSkipping line 11346: expected 1 fields, saw 25\\nSkipping line 11350: expected 1 fields, saw 25\\nSkipping line 11354: expected 1 fields, saw 25\\nSkipping line 11358: expected 1 fields, saw 25\\nSkipping line 11362: expected 1 fields, saw 26\\nSkipping line 11366: expected 1 fields, saw 25\\nSkipping line 11370: expected 1 fields, saw 26\\nSkipping line 11374: expected 1 fields, saw 25\\nSkipping line 11378: expected 1 fields, saw 25\\nSkipping line 11382: expected 1 fields, saw 26\\nSkipping line 11386: expected 1 fields, saw 25\\nSkipping line 11390: expected 1 fields, saw 26\\nSkipping line 11394: expected 1 fields, saw 25\\nSkipping line 11398: expected 1 fields, saw 26\\nSkipping line 11402: expected 1 fields, saw 25\\nSkipping line 11406: expected 1 fields, saw 26\\nSkipping line 11410: expected 1 fields, saw 27\\nSkipping line 11414: expected 1 fields, saw 25\\nSkipping line 11418: expected 1 fields, saw 25\\nSkipping line 11422: expected 1 fields, saw 25\\nSkipping line 11426: expected 1 fields, saw 25\\nSkipping line 11430: expected 1 fields, saw 25\\nSkipping line 11434: expected 1 fields, saw 26\\nSkipping line 11438: expected 1 fields, saw 25\\nSkipping line 11442: expected 1 fields, saw 26\\nSkipping line 11446: expected 1 fields, saw 26\\nSkipping line 11450: expected 1 fields, saw 26\\nSkipping line 11454: expected 1 fields, saw 26\\nSkipping line 11458: expected 1 fields, saw 26\\nSkipping line 11462: expected 1 fields, saw 26\\nSkipping line 11466: expected 1 fields, saw 25\\nSkipping line 11470: expected 1 fields, saw 25\\nSkipping line 11474: expected 1 fields, saw 25\\nSkipping line 11478: expected 1 fields, saw 25\\nSkipping line 11482: expected 1 fields, saw 26\\nSkipping line 11486: expected 1 fields, saw 26\\nSkipping line 11490: expected 1 fields, saw 25\\nSkipping line 11494: expected 1 fields, saw 26\\nSkipping line 11498: expected 1 fields, saw 25\\nSkipping line 11502: expected 1 fields, saw 25\\nSkipping line 11506: expected 1 fields, saw 27\\nSkipping line 11510: expected 1 fields, saw 26\\nSkipping line 11514: expected 1 fields, saw 26\\nSkipping line 11518: expected 1 fields, saw 25\\nSkipping line 11522: expected 1 fields, saw 26\\nSkipping line 11526: expected 1 fields, saw 26\\nSkipping line 11530: expected 1 fields, saw 27\\nSkipping line 11534: expected 1 fields, saw 26\\nSkipping line 11538: expected 1 fields, saw 25\\nSkipping line 11542: expected 1 fields, saw 25\\nSkipping line 11546: expected 1 fields, saw 25\\nSkipping line 11550: expected 1 fields, saw 26\\nSkipping line 11554: expected 1 fields, saw 25\\nSkipping line 11558: expected 1 fields, saw 26\\nSkipping line 11562: expected 1 fields, saw 26\\nSkipping line 11566: expected 1 fields, saw 25\\nSkipping line 11570: expected 1 fields, saw 25\\nSkipping line 11574: expected 1 fields, saw 25\\nSkipping line 11578: expected 1 fields, saw 25\\nSkipping line 11582: expected 1 fields, saw 25\\nSkipping line 11586: expected 1 fields, saw 27\\nSkipping line 11590: expected 1 fields, saw 26\\nSkipping line 11594: expected 1 fields, saw 25\\nSkipping line 11598: expected 1 fields, saw 26\\nSkipping line 11602: expected 1 fields, saw 25\\nSkipping line 11606: expected 1 fields, saw 26\\nSkipping line 11610: expected 1 fields, saw 25\\nSkipping line 11614: expected 1 fields, saw 25\\nSkipping line 11618: expected 1 fields, saw 27\\nSkipping line 11622: expected 1 fields, saw 25\\nSkipping line 11626: expected 1 fields, saw 25\\nSkipping line 11630: expected 1 fields, saw 25\\nSkipping line 11634: expected 1 fields, saw 25\\nSkipping line 11638: expected 1 fields, saw 25\\nSkipping line 11642: expected 1 fields, saw 25\\nSkipping line 11646: expected 1 fields, saw 26\\nSkipping line 11650: expected 1 fields, saw 25\\nSkipping line 11654: expected 1 fields, saw 25\\nSkipping line 11658: expected 1 fields, saw 25\\nSkipping line 11662: expected 1 fields, saw 26\\nSkipping line 11666: expected 1 fields, saw 26\\nSkipping line 11670: expected 1 fields, saw 25\\nSkipping line 11674: expected 1 fields, saw 25\\nSkipping line 11678: expected 1 fields, saw 25\\nSkipping line 11682: expected 1 fields, saw 25\\nSkipping line 11686: expected 1 fields, saw 25\\nSkipping line 11690: expected 1 fields, saw 25\\nSkipping line 11694: expected 1 fields, saw 25\\nSkipping line 11698: expected 1 fields, saw 26\\nSkipping line 11702: expected 1 fields, saw 25\\nSkipping line 11706: expected 1 fields, saw 25\\nSkipping line 11710: expected 1 fields, saw 26\\nSkipping line 11714: expected 1 fields, saw 26\\nSkipping line 11718: expected 1 fields, saw 26\\nSkipping line 11722: expected 1 fields, saw 25\\nSkipping line 11726: expected 1 fields, saw 25\\nSkipping line 11730: expected 1 fields, saw 26\\nSkipping line 11734: expected 1 fields, saw 25\\nSkipping line 11738: expected 1 fields, saw 26\\nSkipping line 11742: expected 1 fields, saw 26\\nSkipping line 11746: expected 1 fields, saw 26\\nSkipping line 11750: expected 1 fields, saw 25\\nSkipping line 11754: expected 1 fields, saw 25\\nSkipping line 11758: expected 1 fields, saw 26\\nSkipping line 11762: expected 1 fields, saw 25\\nSkipping line 11766: expected 1 fields, saw 26\\nSkipping line 11770: expected 1 fields, saw 26\\nSkipping line 11774: expected 1 fields, saw 26\\nSkipping line 11778: expected 1 fields, saw 25\\nSkipping line 11782: expected 1 fields, saw 25\\nSkipping line 11786: expected 1 fields, saw 26\\nSkipping line 11790: expected 1 fields, saw 25\\nSkipping line 11794: expected 1 fields, saw 26\\nSkipping line 11798: expected 1 fields, saw 25\\nSkipping line 11802: expected 1 fields, saw 25\\nSkipping line 11806: expected 1 fields, saw 26\\nSkipping line 11810: expected 1 fields, saw 25\\nSkipping line 11814: expected 1 fields, saw 25\\nSkipping line 11818: expected 1 fields, saw 25\\nSkipping line 11822: expected 1 fields, saw 27\\nSkipping line 11826: expected 1 fields, saw 25\\nSkipping line 11830: expected 1 fields, saw 26\\nSkipping line 11834: expected 1 fields, saw 25\\nSkipping line 11838: expected 1 fields, saw 26\\nSkipping line 11842: expected 1 fields, saw 26\\nSkipping line 11846: expected 1 fields, saw 27\\nSkipping line 11850: expected 1 fields, saw 26\\nSkipping line 11854: expected 1 fields, saw 25\\nSkipping line 11858: expected 1 fields, saw 25\\nSkipping line 11862: expected 1 fields, saw 25\\nSkipping line 11866: expected 1 fields, saw 26\\nSkipping line 11870: expected 1 fields, saw 25\\nSkipping line 11874: expected 1 fields, saw 26\\nSkipping line 11878: expected 1 fields, saw 26\\nSkipping line 11882: expected 1 fields, saw 26\\nSkipping line 11886: expected 1 fields, saw 25\\nSkipping line 11890: expected 1 fields, saw 25\\nSkipping line 11894: expected 1 fields, saw 25\\nSkipping line 11898: expected 1 fields, saw 25\\nSkipping line 11902: expected 1 fields, saw 25\\nSkipping line 11906: expected 1 fields, saw 26\\nSkipping line 11910: expected 1 fields, saw 25\\nSkipping line 11914: expected 1 fields, saw 25\\nSkipping line 11918: expected 1 fields, saw 25\\nSkipping line 11922: expected 1 fields, saw 26\\nSkipping line 11926: expected 1 fields, saw 25\\nSkipping line 11930: expected 1 fields, saw 26\\nSkipping line 11934: expected 1 fields, saw 27\\nSkipping line 11938: expected 1 fields, saw 25\\nSkipping line 11942: expected 1 fields, saw 25\\nSkipping line 11946: expected 1 fields, saw 25\\nSkipping line 11950: expected 1 fields, saw 25\\nSkipping line 11954: expected 1 fields, saw 25\\nSkipping line 11958: expected 1 fields, saw 26\\nSkipping line 11962: expected 1 fields, saw 25\\nSkipping line 11966: expected 1 fields, saw 26\\nSkipping line 11970: expected 1 fields, saw 25\\nSkipping line 11974: expected 1 fields, saw 25\\nSkipping line 11978: expected 1 fields, saw 26\\nSkipping line 11982: expected 1 fields, saw 26\\nSkipping line 11986: expected 1 fields, saw 26\\nSkipping line 11990: expected 1 fields, saw 26\\nSkipping line 11994: expected 1 fields, saw 25\\nSkipping line 11998: expected 1 fields, saw 25\\nSkipping line 12002: expected 1 fields, saw 25\\nSkipping line 12006: expected 1 fields, saw 27\\nSkipping line 12010: expected 1 fields, saw 27\\nSkipping line 12014: expected 1 fields, saw 25\\nSkipping line 12018: expected 1 fields, saw 27\\nSkipping line 12022: expected 1 fields, saw 25\\nSkipping line 12026: expected 1 fields, saw 26\\nSkipping line 12030: expected 1 fields, saw 26\\nSkipping line 12034: expected 1 fields, saw 27\\nSkipping line 12038: expected 1 fields, saw 25\\nSkipping line 12042: expected 1 fields, saw 25\\nSkipping line 12046: expected 1 fields, saw 25\\nSkipping line 12050: expected 1 fields, saw 25\\nSkipping line 12054: expected 1 fields, saw 26\\nSkipping line 12058: expected 1 fields, saw 26\\nSkipping line 12062: expected 1 fields, saw 25\\nSkipping line 12066: expected 1 fields, saw 25\\nSkipping line 12070: expected 1 fields, saw 26\\nSkipping line 12074: expected 1 fields, saw 25\\nSkipping line 12078: expected 1 fields, saw 25\\nSkipping line 12082: expected 1 fields, saw 27\\nSkipping line 12086: expected 1 fields, saw 27\\nSkipping line 12090: expected 1 fields, saw 26\\nSkipping line 12094: expected 1 fields, saw 25\\nSkipping line 12098: expected 1 fields, saw 25\\nSkipping line 12102: expected 1 fields, saw 25\\nSkipping line 12106: expected 1 fields, saw 26\\nSkipping line 12110: expected 1 fields, saw 25\\nSkipping line 12114: expected 1 fields, saw 26\\nSkipping line 12118: expected 1 fields, saw 26\\nSkipping line 12122: expected 1 fields, saw 25\\nSkipping line 12126: expected 1 fields, saw 25\\nSkipping line 12130: expected 1 fields, saw 26\\nSkipping line 12134: expected 1 fields, saw 27\\nSkipping line 12138: expected 1 fields, saw 26\\nSkipping line 12142: expected 1 fields, saw 26\\nSkipping line 12146: expected 1 fields, saw 25\\nSkipping line 12150: expected 1 fields, saw 25\\nSkipping line 12154: expected 1 fields, saw 26\\nSkipping line 12158: expected 1 fields, saw 25\\nSkipping line 12162: expected 1 fields, saw 26\\nSkipping line 12166: expected 1 fields, saw 25\\nSkipping line 12170: expected 1 fields, saw 25\\nSkipping line 12174: expected 1 fields, saw 25\\nSkipping line 12178: expected 1 fields, saw 26\\nSkipping line 12182: expected 1 fields, saw 25\\nSkipping line 12186: expected 1 fields, saw 26\\nSkipping line 12190: expected 1 fields, saw 26\\nSkipping line 12194: expected 1 fields, saw 25\\nSkipping line 12198: expected 1 fields, saw 25\\nSkipping line 12202: expected 1 fields, saw 25\\nSkipping line 12206: expected 1 fields, saw 25\\nSkipping line 12210: expected 1 fields, saw 25\\nSkipping line 12214: expected 1 fields, saw 26\\nSkipping line 12218: expected 1 fields, saw 25\\nSkipping line 12222: expected 1 fields, saw 26\\nSkipping line 12226: expected 1 fields, saw 25\\nSkipping line 12230: expected 1 fields, saw 25\\nSkipping line 12234: expected 1 fields, saw 27\\nSkipping line 12238: expected 1 fields, saw 26\\nSkipping line 12242: expected 1 fields, saw 26\\nSkipping line 12246: expected 1 fields, saw 25\\nSkipping line 12250: expected 1 fields, saw 26\\nSkipping line 12254: expected 1 fields, saw 26\\nSkipping line 12258: expected 1 fields, saw 27\\nSkipping line 12262: expected 1 fields, saw 26\\nSkipping line 12266: expected 1 fields, saw 25\\nSkipping line 12270: expected 1 fields, saw 25\\nSkipping line 12274: expected 1 fields, saw 25\\nSkipping line 12278: expected 1 fields, saw 25\\nSkipping line 12282: expected 1 fields, saw 25\\nSkipping line 12286: expected 1 fields, saw 26\\nSkipping line 12290: expected 1 fields, saw 26\\nSkipping line 12294: expected 1 fields, saw 26\\nSkipping line 12298: expected 1 fields, saw 25\\nSkipping line 12302: expected 1 fields, saw 25\\nSkipping line 12306: expected 1 fields, saw 25\\nSkipping line 12310: expected 1 fields, saw 25\\nSkipping line 12314: expected 1 fields, saw 26\\nSkipping line 12318: expected 1 fields, saw 26\\nSkipping line 12322: expected 1 fields, saw 25\\nSkipping line 12326: expected 1 fields, saw 26\\nSkipping line 12330: expected 1 fields, saw 25\\nSkipping line 12334: expected 1 fields, saw 26\\nSkipping line 12338: expected 1 fields, saw 25\\nSkipping line 12342: expected 1 fields, saw 26\\nSkipping line 12346: expected 1 fields, saw 27\\nSkipping line 12350: expected 1 fields, saw 25\\nSkipping line 12354: expected 1 fields, saw 25\\nSkipping line 12358: expected 1 fields, saw 25\\nSkipping line 12362: expected 1 fields, saw 25\\nSkipping line 12366: expected 1 fields, saw 25\\nSkipping line 12370: expected 1 fields, saw 26\\nSkipping line 12374: expected 1 fields, saw 25\\nSkipping line 12378: expected 1 fields, saw 26\\nSkipping line 12382: expected 1 fields, saw 26\\nSkipping line 12386: expected 1 fields, saw 25\\nSkipping line 12390: expected 1 fields, saw 25\\nSkipping line 12394: expected 1 fields, saw 26\\nSkipping line 12398: expected 1 fields, saw 26\\nSkipping line 12402: expected 1 fields, saw 26\\nSkipping line 12406: expected 1 fields, saw 25\\nSkipping line 12410: expected 1 fields, saw 25\\nSkipping line 12414: expected 1 fields, saw 25\\nSkipping line 12418: expected 1 fields, saw 27\\nSkipping line 12422: expected 1 fields, saw 26\\nSkipping line 12426: expected 1 fields, saw 25\\nSkipping line 12430: expected 1 fields, saw 26\\nSkipping line 12434: expected 1 fields, saw 25\\nSkipping line 12438: expected 1 fields, saw 26\\nSkipping line 12442: expected 1 fields, saw 25\\nSkipping line 12446: expected 1 fields, saw 26\\nSkipping line 12450: expected 1 fields, saw 27\\nSkipping line 12454: expected 1 fields, saw 25\\nSkipping line 12458: expected 1 fields, saw 25\\nSkipping line 12462: expected 1 fields, saw 25\\nSkipping line 12466: expected 1 fields, saw 25\\nSkipping line 12470: expected 1 fields, saw 25\\nSkipping line 12474: expected 1 fields, saw 26\\nSkipping line 12478: expected 1 fields, saw 25\\nSkipping line 12482: expected 1 fields, saw 26\\nSkipping line 12486: expected 1 fields, saw 26\\nSkipping line 12490: expected 1 fields, saw 25\\nSkipping line 12494: expected 1 fields, saw 25\\nSkipping line 12498: expected 1 fields, saw 26\\nSkipping line 12502: expected 1 fields, saw 26\\nSkipping line 12506: expected 1 fields, saw 26\\nSkipping line 12510: expected 1 fields, saw 25\\nSkipping line 12514: expected 1 fields, saw 25\\nSkipping line 12518: expected 1 fields, saw 25\\nSkipping line 12522: expected 1 fields, saw 25\\nSkipping line 12526: expected 1 fields, saw 25\\nSkipping line 12530: expected 1 fields, saw 25\\nSkipping line 12534: expected 1 fields, saw 26\\nSkipping line 12538: expected 1 fields, saw 25\\nSkipping line 12542: expected 1 fields, saw 25\\nSkipping line 12546: expected 1 fields, saw 25\\nSkipping line 12550: expected 1 fields, saw 27\\nSkipping line 12554: expected 1 fields, saw 25\\nSkipping line 12558: expected 1 fields, saw 26\\nSkipping line 12562: expected 1 fields, saw 25\\nSkipping line 12566: expected 1 fields, saw 26\\nSkipping line 12570: expected 1 fields, saw 26\\nSkipping line 12574: expected 1 fields, saw 27\\nSkipping line 12578: expected 1 fields, saw 26\\nSkipping line 12582: expected 1 fields, saw 25\\nSkipping line 12586: expected 1 fields, saw 25\\nSkipping line 12590: expected 1 fields, saw 25\\nSkipping line 12594: expected 1 fields, saw 26\\nSkipping line 12598: expected 1 fields, saw 25\\nSkipping line 12602: expected 1 fields, saw 26\\nSkipping line 12606: expected 1 fields, saw 26\\nSkipping line 12610: expected 1 fields, saw 26\\nSkipping line 12614: expected 1 fields, saw 25\\nSkipping line 12618: expected 1 fields, saw 25\\nSkipping line 12622: expected 1 fields, saw 25\\nSkipping line 12626: expected 1 fields, saw 25\\nSkipping line 12630: expected 1 fields, saw 25\\nSkipping line 12634: expected 1 fields, saw 25\\nSkipping line 12638: expected 1 fields, saw 25\\nSkipping line 12642: expected 1 fields, saw 26\\nSkipping line 12646: expected 1 fields, saw 25\\nSkipping line 12650: expected 1 fields, saw 25\\nSkipping line 12654: expected 1 fields, saw 26\\nSkipping line 12658: expected 1 fields, saw 26\\nSkipping line 12662: expected 1 fields, saw 26\\nSkipping line 12666: expected 1 fields, saw 25\\nSkipping line 12670: expected 1 fields, saw 25\\nSkipping line 12674: expected 1 fields, saw 26\\nSkipping line 12678: expected 1 fields, saw 25\\nSkipping line 12682: expected 1 fields, saw 26\\nSkipping line 12686: expected 1 fields, saw 26\\nSkipping line 12690: expected 1 fields, saw 26\\nSkipping line 12694: expected 1 fields, saw 25\\nSkipping line 12698: expected 1 fields, saw 25\\nSkipping line 12702: expected 1 fields, saw 26\\nSkipping line 12706: expected 1 fields, saw 25\\nSkipping line 12710: expected 1 fields, saw 26\\nSkipping line 12714: expected 1 fields, saw 26\\nSkipping line 12718: expected 1 fields, saw 26\\nSkipping line 12722: expected 1 fields, saw 25\\nSkipping line 12726: expected 1 fields, saw 25\\nSkipping line 12730: expected 1 fields, saw 26\\nSkipping line 12734: expected 1 fields, saw 25\\nSkipping line 12738: expected 1 fields, saw 27\\nSkipping line 12742: expected 1 fields, saw 26\\nSkipping line 12746: expected 1 fields, saw 25\\nSkipping line 12750: expected 1 fields, saw 26\\nSkipping line 12754: expected 1 fields, saw 25\\nSkipping line 12758: expected 1 fields, saw 26\\nSkipping line 12762: expected 1 fields, saw 25\\nSkipping line 12766: expected 1 fields, saw 26\\nSkipping line 12770: expected 1 fields, saw 27\\nSkipping line 12774: expected 1 fields, saw 25\\nSkipping line 12778: expected 1 fields, saw 25\\nSkipping line 12782: expected 1 fields, saw 25\\nSkipping line 12786: expected 1 fields, saw 25\\nSkipping line 12790: expected 1 fields, saw 25\\nSkipping line 12794: expected 1 fields, saw 26\\nSkipping line 12798: expected 1 fields, saw 25\\nSkipping line 12802: expected 1 fields, saw 26\\nSkipping line 12806: expected 1 fields, saw 26\\nSkipping line 12810: expected 1 fields, saw 25\\nSkipping line 12814: expected 1 fields, saw 25\\nSkipping line 12818: expected 1 fields, saw 26\\nSkipping line 12822: expected 1 fields, saw 26\\nSkipping line 12826: expected 1 fields, saw 26\\nSkipping line 12830: expected 1 fields, saw 25\\nSkipping line 12834: expected 1 fields, saw 25\\nSkipping line 12911: expected 1 fields, saw 2\\nSkipping line 12919: expected 1 fields, saw 3\\nSkipping line 12920: expected 1 fields, saw 3\\nSkipping line 12921: expected 1 fields, saw 3\\nSkipping line 12922: expected 1 fields, saw 3\\nSkipping line 12923: expected 1 fields, saw 3\\nSkipping line 12924: expected 1 fields, saw 3\\nSkipping line 12925: expected 1 fields, saw 3\\nSkipping line 12926: expected 1 fields, saw 3\\nSkipping line 12927: expected 1 fields, saw 3\\nSkipping line 12928: expected 1 fields, saw 3\\nSkipping line 12929: expected 1 fields, saw 3\\n'\n"
     ]
    }
   ],
   "source": [
    "import pandas as pd\n",
    "sales = pd.read_csv(\"https://github.com/AllThingsDataWithAngelina/DataSource/blob/main/sales_data_sample.csv\", error_bad_lines = False)"
   ]
  },
  {
   "cell_type": "code",
   "execution_count": 30,
   "metadata": {},
   "outputs": [],
   "source": [
    "sales.to_csv('sales.csv')"
   ]
  },
  {
   "cell_type": "code",
   "execution_count": null,
   "metadata": {},
   "outputs": [],
   "source": []
  }
 ],
 "metadata": {
  "kernelspec": {
   "display_name": "Python 3",
   "language": "python",
   "name": "python3"
  },
  "language_info": {
   "codemirror_mode": {
    "name": "ipython",
    "version": 3
   },
   "file_extension": ".py",
   "mimetype": "text/x-python",
   "name": "python",
   "nbconvert_exporter": "python",
   "pygments_lexer": "ipython3",
   "version": "3.8.5"
  }
 },
 "nbformat": 4,
 "nbformat_minor": 4
}
